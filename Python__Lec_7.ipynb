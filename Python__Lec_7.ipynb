{
  "nbformat": 4,
  "nbformat_minor": 0,
  "metadata": {
    "colab": {
      "provenance": []
    },
    "kernelspec": {
      "name": "python3",
      "display_name": "Python 3"
    },
    "language_info": {
      "name": "python"
    }
  },
  "cells": [
    {
      "cell_type": "markdown",
      "source": [
        "# Agenda:\n",
        "\n",
        "1. str introduction\n",
        "\n",
        "2. creating str oject\n",
        "\n",
        "3. indexing\n",
        "\n",
        "4. accessing str elements\n",
        "\n",
        "5. built-in methods\n",
        "\n",
        "6. concatenation and repetition\n",
        "\n",
        "7. camparison operator\n",
        "\n",
        "8. str object methods"
      ],
      "metadata": {
        "id": "cFprKcw8v_iD"
      }
    },
    {
      "cell_type": "markdown",
      "source": [
        "# what is str ?\n",
        "\n",
        "### str is a class name.\n",
        "\n",
        "### In Python, str is a built-in data type used to represent text (strings).\n",
        "It stores sequences of characters like letters, numbers, or symbols enclosed in single, double, or triple quotes.\n",
        "Example: name = \"Muhammad Suleman\" is a string variable.\n",
        "\n",
        "1. str is a clss\n",
        "\n",
        "2. str is immutable\n",
        "\n",
        "3. str is iterable\n",
        "\n",
        "4. str is hashable\n",
        "\n",
        "5. str is a sequence\n",
        "\n"
      ],
      "metadata": {
        "id": "E6eR9GHGwkus"
      }
    },
    {
      "cell_type": "markdown",
      "source": [
        "# How to create str object ?\n",
        "\n",
        "S1 = \"Suleman\"\n",
        "\n",
        "S2 = 'Suleman'\n",
        "\n",
        "S3 = \" \" \"PythonCoursr\" \" \"\n",
        "\n",
        "S4 = ' ' 'PythonCoursr' ' '\n",
        "\n",
        "S5 = str( ) # empty string obj\n",
        "\n",
        "S6 = str( 125 )\n",
        "\n",
        "S7 = str ( 3.45 )"
      ],
      "metadata": {
        "id": "2D5LY39PxB8D"
      }
    },
    {
      "cell_type": "code",
      "source": [
        "s1  = \"Suleman\"\n",
        "s2 = 'Suleman'\n",
        "\n",
        "type(s1)\n",
        "type(s2)"
      ],
      "metadata": {
        "colab": {
          "base_uri": "https://localhost:8080/"
        },
        "id": "HsA3L_ZIyRPN",
        "outputId": "02979b35-17df-47d8-b1ab-1752db1b54ef"
      },
      "execution_count": null,
      "outputs": [
        {
          "output_type": "execute_result",
          "data": {
            "text/plain": [
              "str"
            ]
          },
          "metadata": {},
          "execution_count": 3
        }
      ]
    },
    {
      "cell_type": "code",
      "source": [
        "s1  = \"\"\"Suleman\"\"\"\n",
        "type(s1)"
      ],
      "metadata": {
        "colab": {
          "base_uri": "https://localhost:8080/"
        },
        "id": "0dGL109AydKD",
        "outputId": "561f4001-d083-4660-dcab-97c27653604d"
      },
      "execution_count": null,
      "outputs": [
        {
          "output_type": "execute_result",
          "data": {
            "text/plain": [
              "str"
            ]
          },
          "metadata": {},
          "execution_count": 4
        }
      ]
    },
    {
      "cell_type": "code",
      "source": [
        "s1  = '''Suleman'''\n",
        "type(s1)"
      ],
      "metadata": {
        "colab": {
          "base_uri": "https://localhost:8080/"
        },
        "id": "k2PSn5fkyi4r",
        "outputId": "ceaafc85-05db-4612-9176-70b4b51edccc"
      },
      "execution_count": null,
      "outputs": [
        {
          "output_type": "execute_result",
          "data": {
            "text/plain": [
              "str"
            ]
          },
          "metadata": {},
          "execution_count": 5
        }
      ]
    },
    {
      "cell_type": "code",
      "source": [
        "s1  = str()\n",
        "s1\n",
        "# type(s1)"
      ],
      "metadata": {
        "colab": {
          "base_uri": "https://localhost:8080/",
          "height": 36
        },
        "id": "CeK-2oFQyovM",
        "outputId": "88f1fcc8-d100-4917-eb9b-02962fe495a0"
      },
      "execution_count": null,
      "outputs": [
        {
          "output_type": "execute_result",
          "data": {
            "text/plain": [
              "''"
            ],
            "application/vnd.google.colaboratory.intrinsic+json": {
              "type": "string"
            }
          },
          "metadata": {},
          "execution_count": 10
        }
      ]
    },
    {
      "cell_type": "code",
      "source": [
        "s1  = str(123)\n",
        "s1\n",
        "type(s1)"
      ],
      "metadata": {
        "colab": {
          "base_uri": "https://localhost:8080/"
        },
        "id": "1JmoSrVRy3kj",
        "outputId": "342ce3cd-0424-452a-a21c-2c7252b1600c"
      },
      "execution_count": null,
      "outputs": [
        {
          "output_type": "execute_result",
          "data": {
            "text/plain": [
              "str"
            ]
          },
          "metadata": {},
          "execution_count": 12
        }
      ]
    },
    {
      "cell_type": "code",
      "source": [
        "s1  = str(True)\n",
        "s1\n"
      ],
      "metadata": {
        "colab": {
          "base_uri": "https://localhost:8080/",
          "height": 36
        },
        "id": "x44-jhE7zABM",
        "outputId": "6e512fe8-e13b-4285-d65d-bb9081b5718f"
      },
      "execution_count": null,
      "outputs": [
        {
          "output_type": "execute_result",
          "data": {
            "text/plain": [
              "'True'"
            ],
            "application/vnd.google.colaboratory.intrinsic+json": {
              "type": "string"
            }
          },
          "metadata": {},
          "execution_count": 13
        }
      ]
    },
    {
      "cell_type": "code",
      "source": [
        "s1  = str([11,22,44,56]) # as a string\n",
        "s1\n"
      ],
      "metadata": {
        "colab": {
          "base_uri": "https://localhost:8080/",
          "height": 36
        },
        "id": "RmdUd7BzzCm1",
        "outputId": "6fc7291b-9c3a-40a7-d27f-8f35ccd2f7dd"
      },
      "execution_count": null,
      "outputs": [
        {
          "output_type": "execute_result",
          "data": {
            "text/plain": [
              "'[11, 22, 44, 56]'"
            ],
            "application/vnd.google.colaboratory.intrinsic+json": {
              "type": "string"
            }
          },
          "metadata": {},
          "execution_count": 14
        }
      ]
    },
    {
      "cell_type": "markdown",
      "source": [
        "# indexing concept in str"
      ],
      "metadata": {
        "id": "etZYe-DVzKUs"
      }
    },
    {
      "cell_type": "code",
      "source": [
        "s1 = \"Suleman\" # it has +ve and -ve indexed.\n",
        "\n",
        "s1[0]\n",
        "s1[-1] # -1\n",
        "s1[2]\n",
        "s1[4]"
      ],
      "metadata": {
        "colab": {
          "base_uri": "https://localhost:8080/",
          "height": 36
        },
        "id": "AbyRQVmhzOGj",
        "outputId": "e995a815-7524-42de-c587-9e46a13906c2"
      },
      "execution_count": null,
      "outputs": [
        {
          "output_type": "execute_result",
          "data": {
            "text/plain": [
              "'m'"
            ],
            "application/vnd.google.colaboratory.intrinsic+json": {
              "type": "string"
            }
          },
          "metadata": {},
          "execution_count": 15
        }
      ]
    },
    {
      "cell_type": "markdown",
      "source": [
        "# Accessing str elements\n",
        "\n",
        "1. str [index] # index should be valid\n",
        "\n",
        "2. print ( s1 )\n",
        "\n",
        "3. for loop\n",
        "\n",
        "4. slicing operator\n",
        "\n"
      ],
      "metadata": {
        "id": "fv0e4611zrzT"
      }
    },
    {
      "cell_type": "code",
      "source": [
        "s1 = \"Suleman\"\n",
        "\n",
        "s1[8] #error"
      ],
      "metadata": {
        "colab": {
          "base_uri": "https://localhost:8080/",
          "height": 176
        },
        "id": "697TaXV-0A30",
        "outputId": "01954cd3-c068-4d3b-f355-95658686b1ac"
      },
      "execution_count": null,
      "outputs": [
        {
          "output_type": "error",
          "ename": "IndexError",
          "evalue": "string index out of range",
          "traceback": [
            "\u001b[0;31m---------------------------------------------------------------------------\u001b[0m",
            "\u001b[0;31mIndexError\u001b[0m                                Traceback (most recent call last)",
            "\u001b[0;32m<ipython-input-16-0afb8a3baaf2>\u001b[0m in \u001b[0;36m<cell line: 0>\u001b[0;34m()\u001b[0m\n\u001b[1;32m      1\u001b[0m \u001b[0ms1\u001b[0m \u001b[0;34m=\u001b[0m \u001b[0;34m\"Suleman\"\u001b[0m\u001b[0;34m\u001b[0m\u001b[0;34m\u001b[0m\u001b[0m\n\u001b[1;32m      2\u001b[0m \u001b[0;34m\u001b[0m\u001b[0m\n\u001b[0;32m----> 3\u001b[0;31m \u001b[0ms1\u001b[0m\u001b[0;34m[\u001b[0m\u001b[0;36m8\u001b[0m\u001b[0;34m]\u001b[0m \u001b[0;31m#error\u001b[0m\u001b[0;34m\u001b[0m\u001b[0;34m\u001b[0m\u001b[0m\n\u001b[0m",
            "\u001b[0;31mIndexError\u001b[0m: string index out of range"
          ]
        }
      ]
    },
    {
      "cell_type": "code",
      "source": [
        "print(s1) # it will print whole string"
      ],
      "metadata": {
        "colab": {
          "base_uri": "https://localhost:8080/"
        },
        "id": "IivA8GoM0H57",
        "outputId": "f51f43cc-2674-4279-e3a1-813a138e6898"
      },
      "execution_count": null,
      "outputs": [
        {
          "output_type": "stream",
          "name": "stdout",
          "text": [
            "Suleman\n"
          ]
        }
      ]
    },
    {
      "cell_type": "code",
      "source": [
        "#using for loop.\n",
        "\n",
        "for e in s1:\n",
        "\n",
        "   print(e, end= ' ')"
      ],
      "metadata": {
        "colab": {
          "base_uri": "https://localhost:8080/"
        },
        "id": "S-VDuKt90P37",
        "outputId": "6b3aff35-be64-493f-b309-b7c91f9b4d3b"
      },
      "execution_count": null,
      "outputs": [
        {
          "output_type": "stream",
          "name": "stdout",
          "text": [
            "S u l e m a n "
          ]
        }
      ]
    },
    {
      "cell_type": "markdown",
      "source": [
        "# using slicing operator\n",
        "\n",
        "Syntax:\n",
        "\n",
        "strObject [beg : end: step]"
      ],
      "metadata": {
        "id": "XZPC2eUG0h2k"
      }
    },
    {
      "cell_type": "code",
      "source": [
        "s1 = \"Suleman\"\n",
        "s1[1:3:1]"
      ],
      "metadata": {
        "colab": {
          "base_uri": "https://localhost:8080/",
          "height": 36
        },
        "id": "LEcXs7b00oL8",
        "outputId": "6f88404d-1508-49a1-8372-452047974e29"
      },
      "execution_count": null,
      "outputs": [
        {
          "output_type": "execute_result",
          "data": {
            "text/plain": [
              "'ul'"
            ],
            "application/vnd.google.colaboratory.intrinsic+json": {
              "type": "string"
            }
          },
          "metadata": {},
          "execution_count": 20
        }
      ]
    },
    {
      "cell_type": "code",
      "source": [
        "s1 = \"Suleman\"\n",
        "s1[3:1]"
      ],
      "metadata": {
        "colab": {
          "base_uri": "https://localhost:8080/",
          "height": 36
        },
        "id": "0TlJLEXl09Um",
        "outputId": "28c12920-4b47-4c2a-952e-9323146e4168"
      },
      "execution_count": null,
      "outputs": [
        {
          "output_type": "execute_result",
          "data": {
            "text/plain": [
              "''"
            ],
            "application/vnd.google.colaboratory.intrinsic+json": {
              "type": "string"
            }
          },
          "metadata": {},
          "execution_count": 22
        }
      ]
    },
    {
      "cell_type": "code",
      "source": [
        "s1 = \"Suleman\"\n",
        "s1[:]"
      ],
      "metadata": {
        "colab": {
          "base_uri": "https://localhost:8080/",
          "height": 36
        },
        "id": "MfR2nnGw1Nks",
        "outputId": "80ac145a-7002-4f23-b5f2-4e291ca786c8"
      },
      "execution_count": null,
      "outputs": [
        {
          "output_type": "execute_result",
          "data": {
            "text/plain": [
              "'Suleman'"
            ],
            "application/vnd.google.colaboratory.intrinsic+json": {
              "type": "string"
            }
          },
          "metadata": {},
          "execution_count": 23
        }
      ]
    },
    {
      "cell_type": "code",
      "source": [
        "s1 = \"Suleman\"\n",
        "s1[:6]"
      ],
      "metadata": {
        "colab": {
          "base_uri": "https://localhost:8080/",
          "height": 36
        },
        "id": "z6E0FU421QcF",
        "outputId": "18e4d6d7-e605-460f-9fc2-b2477782a1e3"
      },
      "execution_count": null,
      "outputs": [
        {
          "output_type": "execute_result",
          "data": {
            "text/plain": [
              "'Sulema'"
            ],
            "application/vnd.google.colaboratory.intrinsic+json": {
              "type": "string"
            }
          },
          "metadata": {},
          "execution_count": 25
        }
      ]
    },
    {
      "cell_type": "code",
      "source": [
        "s1 = \"Suleman\"\n",
        "s1[::-1]"
      ],
      "metadata": {
        "colab": {
          "base_uri": "https://localhost:8080/",
          "height": 36
        },
        "id": "0LobAsoO1XMz",
        "outputId": "0a3361b6-069b-4bf3-8bba-d2ecd3bc07ab"
      },
      "execution_count": null,
      "outputs": [
        {
          "output_type": "execute_result",
          "data": {
            "text/plain": [
              "'nameluS'"
            ],
            "application/vnd.google.colaboratory.intrinsic+json": {
              "type": "string"
            }
          },
          "metadata": {},
          "execution_count": 26
        }
      ]
    },
    {
      "cell_type": "code",
      "source": [
        "s1 = \"Suleman\"\n",
        "s1[-4]"
      ],
      "metadata": {
        "colab": {
          "base_uri": "https://localhost:8080/",
          "height": 36
        },
        "id": "nILKACXX1nG0",
        "outputId": "ddc030d5-ac4d-4352-b16e-abc4f8482fdf"
      },
      "execution_count": null,
      "outputs": [
        {
          "output_type": "execute_result",
          "data": {
            "text/plain": [
              "'e'"
            ],
            "application/vnd.google.colaboratory.intrinsic+json": {
              "type": "string"
            }
          },
          "metadata": {},
          "execution_count": 27
        }
      ]
    },
    {
      "cell_type": "code",
      "source": [
        "s1 = \"Suleman\"\n",
        "s1[4]"
      ],
      "metadata": {
        "colab": {
          "base_uri": "https://localhost:8080/",
          "height": 36
        },
        "id": "3BMShzu11ryV",
        "outputId": "ae61ac00-a266-4a31-bac3-7594c4d3514a"
      },
      "execution_count": null,
      "outputs": [
        {
          "output_type": "execute_result",
          "data": {
            "text/plain": [
              "'m'"
            ],
            "application/vnd.google.colaboratory.intrinsic+json": {
              "type": "string"
            }
          },
          "metadata": {},
          "execution_count": 28
        }
      ]
    },
    {
      "cell_type": "markdown",
      "source": [
        "#built in methods:\n",
        "\n",
        "len( )\n",
        "\n",
        "min( )\n",
        "\n",
        "max( )\n",
        "\n",
        "sum( )\n",
        "\n",
        "sorted ( )\n",
        "\n",
        "\n"
      ],
      "metadata": {
        "id": "0sproOTo1v9c"
      }
    },
    {
      "cell_type": "code",
      "source": [
        "s1 = \"Suleman\"\n",
        "len(s1)"
      ],
      "metadata": {
        "colab": {
          "base_uri": "https://localhost:8080/"
        },
        "id": "tkix9Kdc2Ez8",
        "outputId": "67da76ee-1f4a-4a2d-ed11-855fb3a323f6"
      },
      "execution_count": null,
      "outputs": [
        {
          "output_type": "execute_result",
          "data": {
            "text/plain": [
              "7"
            ]
          },
          "metadata": {},
          "execution_count": 29
        }
      ]
    },
    {
      "cell_type": "code",
      "source": [
        "s1 = \"Suleman\" #return the min unicode of letter\n",
        "min(s1)"
      ],
      "metadata": {
        "colab": {
          "base_uri": "https://localhost:8080/",
          "height": 36
        },
        "id": "W9EiFlkr2I2T",
        "outputId": "fcc68347-fe60-4509-8b9d-4b91e1f76d59"
      },
      "execution_count": null,
      "outputs": [
        {
          "output_type": "execute_result",
          "data": {
            "text/plain": [
              "'S'"
            ],
            "application/vnd.google.colaboratory.intrinsic+json": {
              "type": "string"
            }
          },
          "metadata": {},
          "execution_count": 30
        }
      ]
    },
    {
      "cell_type": "code",
      "source": [
        "s1 = \"Suleman\" #return the max unicode of letter\n",
        "max(s1)"
      ],
      "metadata": {
        "colab": {
          "base_uri": "https://localhost:8080/",
          "height": 36
        },
        "id": "eK_6f7-U2Nmd",
        "outputId": "73ac2e83-1acb-4902-f35a-81c7b4b078a9"
      },
      "execution_count": null,
      "outputs": [
        {
          "output_type": "execute_result",
          "data": {
            "text/plain": [
              "'u'"
            ],
            "application/vnd.google.colaboratory.intrinsic+json": {
              "type": "string"
            }
          },
          "metadata": {},
          "execution_count": 31
        }
      ]
    },
    {
      "cell_type": "code",
      "source": [
        "s1 = \"Suleman\"\n",
        "sum(s1) #error"
      ],
      "metadata": {
        "colab": {
          "base_uri": "https://localhost:8080/",
          "height": 158
        },
        "id": "NP0e-Skk4cyt",
        "outputId": "edf374e6-0144-4e95-f279-537481401c29"
      },
      "execution_count": null,
      "outputs": [
        {
          "output_type": "error",
          "ename": "TypeError",
          "evalue": "unsupported operand type(s) for +: 'int' and 'str'",
          "traceback": [
            "\u001b[0;31m---------------------------------------------------------------------------\u001b[0m",
            "\u001b[0;31mTypeError\u001b[0m                                 Traceback (most recent call last)",
            "\u001b[0;32m<ipython-input-33-35138a310bc4>\u001b[0m in \u001b[0;36m<cell line: 0>\u001b[0;34m()\u001b[0m\n\u001b[1;32m      1\u001b[0m \u001b[0ms1\u001b[0m \u001b[0;34m=\u001b[0m \u001b[0;34m\"Suleman\"\u001b[0m\u001b[0;34m\u001b[0m\u001b[0;34m\u001b[0m\u001b[0m\n\u001b[0;32m----> 2\u001b[0;31m \u001b[0msum\u001b[0m\u001b[0;34m(\u001b[0m\u001b[0ms1\u001b[0m\u001b[0;34m)\u001b[0m \u001b[0;31m#error\u001b[0m\u001b[0;34m\u001b[0m\u001b[0;34m\u001b[0m\u001b[0m\n\u001b[0m",
            "\u001b[0;31mTypeError\u001b[0m: unsupported operand type(s) for +: 'int' and 'str'"
          ]
        }
      ]
    },
    {
      "cell_type": "code",
      "source": [
        "s1 = \"Suleman\"\n",
        "sorted(s1) # will return new str in sorted order but s1 is same."
      ],
      "metadata": {
        "colab": {
          "base_uri": "https://localhost:8080/"
        },
        "id": "t-ui7EAx4lEs",
        "outputId": "96bd9044-4116-4de1-b5ba-052dfc0cda31"
      },
      "execution_count": null,
      "outputs": [
        {
          "output_type": "execute_result",
          "data": {
            "text/plain": [
              "['S', 'a', 'e', 'l', 'm', 'n', 'u']"
            ]
          },
          "metadata": {},
          "execution_count": 34
        }
      ]
    },
    {
      "cell_type": "markdown",
      "source": [
        "# Concatenation and Repetition Operator"
      ],
      "metadata": {
        "id": "OwB7mmzK43iM"
      }
    },
    {
      "cell_type": "code",
      "source": [
        "S1 = \"ABC\"\n",
        "\n",
        "S2 = \"DE\"\n",
        "\n",
        "S1+S2 #conactenation"
      ],
      "metadata": {
        "colab": {
          "base_uri": "https://localhost:8080/",
          "height": 36
        },
        "id": "xbYJHO_55ADF",
        "outputId": "b5e3ac2e-7a96-4a5b-e10d-de5ef188bb86"
      },
      "execution_count": null,
      "outputs": [
        {
          "output_type": "execute_result",
          "data": {
            "text/plain": [
              "'ABCDE'"
            ],
            "application/vnd.google.colaboratory.intrinsic+json": {
              "type": "string"
            }
          },
          "metadata": {},
          "execution_count": 35
        }
      ]
    },
    {
      "cell_type": "code",
      "source": [
        "S1*3\n",
        "\n",
        "\n"
      ],
      "metadata": {
        "colab": {
          "base_uri": "https://localhost:8080/",
          "height": 36
        },
        "id": "U_Fc2Fgf5IBE",
        "outputId": "47bc9a1a-4e6b-48cf-f80a-868c6ea72f85"
      },
      "execution_count": null,
      "outputs": [
        {
          "output_type": "execute_result",
          "data": {
            "text/plain": [
              "'ABCABCABC'"
            ],
            "application/vnd.google.colaboratory.intrinsic+json": {
              "type": "string"
            }
          },
          "metadata": {},
          "execution_count": 39
        }
      ]
    },
    {
      "cell_type": "code",
      "source": [
        "S2*3 # repetiton"
      ],
      "metadata": {
        "colab": {
          "base_uri": "https://localhost:8080/",
          "height": 36
        },
        "id": "9KkgBY4D5W6U",
        "outputId": "b8495bcb-a197-4226-fac1-f0f5fdb5b2bb"
      },
      "execution_count": null,
      "outputs": [
        {
          "output_type": "execute_result",
          "data": {
            "text/plain": [
              "'DEDEDE'"
            ],
            "application/vnd.google.colaboratory.intrinsic+json": {
              "type": "string"
            }
          },
          "metadata": {},
          "execution_count": 41
        }
      ]
    },
    {
      "cell_type": "markdown",
      "source": [
        "# Comparison operator\n",
        "\n",
        "S1 > S2\n",
        "\n",
        "\n",
        "1. True if S1 comes after S2 in dictionary order."
      ],
      "metadata": {
        "id": "2qZ3ojUo5tu0"
      }
    },
    {
      "cell_type": "code",
      "source": [
        "S1 = \"Usman\"\n",
        "\n",
        "S2 = \"Ali\" # yes usman alphabatically comes first in dictionary order so it is true.\n",
        "\n",
        "S1 > S2"
      ],
      "metadata": {
        "colab": {
          "base_uri": "https://localhost:8080/"
        },
        "id": "WjrGRmPh5x-l",
        "outputId": "f962922b-74cc-49ed-bbc1-7527782ff0b6"
      },
      "execution_count": null,
      "outputs": [
        {
          "output_type": "execute_result",
          "data": {
            "text/plain": [
              "True"
            ]
          },
          "metadata": {},
          "execution_count": 45
        }
      ]
    },
    {
      "cell_type": "markdown",
      "source": [
        "# str object methods\n",
        "\n",
        "1. index ( )\n",
        "\n",
        "2. count ( )\n",
        "\n",
        "3. startswitch ( )\n",
        "\n",
        "4. endswith ( )\n",
        "\n",
        "5. split ( )\n",
        "\n",
        "6. join ( )\n",
        "\n",
        "7. format ( )\n",
        "\n",
        "8. isdigit ( )\n",
        "\n",
        "9. islower ( )\n",
        "\n",
        "10. is upper ( )\n",
        "\n",
        "11. lower ( )\n",
        "\n",
        "12. upper ( )\n",
        "\n",
        "13. replace ( )"
      ],
      "metadata": {
        "id": "x3hWasgm6n7U"
      }
    },
    {
      "cell_type": "code",
      "source": [
        "s4 = \"python course batch second\"\n",
        "\n",
        "s4.index(\"e\") #give the index value\n",
        "\n",
        "s4.count(\"e\") #give the how many times the letter repeat"
      ],
      "metadata": {
        "colab": {
          "base_uri": "https://localhost:8080/"
        },
        "id": "xXIHR8fv8Bfs",
        "outputId": "26bd92e4-5a2e-424b-c96e-38569d8d5832"
      },
      "execution_count": null,
      "outputs": [
        {
          "output_type": "execute_result",
          "data": {
            "text/plain": [
              "2"
            ]
          },
          "metadata": {},
          "execution_count": 60
        }
      ]
    },
    {
      "cell_type": "code",
      "source": [
        "s4.startswith(\"py\")"
      ],
      "metadata": {
        "colab": {
          "base_uri": "https://localhost:8080/"
        },
        "id": "SA36ZgzZ8vd1",
        "outputId": "ed11c0a6-7c8a-4746-a01c-6af4787d84b4"
      },
      "execution_count": null,
      "outputs": [
        {
          "output_type": "execute_result",
          "data": {
            "text/plain": [
              "True"
            ]
          },
          "metadata": {},
          "execution_count": 61
        }
      ]
    },
    {
      "cell_type": "code",
      "source": [
        "s4.endswith(\"so\")"
      ],
      "metadata": {
        "colab": {
          "base_uri": "https://localhost:8080/"
        },
        "id": "RrkmqRjf87gU",
        "outputId": "1c94994e-de49-49a5-b93b-d93143f073d9"
      },
      "execution_count": null,
      "outputs": [
        {
          "output_type": "execute_result",
          "data": {
            "text/plain": [
              "False"
            ]
          },
          "metadata": {},
          "execution_count": 63
        }
      ]
    },
    {
      "cell_type": "code",
      "source": [
        "s4.isdigit()"
      ],
      "metadata": {
        "colab": {
          "base_uri": "https://localhost:8080/"
        },
        "id": "zLBYKW1c9Is8",
        "outputId": "994fc3f7-06d2-40cb-edda-50516026b4d6"
      },
      "execution_count": null,
      "outputs": [
        {
          "output_type": "execute_result",
          "data": {
            "text/plain": [
              "False"
            ]
          },
          "metadata": {},
          "execution_count": 65
        }
      ]
    },
    {
      "cell_type": "code",
      "source": [
        "s2 = \"abc123\"\n",
        "s2.isdigit() #all elments should be digit.\n"
      ],
      "metadata": {
        "colab": {
          "base_uri": "https://localhost:8080/"
        },
        "id": "VPVze9WA9O9l",
        "outputId": "88a8e232-3a69-49d0-c03c-a4874569d6e1"
      },
      "execution_count": null,
      "outputs": [
        {
          "output_type": "execute_result",
          "data": {
            "text/plain": [
              "False"
            ]
          },
          "metadata": {},
          "execution_count": 66
        }
      ]
    },
    {
      "cell_type": "code",
      "source": [
        "s2 = \"123\"\n",
        "s2.isdigit()"
      ],
      "metadata": {
        "colab": {
          "base_uri": "https://localhost:8080/"
        },
        "id": "3oXNgjno9cbF",
        "outputId": "7bd08c59-19c2-4540-cada-5a2c41189303"
      },
      "execution_count": null,
      "outputs": [
        {
          "output_type": "execute_result",
          "data": {
            "text/plain": [
              "True"
            ]
          },
          "metadata": {},
          "execution_count": 67
        }
      ]
    },
    {
      "cell_type": "code",
      "source": [
        "s2 = \"abc\"\n",
        "s2.islower()"
      ],
      "metadata": {
        "colab": {
          "base_uri": "https://localhost:8080/"
        },
        "id": "2Q0ZJa8n9eJk",
        "outputId": "4e017487-89f0-4829-dd53-d7f6dcb66116"
      },
      "execution_count": null,
      "outputs": [
        {
          "output_type": "execute_result",
          "data": {
            "text/plain": [
              "True"
            ]
          },
          "metadata": {},
          "execution_count": 68
        }
      ]
    },
    {
      "cell_type": "code",
      "source": [
        "s2 = \"abc\"\n",
        "s2.isupper()"
      ],
      "metadata": {
        "colab": {
          "base_uri": "https://localhost:8080/"
        },
        "id": "-OpaU82I9icE",
        "outputId": "ed3e7e1d-53b9-4c10-e3ba-570a8af8780e"
      },
      "execution_count": null,
      "outputs": [
        {
          "output_type": "execute_result",
          "data": {
            "text/plain": [
              "False"
            ]
          },
          "metadata": {},
          "execution_count": 70
        }
      ]
    },
    {
      "cell_type": "code",
      "source": [
        "s2 = \"abc\"\n",
        "s2.upper()\n",
        "\n",
        "#but no changes in s2"
      ],
      "metadata": {
        "colab": {
          "base_uri": "https://localhost:8080/",
          "height": 36
        },
        "id": "qkcMtNyF9oUO",
        "outputId": "c2d8bc49-146d-4c6e-d056-0808c5cbb35c"
      },
      "execution_count": null,
      "outputs": [
        {
          "output_type": "execute_result",
          "data": {
            "text/plain": [
              "'ABC'"
            ],
            "application/vnd.google.colaboratory.intrinsic+json": {
              "type": "string"
            }
          },
          "metadata": {},
          "execution_count": 71
        }
      ]
    },
    {
      "cell_type": "code",
      "source": [
        "s2 = \"aBc\"\n",
        "s2.lower()"
      ],
      "metadata": {
        "colab": {
          "base_uri": "https://localhost:8080/",
          "height": 36
        },
        "id": "SbzArTDc9wBe",
        "outputId": "0bb5737d-9bcc-4806-9ad5-99b5ddafb4ee"
      },
      "execution_count": null,
      "outputs": [
        {
          "output_type": "execute_result",
          "data": {
            "text/plain": [
              "'abc'"
            ],
            "application/vnd.google.colaboratory.intrinsic+json": {
              "type": "string"
            }
          },
          "metadata": {},
          "execution_count": 73
        }
      ]
    },
    {
      "cell_type": "code",
      "source": [
        "s2.replace('a', 'A')"
      ],
      "metadata": {
        "colab": {
          "base_uri": "https://localhost:8080/",
          "height": 36
        },
        "id": "7uZn8X_p92H0",
        "outputId": "188885fe-026a-4941-8a17-79cea3046bc6"
      },
      "execution_count": null,
      "outputs": [
        {
          "output_type": "execute_result",
          "data": {
            "text/plain": [
              "'ABc'"
            ],
            "application/vnd.google.colaboratory.intrinsic+json": {
              "type": "string"
            }
          },
          "metadata": {},
          "execution_count": 75
        }
      ]
    },
    {
      "cell_type": "markdown",
      "source": [
        "# str part-2\n",
        "\n",
        "## Agenda:\n",
        "\n",
        "1. format ( )"
      ],
      "metadata": {
        "id": "NIGSafDTEULk"
      }
    },
    {
      "cell_type": "markdown",
      "source": [
        "# format\n",
        "\n",
        "1. usually used when we want to print a message in a formatted way.\n",
        "\n",
        "2. { } is placeholder."
      ],
      "metadata": {
        "id": "_XDik2UEE5Os"
      }
    },
    {
      "cell_type": "code",
      "source": [
        "print(\"My name is {}\".format(\"Suleman\"))"
      ],
      "metadata": {
        "colab": {
          "base_uri": "https://localhost:8080/"
        },
        "id": "JNuZHze6FfzF",
        "outputId": "b8bf3f7b-0c71-4fe6-9fd8-12dc2e35dd36"
      },
      "execution_count": null,
      "outputs": [
        {
          "output_type": "stream",
          "name": "stdout",
          "text": [
            "My name is Suleman\n"
          ]
        }
      ]
    },
    {
      "cell_type": "code",
      "source": [
        "x = \"pyhton course batch 1st \"\n",
        "print(\"My name is {}\".format(x))"
      ],
      "metadata": {
        "colab": {
          "base_uri": "https://localhost:8080/"
        },
        "id": "CLRXLTRjFqt1",
        "outputId": "58fb0aae-2bf4-4c88-dddd-71f2f4bc0454"
      },
      "execution_count": null,
      "outputs": [
        {
          "output_type": "stream",
          "name": "stdout",
          "text": [
            "My name is pyhton course batch 1st \n"
          ]
        }
      ]
    },
    {
      "cell_type": "markdown",
      "source": [
        "## using multiple placeholders"
      ],
      "metadata": {
        "id": "XY9g8JnNGMmF"
      }
    },
    {
      "cell_type": "code",
      "source": [
        "s1 =\"First = {}, Second = {}, Third = {}\"\n",
        "\n",
        "x = \"one\"\n",
        "\n",
        "y = 44\n",
        "\n",
        "z = 5.5\n",
        "\n",
        "print(s1.format(x,y,z))\n"
      ],
      "metadata": {
        "colab": {
          "base_uri": "https://localhost:8080/"
        },
        "id": "0DhOQmQuGPyk",
        "outputId": "9a95afdf-9e59-48dc-95e1-d0308993d50d"
      },
      "execution_count": null,
      "outputs": [
        {
          "output_type": "stream",
          "name": "stdout",
          "text": [
            "First = one, Second = 44, Third = 5.5\n"
          ]
        }
      ]
    },
    {
      "cell_type": "code",
      "source": [
        "s1 =\"First = {}, Second = {}, Third = {}\"\n",
        "\n",
        "x = \"one\"\n",
        "\n",
        "y = 44\n",
        "\n",
        "z = 5.5\n",
        "\n",
        "print(s1.format(x,y,)) #value is necessary for every index."
      ],
      "metadata": {
        "colab": {
          "base_uri": "https://localhost:8080/",
          "height": 176
        },
        "id": "yGvXJ5kXG86l",
        "outputId": "cc6a9df4-8a17-4425-be3e-1bc83e60d11a"
      },
      "execution_count": null,
      "outputs": [
        {
          "output_type": "error",
          "ename": "IndexError",
          "evalue": "Replacement index 2 out of range for positional args tuple",
          "traceback": [
            "\u001b[0;31m---------------------------------------------------------------------------\u001b[0m",
            "\u001b[0;31mIndexError\u001b[0m                                Traceback (most recent call last)",
            "\u001b[0;32m<ipython-input-83-7144fb8737d5>\u001b[0m in \u001b[0;36m<cell line: 0>\u001b[0;34m()\u001b[0m\n\u001b[1;32m      7\u001b[0m \u001b[0mz\u001b[0m \u001b[0;34m=\u001b[0m \u001b[0;36m5.5\u001b[0m\u001b[0;34m\u001b[0m\u001b[0;34m\u001b[0m\u001b[0m\n\u001b[1;32m      8\u001b[0m \u001b[0;34m\u001b[0m\u001b[0m\n\u001b[0;32m----> 9\u001b[0;31m \u001b[0mprint\u001b[0m\u001b[0;34m(\u001b[0m\u001b[0ms1\u001b[0m\u001b[0;34m.\u001b[0m\u001b[0mformat\u001b[0m\u001b[0;34m(\u001b[0m\u001b[0mx\u001b[0m\u001b[0;34m,\u001b[0m\u001b[0my\u001b[0m\u001b[0;34m,\u001b[0m\u001b[0;34m)\u001b[0m\u001b[0;34m)\u001b[0m\u001b[0;34m\u001b[0m\u001b[0;34m\u001b[0m\u001b[0m\n\u001b[0m",
            "\u001b[0;31mIndexError\u001b[0m: Replacement index 2 out of range for positional args tuple"
          ]
        }
      ]
    },
    {
      "cell_type": "markdown",
      "source": [
        "# 0 base indexing or sequence indexing."
      ],
      "metadata": {
        "id": "9NHS92ClHUcU"
      }
    },
    {
      "cell_type": "code",
      "source": [
        "print (\" {2},{0}, {1}\".format(10, 20, 30))"
      ],
      "metadata": {
        "colab": {
          "base_uri": "https://localhost:8080/"
        },
        "id": "XeGqaQZ8Hcwk",
        "outputId": "49cc0fd4-79c8-439e-bff2-114bbf561d8c"
      },
      "execution_count": null,
      "outputs": [
        {
          "output_type": "stream",
          "name": "stdout",
          "text": [
            " 30,10, 20\n"
          ]
        }
      ]
    },
    {
      "cell_type": "markdown",
      "source": [
        "# split and join"
      ],
      "metadata": {
        "id": "uH0V0wUtIgoN"
      }
    },
    {
      "cell_type": "markdown",
      "source": [
        "## split\n",
        "\n",
        "1. it is str class object.\n",
        "\n",
        "## split--> str -----> list of str\n",
        "\n",
        "1. In Python, the split() method is used to break a string into smaller parts (substrings) based on a separator (like space, comma, etc.).\n",
        "\n",
        "It returns the parts as a list."
      ],
      "metadata": {
        "id": "J3l4QOwwIqdE"
      }
    },
    {
      "cell_type": "code",
      "source": [
        "text = \"python course batch second\"\n",
        "print(text.split())  # Output: ['python', 'course', 'batch', 'second']\n"
      ],
      "metadata": {
        "colab": {
          "base_uri": "https://localhost:8080/"
        },
        "id": "y-Lz1X74OJgt",
        "outputId": "9004b25c-71b5-42e6-c4d9-490e603a654f"
      },
      "execution_count": null,
      "outputs": [
        {
          "output_type": "stream",
          "name": "stdout",
          "text": [
            "['python', 'course', 'batch', 'second']\n"
          ]
        }
      ]
    },
    {
      "cell_type": "markdown",
      "source": [
        "# program to takes input integers from user separeted by comma and convert these into single list elements.\n",
        "\n",
        "here we do string elements into intergers list"
      ],
      "metadata": {
        "id": "hpIt7FjTOZ81"
      }
    },
    {
      "cell_type": "code",
      "source": [
        "s1 = input(\"Enter integers separated by comma: \")\n",
        "\n",
        "l1=s1.split(',')\n",
        "\n",
        "# mylist=[expression for e in iterable]\n",
        "\n",
        "mylist =[int(e) for e in l1]\n",
        "\n",
        "print (mylist)\n"
      ],
      "metadata": {
        "colab": {
          "base_uri": "https://localhost:8080/"
        },
        "id": "FrW4_zKBOmn2",
        "outputId": "3f1411da-ff09-42c8-94be-c6ea2c6098d9"
      },
      "execution_count": null,
      "outputs": [
        {
          "output_type": "stream",
          "name": "stdout",
          "text": [
            "Enter integers separated by comma: 34,34,55,66,33,66\n",
            "[34, 34, 55, 66, 33, 66]\n"
          ]
        }
      ]
    },
    {
      "cell_type": "markdown",
      "source": [
        "short method of above program."
      ],
      "metadata": {
        "id": "a-wV1JvLPkFu"
      }
    },
    {
      "cell_type": "code",
      "source": [
        "\n",
        "mylist =[int(e) for e in input(\"Enter integers separated by comma: \").split(',')]\n",
        "\n",
        "print (mylist)\n"
      ],
      "metadata": {
        "colab": {
          "base_uri": "https://localhost:8080/"
        },
        "id": "MeP9GUZUPpDu",
        "outputId": "3b2cccca-052e-4542-e617-3e924a0887a0"
      },
      "execution_count": null,
      "outputs": [
        {
          "output_type": "stream",
          "name": "stdout",
          "text": [
            "Enter integers separated by comma: 55,55,7,87,90\n",
            "[55, 55, 7, 87, 90]\n"
          ]
        }
      ]
    },
    {
      "cell_type": "markdown",
      "source": [
        "# join\n",
        "\n",
        "\n",
        "join--> list of str ---> str\n",
        "\n",
        "1.In Python, join() is used to combine (join) a list of strings into one string with a specified separator.\n",
        "\n",
        "It is the opposite of split().\n"
      ],
      "metadata": {
        "id": "RL3QerZNQPX1"
      }
    },
    {
      "cell_type": "code",
      "source": [
        "words = ['python', 'course', 'batch', 'second']\n",
        "result = \"-\".join(words)  # Joins with space\n",
        "print(result)  # Output: python-course-batch-second"
      ],
      "metadata": {
        "colab": {
          "base_uri": "https://localhost:8080/"
        },
        "id": "jmJJtMQjQb5F",
        "outputId": "50d251dc-75e6-435c-abc0-013af2f8b6be"
      },
      "execution_count": null,
      "outputs": [
        {
          "output_type": "stream",
          "name": "stdout",
          "text": [
            "python-course-batch-second\n"
          ]
        }
      ]
    },
    {
      "cell_type": "code",
      "source": [
        "l1 = [\"24\", \"1\", \"2025\"]\n",
        "\n",
        "\"/\".join(l1)"
      ],
      "metadata": {
        "colab": {
          "base_uri": "https://localhost:8080/",
          "height": 36
        },
        "id": "Ixh7WUzDQnK0",
        "outputId": "36a8f023-90a8-4bbb-f59e-00eba5c8a56f"
      },
      "execution_count": null,
      "outputs": [
        {
          "output_type": "execute_result",
          "data": {
            "text/plain": [
              "'24/1/2025'"
            ],
            "application/vnd.google.colaboratory.intrinsic+json": {
              "type": "string"
            }
          },
          "metadata": {},
          "execution_count": 96
        }
      ]
    }
  ]
}