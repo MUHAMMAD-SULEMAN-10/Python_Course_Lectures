{
  "nbformat": 4,
  "nbformat_minor": 0,
  "metadata": {
    "colab": {
      "provenance": []
    },
    "kernelspec": {
      "name": "python3",
      "display_name": "Python 3"
    },
    "language_info": {
      "name": "python"
    }
  },
  "cells": [
    {
      "cell_type": "markdown",
      "source": [
        "# Agenda:\n",
        "\n",
        "1. Function introduction\n",
        "\n",
        "2. Defifning function\n",
        "\n",
        "3. function call vs function defination\n",
        "\n",
        "4. ways to define a function"
      ],
      "metadata": {
        "id": "I3gGx_5eDReS"
      }
    },
    {
      "cell_type": "markdown",
      "source": [
        "# what is function >\n",
        "\n",
        "function is a block of code which only runs when it\n",
        "\n",
        "is called.\n",
        "\n",
        "function has a name for identification.\n",
        "\n"
      ],
      "metadata": {
        "id": "Spuo7sObDisS"
      }
    },
    {
      "cell_type": "markdown",
      "source": [
        "# simple program line by line without functions"
      ],
      "metadata": {
        "id": "Pc-dalKb8U8o"
      }
    },
    {
      "cell_type": "code",
      "source": [
        "x = 5\n",
        "print(\"x =\", x)\n",
        "a = int(input(\"enter a number: \"))\n",
        "b = a**2\n",
        "print(\"Square of\", a, \"is\", b)\n",
        "\n",
        "# we need to write the code again and again when i need to print the sqaure of\n",
        "# any number."
      ],
      "metadata": {
        "colab": {
          "base_uri": "https://localhost:8080/"
        },
        "id": "gFHKxjPL8BrI",
        "outputId": "94a73fae-03d9-4579-ca80-233135ecc333"
      },
      "execution_count": null,
      "outputs": [
        {
          "output_type": "stream",
          "name": "stdout",
          "text": [
            "x = 5\n",
            "enter a number: 7\n",
            "Square of 7 is 49\n"
          ]
        }
      ]
    },
    {
      "cell_type": "markdown",
      "source": [
        "# function defination\n",
        "\n",
        "Syntax:\n",
        "\n",
        "def functionName (args):\n",
        "\n",
        "     code\n",
        "\n",
        "     code\n",
        "\n",
        "\n",
        "def is a keyword. we define a function."
      ],
      "metadata": {
        "id": "Wop4KCgvEuzp"
      }
    },
    {
      "cell_type": "markdown",
      "source": [
        "# fun define vs fun call\n",
        "\n",
        "##Function Definition:\n",
        "\n",
        "Use def keyword to create a function.\n",
        "Example:\n",
        "\n",
        "\n",
        "def greet():\n",
        "\n",
        "    print(\"Hello, suleman!\")\n",
        "\n",
        "\n",
        "##Function Call:\n",
        "\n",
        "Simply write the function name followed by parentheses.\n",
        "once function is defined, it can be called any number of times.\n",
        "    \n",
        "    greet()  \n",
        "\n",
        "Output: Hello, Suleman!"
      ],
      "metadata": {
        "id": "V3F2hvnGHbyQ"
      }
    },
    {
      "cell_type": "code",
      "source": [
        "def f1():\n",
        "\n",
        "  a = int(input(\"enter a number: \"))\n",
        "\n",
        "  b = a**2\n",
        "\n",
        "  print(\"Square of\", a, \"is\", b)\n",
        "\n",
        "x = 5\n",
        "\n",
        "print(\"x = \", x)\n",
        "\n"
      ],
      "metadata": {
        "colab": {
          "base_uri": "https://localhost:8080/"
        },
        "id": "pmgxQVtmGASZ",
        "outputId": "693f67f7-b318-4c87-df7f-60799185fd3a"
      },
      "execution_count": null,
      "outputs": [
        {
          "output_type": "stream",
          "name": "stdout",
          "text": [
            "x =  5\n"
          ]
        }
      ]
    },
    {
      "cell_type": "code",
      "source": [
        "def f1(): #function defination\n",
        "\n",
        "  a = int(input(\"enter a number: \"))\n",
        "\n",
        "  b = a**2\n",
        "\n",
        "  print(\"Square of\", a, \"is\", b)\n",
        "\n",
        "x = 5 #first value print\n",
        "\n",
        "print(\"x = \", x)\n",
        "\n",
        "f1() #function call\n",
        "\n",
        "f1() #2nd time function call"
      ],
      "metadata": {
        "colab": {
          "base_uri": "https://localhost:8080/"
        },
        "id": "tlRHInsGGc0g",
        "outputId": "56cc1ea5-43c7-4f97-8a0b-22b8e42f7fd6"
      },
      "execution_count": null,
      "outputs": [
        {
          "output_type": "stream",
          "name": "stdout",
          "text": [
            "x =  5\n",
            "enter a number: 5\n",
            "Square of 5 is 25\n",
            "enter a number: 6\n",
            "Square of 6 is 36\n"
          ]
        }
      ]
    },
    {
      "cell_type": "code",
      "source": [
        "def f1(): #function defination\n",
        "\n",
        "  a = int(input(\"enter a number: \"))\n",
        "\n",
        "  b = a**2\n",
        "\n",
        "  print(\"Square of\", a, \"is\", b)\n",
        "\n",
        "\n",
        "f1() #here this fun will call first\n",
        "\n",
        "x = 5\n",
        "\n",
        "print(\"x = \", x)\n",
        "\n",
        "f1() #2nd time function call\n",
        "\n",
        "f1() #3rd time function call"
      ],
      "metadata": {
        "colab": {
          "base_uri": "https://localhost:8080/"
        },
        "id": "IAI5AOE2G6Dg",
        "outputId": "5c4d5641-54e3-4f7b-8292-73bd9babd160"
      },
      "execution_count": null,
      "outputs": [
        {
          "output_type": "stream",
          "name": "stdout",
          "text": [
            "enter a number: 6\n",
            "Square of 6 is 36\n",
            "x =  5\n",
            "enter a number: 6\n",
            "Square of 6 is 36\n",
            "enter a number: 7\n",
            "Square of 7 is 49\n"
          ]
        }
      ]
    },
    {
      "cell_type": "markdown",
      "source": [
        "# Ways to define a function\n",
        "\n",
        "1. Takes nothing, Returns Nothing\n",
        "\n",
        "2. Take somehting , Returns Nothing\n",
        "\n",
        "3. Takes Nothing, Return Something\n",
        "\n",
        "4. Take Something, Return Something\n",
        "\n",
        "\n",
        "## Note:\n",
        "\n",
        "variables created inside function body are called local variables.\n",
        "\n",
        "\n",
        "thier life time inside the function body and sacope also only access in a function.  "
      ],
      "metadata": {
        "id": "vLCqncjKIZRp"
      }
    },
    {
      "cell_type": "code",
      "source": [
        "def f1():\n",
        "\n",
        "  a = int(input(\"enter a number: \"))\n",
        "\n",
        "  b = a**2\n",
        "\n",
        "  print(\"Square of\", a, \"is\", b)\n",
        "\n",
        "f1()\n",
        "x = 5\n",
        "\n",
        "print(\"x = \", x)\n",
        "print(\"a =\",a,\"b=\",b) #error only accessable in a f1() it is also for b error\n",
        "#these are local variables can access only in a fun1 () block we can not access out side the f1 ( ).\n",
        "\n",
        "f1()\n",
        "f1()"
      ],
      "metadata": {
        "colab": {
          "base_uri": "https://localhost:8080/",
          "height": 263
        },
        "id": "yZO2ajsmwFH9",
        "outputId": "6e89599b-15a5-47bd-fc83-507afa873b32"
      },
      "execution_count": null,
      "outputs": [
        {
          "output_type": "stream",
          "name": "stdout",
          "text": [
            "enter a number: 5\n",
            "Square of 5 is 25\n",
            "x =  5\n"
          ]
        },
        {
          "output_type": "error",
          "ename": "NameError",
          "evalue": "name 'a' is not defined",
          "traceback": [
            "\u001b[0;31m---------------------------------------------------------------------------\u001b[0m",
            "\u001b[0;31mNameError\u001b[0m                                 Traceback (most recent call last)",
            "\u001b[0;32m<ipython-input-2-bc4314996b14>\u001b[0m in \u001b[0;36m<cell line: 0>\u001b[0;34m()\u001b[0m\n\u001b[1;32m     11\u001b[0m \u001b[0;34m\u001b[0m\u001b[0m\n\u001b[1;32m     12\u001b[0m \u001b[0mprint\u001b[0m\u001b[0;34m(\u001b[0m\u001b[0;34m\"x = \"\u001b[0m\u001b[0;34m,\u001b[0m \u001b[0mx\u001b[0m\u001b[0;34m)\u001b[0m\u001b[0;34m\u001b[0m\u001b[0;34m\u001b[0m\u001b[0m\n\u001b[0;32m---> 13\u001b[0;31m \u001b[0mprint\u001b[0m\u001b[0;34m(\u001b[0m\u001b[0;34m\"a =\"\u001b[0m\u001b[0;34m,\u001b[0m\u001b[0ma\u001b[0m\u001b[0;34m,\u001b[0m\u001b[0;34m\"b=\"\u001b[0m\u001b[0;34m,\u001b[0m\u001b[0mb\u001b[0m\u001b[0;34m)\u001b[0m \u001b[0;31m#error only accessable in a f1()\u001b[0m\u001b[0;34m\u001b[0m\u001b[0;34m\u001b[0m\u001b[0m\n\u001b[0m\u001b[1;32m     14\u001b[0m \u001b[0;34m\u001b[0m\u001b[0m\n\u001b[1;32m     15\u001b[0m \u001b[0mf1\u001b[0m\u001b[0;34m(\u001b[0m\u001b[0;34m)\u001b[0m\u001b[0;34m\u001b[0m\u001b[0;34m\u001b[0m\u001b[0m\n",
            "\u001b[0;31mNameError\u001b[0m: name 'a' is not defined"
          ]
        }
      ]
    },
    {
      "cell_type": "code",
      "source": [
        "def f1():\n",
        "\n",
        "  a = int(input(\"enter a number: \"))\n",
        "\n",
        "  b = a**2\n",
        "\n",
        "  print(\"Square of\", a, \"is\", b)\n",
        "\n",
        "def start(): # another function nothing will run\n",
        "\n",
        " f1() #f1 () only called here\n",
        "\n",
        " x = 5  # This is a local variable of the start()\n",
        "print(\"x = \", x)\n",
        "\n",
        "print(\"a =\",a,\"b=\",b) # a, b are local varaiables of f1 ()\n",
        "\n",
        "start()\n"
      ],
      "metadata": {
        "colab": {
          "base_uri": "https://localhost:8080/",
          "height": 228
        },
        "id": "Q06-ef2mxU9G",
        "outputId": "c394c213-9b50-4580-dadd-35e05a546d95"
      },
      "execution_count": null,
      "outputs": [
        {
          "output_type": "stream",
          "name": "stdout",
          "text": [
            "x =  5\n"
          ]
        },
        {
          "output_type": "error",
          "ename": "NameError",
          "evalue": "name 'a' is not defined",
          "traceback": [
            "\u001b[0;31m---------------------------------------------------------------------------\u001b[0m",
            "\u001b[0;31mNameError\u001b[0m                                 Traceback (most recent call last)",
            "\u001b[0;32m<ipython-input-17-ca886253f5e9>\u001b[0m in \u001b[0;36m<cell line: 0>\u001b[0;34m()\u001b[0m\n\u001b[1;32m     14\u001b[0m \u001b[0mprint\u001b[0m\u001b[0;34m(\u001b[0m\u001b[0;34m\"x = \"\u001b[0m\u001b[0;34m,\u001b[0m \u001b[0mx\u001b[0m\u001b[0;34m)\u001b[0m\u001b[0;34m\u001b[0m\u001b[0;34m\u001b[0m\u001b[0m\n\u001b[1;32m     15\u001b[0m \u001b[0;34m\u001b[0m\u001b[0m\n\u001b[0;32m---> 16\u001b[0;31m \u001b[0mprint\u001b[0m\u001b[0;34m(\u001b[0m\u001b[0;34m\"a =\"\u001b[0m\u001b[0;34m,\u001b[0m\u001b[0ma\u001b[0m\u001b[0;34m,\u001b[0m\u001b[0;34m\"b=\"\u001b[0m\u001b[0;34m,\u001b[0m\u001b[0mb\u001b[0m\u001b[0;34m)\u001b[0m \u001b[0;31m# a, b are local varaiables of f1 ()\u001b[0m\u001b[0;34m\u001b[0m\u001b[0;34m\u001b[0m\u001b[0m\n\u001b[0m\u001b[1;32m     17\u001b[0m \u001b[0;34m\u001b[0m\u001b[0m\n\u001b[1;32m     18\u001b[0m \u001b[0mstart\u001b[0m\u001b[0;34m(\u001b[0m\u001b[0;34m)\u001b[0m\u001b[0;34m\u001b[0m\u001b[0;34m\u001b[0m\u001b[0m\n",
            "\u001b[0;31mNameError\u001b[0m: name 'a' is not defined"
          ]
        }
      ]
    },
    {
      "cell_type": "markdown",
      "source": [
        "### Now we want to access the variable of start ( ) inside the the f1 ( ) . when the f1 ( ) call it will access the variable of start fun ( ). here the concept of takes and return is come."
      ],
      "metadata": {
        "id": "DyVMtB7D0IWu"
      }
    },
    {
      "cell_type": "code",
      "source": [
        "def f1(y): # in y the value of x is copy as argument value\n",
        "\n",
        "  #a = int(input(\"enter a number: \"))\n",
        "\n",
        "  b = y**2\n",
        "\n",
        "  print(\"Square of\", y, \"is\", b)\n",
        "\n",
        "def start():\n",
        "\n",
        " x = 6\n",
        "\n",
        " f1(x) # value takes from another function and f1 () will recive and perform the action.\n",
        "\n",
        "print(\"x = \", x)\n",
        "\n",
        "start()\n"
      ],
      "metadata": {
        "colab": {
          "base_uri": "https://localhost:8080/"
        },
        "id": "yt-v24nU0oUO",
        "outputId": "c55349da-28c3-424c-a7e7-296d5e5c60c1"
      },
      "execution_count": null,
      "outputs": [
        {
          "output_type": "stream",
          "name": "stdout",
          "text": [
            "x =  5\n",
            "Square of 6 is 36\n"
          ]
        }
      ]
    },
    {
      "cell_type": "markdown",
      "source": [
        "# Return the value where  function is called"
      ],
      "metadata": {
        "id": "xjqHI8ig2li3"
      }
    },
    {
      "cell_type": "code",
      "source": [
        "def f1(y): # in y the value of x is copy as argument value\n",
        "\n",
        "  #a = int(input(\"enter a number: \"))\n",
        "\n",
        "  b = y**2\n",
        "\n",
        "  # print(\"Square of\", y, \"is\", b)\n",
        "\n",
        "  # use print or not but return the value is must\n",
        "\n",
        "  return b # this value return to the fun () where he called and store in result.\n",
        "\n",
        "def start(): # another function nothing will run\n",
        " x = 6\n",
        "\n",
        " result = f1(x) # value takes from another function and f1 () will recive and perform the action.\n",
        "\n",
        " print(\"x = \", x)\n",
        "\n",
        " print(\"Result is\", result)\n",
        "\n",
        "\n",
        "\n",
        "start()"
      ],
      "metadata": {
        "colab": {
          "base_uri": "https://localhost:8080/"
        },
        "id": "DBk2sA0A2kAP",
        "outputId": "d8735471-4d56-4313-b983-94c54b99aad2"
      },
      "execution_count": null,
      "outputs": [
        {
          "output_type": "stream",
          "name": "stdout",
          "text": [
            "x =  6\n",
            "Result is 36\n"
          ]
        }
      ]
    },
    {
      "cell_type": "markdown",
      "source": [
        "# Takes nothing, Returns Nothing"
      ],
      "metadata": {
        "id": "oCqpXyAu3WU3"
      }
    },
    {
      "cell_type": "code",
      "source": [
        "def add(): # pranthesis are empty so it takes nothing and return nothings\n",
        "\n",
        "  print(\"Enter two numbers :\")\n",
        "  a = int(input())\n",
        "  b = int(input())\n",
        "  c = a+b\n",
        "  print(\"Sum is\", c)\n",
        "\n",
        "add() # parentheses are empty, so it takes nothing but produces output"
      ],
      "metadata": {
        "colab": {
          "base_uri": "https://localhost:8080/"
        },
        "id": "5b7EXPj93YJm",
        "outputId": "2d63f529-518e-4d50-c9da-d1e4a9777fdb"
      },
      "execution_count": null,
      "outputs": [
        {
          "output_type": "stream",
          "name": "stdout",
          "text": [
            "Enter two numbers :\n",
            "5\n",
            "6\n",
            "Sum is 11\n"
          ]
        }
      ]
    },
    {
      "cell_type": "markdown",
      "source": [
        "# Take somehting , Returns Nothing"
      ],
      "metadata": {
        "id": "TZCtC0B449Hf"
      }
    },
    {
      "cell_type": "code",
      "source": [
        "def add (a, b): # formal arguments when we define a fun at this time formal args\n",
        "\n",
        "# we add varibls in prenthsis as a takes somthing\n",
        "\n",
        "  c = a+b\n",
        "\n",
        "  print(\"Sum is\", c) # here we print becoz no retrun is used.\n",
        "\n",
        "add(10 , 30) #Actual argument values at the time of fun call"
      ],
      "metadata": {
        "colab": {
          "base_uri": "https://localhost:8080/"
        },
        "id": "ESWi60m94-PW",
        "outputId": "9c5a2c53-41d5-498d-eb9b-c7ff05a3ed02"
      },
      "execution_count": null,
      "outputs": [
        {
          "output_type": "stream",
          "name": "stdout",
          "text": [
            "Sum is 40\n"
          ]
        }
      ]
    },
    {
      "cell_type": "markdown",
      "source": [
        "# Takes Nothing, Return Something"
      ],
      "metadata": {
        "id": "0dYC8aSo6Ian"
      }
    },
    {
      "cell_type": "code",
      "source": [
        "def add(): # pranthesis are empty so it takes nothing and return nothings\n",
        "\n",
        "  print(\"Enter two numbers :\")\n",
        "\n",
        "  a = int(input())\n",
        "\n",
        "  b = int(input())\n",
        "\n",
        "  c = a+b\n",
        "\n",
        "  # print(\"Sum is\", c)\n",
        "\n",
        "  return c # it will return the value where the fun is called\n",
        "\n",
        "s = add()\n",
        "\n",
        "print(\"Sum is :\", s)"
      ],
      "metadata": {
        "colab": {
          "base_uri": "https://localhost:8080/"
        },
        "id": "Fml07Jsv6Pp_",
        "outputId": "278e12df-c237-4e1d-9abf-f22ae0ad5580"
      },
      "execution_count": null,
      "outputs": [
        {
          "output_type": "stream",
          "name": "stdout",
          "text": [
            "Enter two numbers :\n",
            "30\n",
            "40\n",
            "Sum is : 70\n"
          ]
        }
      ]
    },
    {
      "cell_type": "markdown",
      "source": [
        "# Note:\n",
        "\n",
        "After return keyword the function will end no further statements will execute."
      ],
      "metadata": {
        "id": "6yqnTOPv6y-4"
      }
    },
    {
      "cell_type": "markdown",
      "source": [
        "# Take Something, Return Something"
      ],
      "metadata": {
        "id": "QUpuqzvC7La4"
      }
    },
    {
      "cell_type": "code",
      "source": [
        "def add (a, b): # formal arguments when we define a fun at this time formal args\n",
        "\n",
        "# we add varibls in prenthsis as a takes somthing\n",
        "\n",
        "  c = a+b\n",
        "\n",
        "  return c\n",
        "\n",
        "sum = add(10,30) #Actual argument values at the time of fun call\n",
        "\n",
        "print (\"The sum of values are:\", sum)"
      ],
      "metadata": {
        "colab": {
          "base_uri": "https://localhost:8080/"
        },
        "id": "HRjcNRCO7MeX",
        "outputId": "37956b9a-d7f2-44ee-dc9f-ab407439d3d7"
      },
      "execution_count": null,
      "outputs": [
        {
          "output_type": "stream",
          "name": "stdout",
          "text": [
            "The sum of values are: 40\n"
          ]
        }
      ]
    },
    {
      "cell_type": "markdown",
      "source": [
        "#Agenda:\n",
        "\n",
        "##Default Arguemnt:\n",
        "\n",
        "1. Default Arguments\n",
        "\n",
        "2. Function always return something"
      ],
      "metadata": {
        "id": "k6h5-ak_8qNo"
      }
    },
    {
      "cell_type": "markdown",
      "source": [
        "## what are Default Arguments ?\n",
        "\n",
        "1. Default value indicates that the function argument will take that value if no arguemnt value is passed during the function call.\n",
        "\n",
        "2. The default value is assigned by using the assigned (=)operator."
      ],
      "metadata": {
        "id": "FXV_w1E99gX4"
      }
    },
    {
      "cell_type": "markdown",
      "source": [
        "# paractice problems"
      ],
      "metadata": {
        "id": "se1MVe3cDesS"
      }
    },
    {
      "cell_type": "code",
      "source": [
        "def f1(a,b): # two formal arguments\n",
        "\n",
        "  print(\"a =\",a,\"b=\",b)\n",
        "\n",
        "f1() # we need to pass the value of actual arguments here"
      ],
      "metadata": {
        "colab": {
          "base_uri": "https://localhost:8080/",
          "height": 176
        },
        "id": "30UZ9GuzDb7y",
        "outputId": "d1ec6aec-d338-484f-d780-d52db2d0b6e6"
      },
      "execution_count": null,
      "outputs": [
        {
          "output_type": "error",
          "ename": "TypeError",
          "evalue": "f1() missing 2 required positional arguments: 'a' and 'b'",
          "traceback": [
            "\u001b[0;31m---------------------------------------------------------------------------\u001b[0m",
            "\u001b[0;31mTypeError\u001b[0m                                 Traceback (most recent call last)",
            "\u001b[0;32m<ipython-input-45-ec2aa5611caf>\u001b[0m in \u001b[0;36m<cell line: 0>\u001b[0;34m()\u001b[0m\n\u001b[1;32m      3\u001b[0m   \u001b[0mprint\u001b[0m\u001b[0;34m(\u001b[0m\u001b[0;34m\"a =\"\u001b[0m\u001b[0;34m,\u001b[0m\u001b[0ma\u001b[0m\u001b[0;34m,\u001b[0m\u001b[0;34m\"b=\"\u001b[0m\u001b[0;34m,\u001b[0m\u001b[0mb\u001b[0m\u001b[0;34m)\u001b[0m\u001b[0;34m\u001b[0m\u001b[0;34m\u001b[0m\u001b[0m\n\u001b[1;32m      4\u001b[0m \u001b[0;34m\u001b[0m\u001b[0m\n\u001b[0;32m----> 5\u001b[0;31m \u001b[0mf1\u001b[0m\u001b[0;34m(\u001b[0m\u001b[0;34m)\u001b[0m\u001b[0;34m\u001b[0m\u001b[0;34m\u001b[0m\u001b[0m\n\u001b[0m",
            "\u001b[0;31mTypeError\u001b[0m: f1() missing 2 required positional arguments: 'a' and 'b'"
          ]
        }
      ]
    },
    {
      "cell_type": "code",
      "source": [
        "def f1(a,b): # two formal arguments\n",
        "\n",
        "  print(\"a =\",a,\"b=\",b)\n",
        "\n",
        "f1(4,5)"
      ],
      "metadata": {
        "colab": {
          "base_uri": "https://localhost:8080/"
        },
        "id": "eeqaaYucD1cr",
        "outputId": "191b95b3-675e-44a3-fd43-8a2cd6b2bd37"
      },
      "execution_count": null,
      "outputs": [
        {
          "output_type": "stream",
          "name": "stdout",
          "text": [
            "a = 4 b= 5\n"
          ]
        }
      ]
    },
    {
      "cell_type": "code",
      "source": [
        "def f1(a,b): # two formal arguments\n",
        "\n",
        "  c= a+b\n",
        "\n",
        "  return c # this function is return somsthing to where function is called\n",
        "\n",
        "print(\"sum is\",f1(4,5))"
      ],
      "metadata": {
        "colab": {
          "base_uri": "https://localhost:8080/"
        },
        "id": "yB3psqOzD8XJ",
        "outputId": "07b5150b-01e1-40fe-b3ce-daa74807d9c7"
      },
      "execution_count": null,
      "outputs": [
        {
          "output_type": "stream",
          "name": "stdout",
          "text": [
            "sum is 9\n"
          ]
        }
      ]
    },
    {
      "cell_type": "code",
      "source": [
        "def f1(a,b,c): # three formal arguments\n",
        "\n",
        "  d= a+b+c\n",
        "\n",
        "  return d\n",
        "\n",
        "print(\"sum is\",f1(4,5,6))"
      ],
      "metadata": {
        "colab": {
          "base_uri": "https://localhost:8080/"
        },
        "id": "USx5dcTJEQzr",
        "outputId": "3cf6a457-874e-4ccf-c8d3-9fb93e4c7abc"
      },
      "execution_count": null,
      "outputs": [
        {
          "output_type": "stream",
          "name": "stdout",
          "text": [
            "sum is 15\n"
          ]
        }
      ]
    },
    {
      "cell_type": "code",
      "source": [
        "def f1(a,b,c): # three formal arguments\n",
        "\n",
        "  d= a+b+c\n",
        "\n",
        "  return d\n",
        "\n",
        "print(\"sum is\",f1(4,5,6))\n",
        "print(\"sum is\",f1(4,5)) # error need to pass the value of arguemnt c"
      ],
      "metadata": {
        "colab": {
          "base_uri": "https://localhost:8080/",
          "height": 193
        },
        "id": "2jwpTPOeEnBM",
        "outputId": "da68a25d-5038-45bb-f297-6cc3606bf438"
      },
      "execution_count": null,
      "outputs": [
        {
          "output_type": "stream",
          "name": "stdout",
          "text": [
            "sum is 15\n"
          ]
        },
        {
          "output_type": "error",
          "ename": "TypeError",
          "evalue": "f1() missing 1 required positional argument: 'c'",
          "traceback": [
            "\u001b[0;31m---------------------------------------------------------------------------\u001b[0m",
            "\u001b[0;31mTypeError\u001b[0m                                 Traceback (most recent call last)",
            "\u001b[0;32m<ipython-input-54-1a19699ab8b6>\u001b[0m in \u001b[0;36m<cell line: 0>\u001b[0;34m()\u001b[0m\n\u001b[1;32m      6\u001b[0m \u001b[0;34m\u001b[0m\u001b[0m\n\u001b[1;32m      7\u001b[0m \u001b[0mprint\u001b[0m\u001b[0;34m(\u001b[0m\u001b[0;34m\"sum is\"\u001b[0m\u001b[0;34m,\u001b[0m\u001b[0mf1\u001b[0m\u001b[0;34m(\u001b[0m\u001b[0;36m4\u001b[0m\u001b[0;34m,\u001b[0m\u001b[0;36m5\u001b[0m\u001b[0;34m,\u001b[0m\u001b[0;36m6\u001b[0m\u001b[0;34m)\u001b[0m\u001b[0;34m)\u001b[0m\u001b[0;34m\u001b[0m\u001b[0;34m\u001b[0m\u001b[0m\n\u001b[0;32m----> 8\u001b[0;31m \u001b[0mprint\u001b[0m\u001b[0;34m(\u001b[0m\u001b[0;34m\"sum is\"\u001b[0m\u001b[0;34m,\u001b[0m\u001b[0mf1\u001b[0m\u001b[0;34m(\u001b[0m\u001b[0;36m4\u001b[0m\u001b[0;34m,\u001b[0m\u001b[0;36m5\u001b[0m\u001b[0;34m)\u001b[0m\u001b[0;34m)\u001b[0m\u001b[0;34m\u001b[0m\u001b[0;34m\u001b[0m\u001b[0m\n\u001b[0m",
            "\u001b[0;31mTypeError\u001b[0m: f1() missing 1 required positional argument: 'c'"
          ]
        }
      ]
    },
    {
      "cell_type": "markdown",
      "source": [
        "# Default Argument value"
      ],
      "metadata": {
        "id": "M5KHT_2fE2yR"
      }
    },
    {
      "cell_type": "code",
      "source": [
        "\n",
        "def f1(a,b,c =0): # c is a default argument with value 0\n",
        "\n",
        "  d= a+b+c\n",
        "\n",
        "  return d\n",
        "\n",
        "print(\"sum is\",f1(4,5,6))\n",
        "print(\"sum is\",f1(4,5))"
      ],
      "metadata": {
        "colab": {
          "base_uri": "https://localhost:8080/"
        },
        "id": "joNM7V9lE7aK",
        "outputId": "6c548672-f03b-4fbf-ce30-814230e8672d"
      },
      "execution_count": null,
      "outputs": [
        {
          "output_type": "stream",
          "name": "stdout",
          "text": [
            "sum is 15\n",
            "sum is 9\n"
          ]
        }
      ]
    },
    {
      "cell_type": "code",
      "source": [
        "\n",
        "def f1(a,b=0,c): # b is consider as a default argument and also c is a default arguument consider.\n",
        "\n",
        "  d= a+b+c\n",
        "\n",
        "  return d\n",
        "\n",
        "print(\"sum is\",f1(4,5,6))\n",
        "print(\"sum is\",f1(4,5))"
      ],
      "metadata": {
        "colab": {
          "base_uri": "https://localhost:8080/",
          "height": 106
        },
        "id": "n25OGzYCFERK",
        "outputId": "5ce47260-2790-4e89-d713-226ca069f130"
      },
      "execution_count": null,
      "outputs": [
        {
          "output_type": "error",
          "ename": "SyntaxError",
          "evalue": "non-default argument follows default argument (<ipython-input-56-eb8b5d12e716>, line 1)",
          "traceback": [
            "\u001b[0;36m  File \u001b[0;32m\"<ipython-input-56-eb8b5d12e716>\"\u001b[0;36m, line \u001b[0;32m1\u001b[0m\n\u001b[0;31m    def f1(a,b = 0,c): # three formal arguments\u001b[0m\n\u001b[0m                   ^\u001b[0m\n\u001b[0;31mSyntaxError\u001b[0m\u001b[0;31m:\u001b[0m non-default argument follows default argument\n"
          ]
        }
      ]
    },
    {
      "cell_type": "markdown",
      "source": [
        "# Agenda:\n",
        "\n",
        "## Keyword arguments\n",
        "\n",
        "1. positionla arguments\n",
        "\n",
        "2. keyword arguments"
      ],
      "metadata": {
        "id": "JVygYQ_mFngb"
      }
    },
    {
      "cell_type": "markdown",
      "source": [
        "# Positional Arguments\n",
        "\n",
        "Syntax:\n",
        "\n",
        "       def f1(a , b):\n",
        "\n",
        "       code....\n",
        "\n",
        "       code...\n",
        "\n",
        "\n",
        "      f1(2,4)\n",
        "\n",
        "\n",
        "#Note:\n",
        "\n",
        "def f1 (a , b) are formal arguments because the copy the values from actual arguments.\n",
        "\n",
        "but also they are called positional arguemnts because the value 2 is store at a and value 4 is store at b according to position."
      ],
      "metadata": {
        "id": "0X8orGidG0Mz"
      }
    },
    {
      "cell_type": "markdown",
      "source": [
        "# Keyword Arguments\n",
        "\n",
        "\n",
        "    def f1 (a , b ):\n",
        "\n",
        "        code....\n",
        "\n",
        "        code...\n",
        "\n",
        "    f1 (b = 3, a = 4)\n",
        "\n",
        "## Note:\n",
        "\n",
        "here b and a are keywords not python keywords.\n",
        "\n",
        "we set the position of actual arguments using keywords with values. now the value of a is 4 and value of b is 3.\n"
      ],
      "metadata": {
        "id": "g8KE9KrTJB17"
      }
    },
    {
      "cell_type": "code",
      "source": [
        "def f1 (a , b ):\n",
        "\n",
        "  print(\"a=\",a, \"b=\",a)\n",
        "\n",
        "\n",
        "f1 (b=3, a=4)"
      ],
      "metadata": {
        "id": "lkIN3wxWKgXj",
        "colab": {
          "base_uri": "https://localhost:8080/"
        },
        "outputId": "6e51f3bf-f6d7-4bfb-e852-c6b23162c818"
      },
      "execution_count": 1,
      "outputs": [
        {
          "output_type": "stream",
          "name": "stdout",
          "text": [
            "a= 4 b= 4\n"
          ]
        }
      ]
    },
    {
      "cell_type": "code",
      "source": [
        "def f1 (a , b ):\n",
        "\n",
        "  print(\"a=\",a, \"b=\",a)\n",
        "\n",
        "f1 (3,b=4)"
      ],
      "metadata": {
        "colab": {
          "base_uri": "https://localhost:8080/"
        },
        "id": "rjOBRjSHf2Lr",
        "outputId": "dbb348a8-8c0f-4e16-e35d-a7aba1c88182"
      },
      "execution_count": 3,
      "outputs": [
        {
          "output_type": "stream",
          "name": "stdout",
          "text": [
            "a= 3 b= 3\n"
          ]
        }
      ]
    },
    {
      "cell_type": "code",
      "source": [
        "def f1 (a , b ):\n",
        "\n",
        "  print(\"a=\",a, \"b=\",a)\n",
        "\n",
        "f1 (2, a=4) #run time error"
      ],
      "metadata": {
        "colab": {
          "base_uri": "https://localhost:8080/",
          "height": 176
        },
        "id": "W6T0SLmxgbc6",
        "outputId": "be495693-949c-4a21-e1be-7c98a80a2529"
      },
      "execution_count": 5,
      "outputs": [
        {
          "output_type": "error",
          "ename": "TypeError",
          "evalue": "f1() got multiple values for argument 'a'",
          "traceback": [
            "\u001b[0;31m---------------------------------------------------------------------------\u001b[0m",
            "\u001b[0;31mTypeError\u001b[0m                                 Traceback (most recent call last)",
            "\u001b[0;32m<ipython-input-5-8a8ca1244015>\u001b[0m in \u001b[0;36m<cell line: 0>\u001b[0;34m()\u001b[0m\n\u001b[1;32m      3\u001b[0m   \u001b[0mprint\u001b[0m\u001b[0;34m(\u001b[0m\u001b[0;34m\"a=\"\u001b[0m\u001b[0;34m,\u001b[0m\u001b[0ma\u001b[0m\u001b[0;34m,\u001b[0m \u001b[0;34m\"b=\"\u001b[0m\u001b[0;34m,\u001b[0m\u001b[0ma\u001b[0m\u001b[0;34m)\u001b[0m\u001b[0;34m\u001b[0m\u001b[0;34m\u001b[0m\u001b[0m\n\u001b[1;32m      4\u001b[0m \u001b[0;34m\u001b[0m\u001b[0m\n\u001b[0;32m----> 5\u001b[0;31m \u001b[0mf1\u001b[0m \u001b[0;34m(\u001b[0m\u001b[0;36m2\u001b[0m\u001b[0;34m,\u001b[0m \u001b[0ma\u001b[0m\u001b[0;34m=\u001b[0m\u001b[0;36m4\u001b[0m\u001b[0;34m)\u001b[0m\u001b[0;34m\u001b[0m\u001b[0;34m\u001b[0m\u001b[0m\n\u001b[0m",
            "\u001b[0;31mTypeError\u001b[0m: f1() got multiple values for argument 'a'"
          ]
        }
      ]
    },
    {
      "cell_type": "code",
      "source": [
        "def f1 (a , b ):\n",
        "\n",
        "  print(\"a=\",a, \"b=\",a)\n",
        "\n",
        "f1 (b=3, 4) #compile time error not run time will not run the program"
      ],
      "metadata": {
        "colab": {
          "base_uri": "https://localhost:8080/",
          "height": 106
        },
        "id": "nFcA2222gE06",
        "outputId": "a348ca31-6548-4ed9-a949-100ee681936d"
      },
      "execution_count": 4,
      "outputs": [
        {
          "output_type": "error",
          "ename": "SyntaxError",
          "evalue": "positional argument follows keyword argument (<ipython-input-4-9a25323cc5a4>, line 5)",
          "traceback": [
            "\u001b[0;36m  File \u001b[0;32m\"<ipython-input-4-9a25323cc5a4>\"\u001b[0;36m, line \u001b[0;32m5\u001b[0m\n\u001b[0;31m    f1 (b=3, 4)\u001b[0m\n\u001b[0m              ^\u001b[0m\n\u001b[0;31mSyntaxError\u001b[0m\u001b[0;31m:\u001b[0m positional argument follows keyword argument\n"
          ]
        }
      ]
    },
    {
      "cell_type": "markdown",
      "source": [
        "# Note:\n",
        "\n",
        "we can not have positional argument after keyword argument."
      ],
      "metadata": {
        "id": "acHhlqomhsIL"
      }
    },
    {
      "cell_type": "markdown",
      "source": [
        "# simple practice example on keyword argument"
      ],
      "metadata": {
        "id": "ypF74Wargm3a"
      }
    },
    {
      "cell_type": "code",
      "source": [
        "l1 = [34,56, 12, 18,20]\n",
        "\n",
        "l1.sort() #default argument in ascending order values are orderd\n",
        "\n",
        "l1"
      ],
      "metadata": {
        "colab": {
          "base_uri": "https://localhost:8080/"
        },
        "id": "a2_2Vk-3grii",
        "outputId": "85ae50a3-ebfc-4f5f-e05c-fbf8cf2abc5e"
      },
      "execution_count": 7,
      "outputs": [
        {
          "output_type": "execute_result",
          "data": {
            "text/plain": [
              "[12, 18, 20, 34, 56]"
            ]
          },
          "metadata": {},
          "execution_count": 7
        }
      ]
    },
    {
      "cell_type": "code",
      "source": [
        "l1 = [34,56, 12, 18,20]\n",
        "\n",
        "l1.sort(reverse = True) # here reverse = True is keyword argument by explicit\n",
        "\n",
        "l1"
      ],
      "metadata": {
        "colab": {
          "base_uri": "https://localhost:8080/"
        },
        "id": "o4A8xQMwhA3r",
        "outputId": "9a5de632-53cc-44f8-e408-5de5a5628321"
      },
      "execution_count": 8,
      "outputs": [
        {
          "output_type": "execute_result",
          "data": {
            "text/plain": [
              "[56, 34, 20, 18, 12]"
            ]
          },
          "metadata": {},
          "execution_count": 8
        }
      ]
    },
    {
      "cell_type": "markdown",
      "source": [
        "# Agenda:\n",
        "\n",
        "1. variable length arguments\n",
        "\n",
        "2. Examples"
      ],
      "metadata": {
        "id": "fynEZzDyh4ri"
      }
    },
    {
      "cell_type": "markdown",
      "source": [
        "## Write a function to calculate average of two numbers."
      ],
      "metadata": {
        "id": "VEDsIXcKiBfS"
      }
    },
    {
      "cell_type": "code",
      "source": [
        "def average(a,b):\n",
        "\n",
        "  avg=(a+b)/2\n",
        "\n",
        "  return avg\n",
        "\n",
        "print(average(10,30))\n",
        "\n"
      ],
      "metadata": {
        "colab": {
          "base_uri": "https://localhost:8080/"
        },
        "id": "WKNmypcQiKx7",
        "outputId": "d7bcdb2c-f776-49a3-d31f-ff49fc0587cc"
      },
      "execution_count": 9,
      "outputs": [
        {
          "output_type": "stream",
          "name": "stdout",
          "text": [
            "20.0\n"
          ]
        }
      ]
    },
    {
      "cell_type": "code",
      "source": [
        "def average(a,b):\n",
        "\n",
        "  avg=(a+b)/2\n",
        "\n",
        "  return avg\n",
        "\n",
        "print(average(10,30,40)) # error due to 3 arguments\n"
      ],
      "metadata": {
        "colab": {
          "base_uri": "https://localhost:8080/",
          "height": 176
        },
        "id": "TOeFLGAQilPj",
        "outputId": "e136e85c-47d0-400b-fc0b-7ef75c038404"
      },
      "execution_count": 10,
      "outputs": [
        {
          "output_type": "error",
          "ename": "TypeError",
          "evalue": "average() takes 2 positional arguments but 3 were given",
          "traceback": [
            "\u001b[0;31m---------------------------------------------------------------------------\u001b[0m",
            "\u001b[0;31mTypeError\u001b[0m                                 Traceback (most recent call last)",
            "\u001b[0;32m<ipython-input-10-a95c55dcdd96>\u001b[0m in \u001b[0;36m<cell line: 0>\u001b[0;34m()\u001b[0m\n\u001b[1;32m      5\u001b[0m   \u001b[0;32mreturn\u001b[0m \u001b[0mavg\u001b[0m\u001b[0;34m\u001b[0m\u001b[0;34m\u001b[0m\u001b[0m\n\u001b[1;32m      6\u001b[0m \u001b[0;34m\u001b[0m\u001b[0m\n\u001b[0;32m----> 7\u001b[0;31m \u001b[0mprint\u001b[0m\u001b[0;34m(\u001b[0m\u001b[0maverage\u001b[0m\u001b[0;34m(\u001b[0m\u001b[0;36m10\u001b[0m\u001b[0;34m,\u001b[0m\u001b[0;36m30\u001b[0m\u001b[0;34m,\u001b[0m\u001b[0;36m40\u001b[0m\u001b[0;34m)\u001b[0m\u001b[0;34m)\u001b[0m\u001b[0;34m\u001b[0m\u001b[0;34m\u001b[0m\u001b[0m\n\u001b[0m",
            "\u001b[0;31mTypeError\u001b[0m: average() takes 2 positional arguments but 3 were given"
          ]
        }
      ]
    },
    {
      "cell_type": "code",
      "source": [
        "def average(a,b,c):\n",
        "\n",
        "  avg=(a+b)/3\n",
        "\n",
        "  return avg\n",
        "\n",
        "print(average(10,30,40))"
      ],
      "metadata": {
        "colab": {
          "base_uri": "https://localhost:8080/"
        },
        "id": "7AMY2cUfitac",
        "outputId": "5770f5de-ef25-4e7a-995a-81e848559062"
      },
      "execution_count": 11,
      "outputs": [
        {
          "output_type": "stream",
          "name": "stdout",
          "text": [
            "13.333333333333334\n"
          ]
        }
      ]
    },
    {
      "cell_type": "markdown",
      "source": [
        "## Note:\n",
        "\n",
        "we can use default argument concept here to pass three values in formal arguments but it has some limitation how many default arguments you can pass ?\n",
        "\n",
        "so to avoid from this concept then we use varable length argument."
      ],
      "metadata": {
        "id": "xQ3_BuiSjAHT"
      }
    },
    {
      "cell_type": "markdown",
      "source": [
        "#  varaible length argument\n"
      ],
      "metadata": {
        "id": "V6CJMnPAkDwL"
      }
    },
    {
      "cell_type": "code",
      "source": [
        "def average(*t): # due to * will consider a tuple as a varaible length argument\n",
        "\n",
        "  avg=sum(t)/len(t) #sum function called and passed a t tuple\n",
        "\n",
        "  return avg\n",
        "\n",
        "print(average(10,30,40,60,90))\n",
        "\n",
        "print(average(2,4,6,9,10,12))"
      ],
      "metadata": {
        "colab": {
          "base_uri": "https://localhost:8080/"
        },
        "id": "PmfbJASbjcGN",
        "outputId": "f667202a-2695-4d87-9cc9-c703ebe930ff"
      },
      "execution_count": 13,
      "outputs": [
        {
          "output_type": "stream",
          "name": "stdout",
          "text": [
            "46.0\n",
            "7.166666666666667\n"
          ]
        }
      ]
    }
  ]
}