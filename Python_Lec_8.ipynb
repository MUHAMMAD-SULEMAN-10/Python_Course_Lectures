{
  "nbformat": 4,
  "nbformat_minor": 0,
  "metadata": {
    "colab": {
      "provenance": []
    },
    "kernelspec": {
      "name": "python3",
      "display_name": "Python 3"
    },
    "language_info": {
      "name": "python"
    }
  },
  "cells": [
    {
      "cell_type": "markdown",
      "source": [
        "# Agenda:\n",
        "\n",
        "1. tuple introduction\n",
        "\n",
        "2. tuple object\n",
        "\n",
        "3. indexing\n",
        "\n",
        "4. Accessing tuple elements\n",
        "\n",
        "5. built-in methods\n",
        "\n",
        "6. concatenation and repetition operator\n",
        "\n",
        "7. comparison operator\n",
        "\n",
        "8. tuple object methods\n",
        "\n",
        "9. Slicing Operator\n",
        "\n",
        "10. user input"
      ],
      "metadata": {
        "id": "np1K6LjFZKI2"
      }
    },
    {
      "cell_type": "markdown",
      "source": [
        "## what is tuple ?\n",
        "\n",
        "1. tuple is a class (class has variables and functions)\n",
        "\n",
        "2. tuple is iterable\n",
        "\n",
        "3. tuple is immutable (can not change)\n",
        "\n",
        "4. tuple is hashable (return a number )\n",
        "\n",
        "5. tuple is a sequence (position matter)"
      ],
      "metadata": {
        "id": "Pt419UIVqr7c"
      }
    },
    {
      "cell_type": "markdown",
      "source": [
        "# How to create tuple object?"
      ],
      "metadata": {
        "id": "YaH-1CFdrzbd"
      }
    },
    {
      "cell_type": "code",
      "source": [
        "l1 = [10,20,30,40] # first we creat list using [ ]\n",
        "\n",
        "type (l1)"
      ],
      "metadata": {
        "colab": {
          "base_uri": "https://localhost:8080/"
        },
        "id": "Anoyg4Cvr6U8",
        "outputId": "f4d8bf8d-364c-46bd-a2c4-d6452778c395"
      },
      "execution_count": null,
      "outputs": [
        {
          "output_type": "execute_result",
          "data": {
            "text/plain": [
              "list"
            ]
          },
          "metadata": {},
          "execution_count": 1
        }
      ]
    },
    {
      "cell_type": "code",
      "source": [
        "t1 = (12, 45, 67, 56, 67) # tuple will create using ( )\n",
        "type(t1)"
      ],
      "metadata": {
        "colab": {
          "base_uri": "https://localhost:8080/"
        },
        "id": "9jYYr8NlsH8O",
        "outputId": "88e11daa-2aa0-44b7-f7dc-4ff3c89d13f2"
      },
      "execution_count": null,
      "outputs": [
        {
          "output_type": "execute_result",
          "data": {
            "text/plain": [
              "tuple"
            ]
          },
          "metadata": {},
          "execution_count": 2
        }
      ]
    },
    {
      "cell_type": "code",
      "source": [
        "t1 = () # empty\n",
        "type(t1)\n",
        "t1"
      ],
      "metadata": {
        "colab": {
          "base_uri": "https://localhost:8080/"
        },
        "id": "mLnHfN-3sWIO",
        "outputId": "eccf47fd-b9b3-4bd2-9e03-50325c6d6f9d"
      },
      "execution_count": null,
      "outputs": [
        {
          "output_type": "execute_result",
          "data": {
            "text/plain": [
              "()"
            ]
          },
          "metadata": {},
          "execution_count": 5
        }
      ]
    },
    {
      "cell_type": "code",
      "source": [
        "t1 = (10) # not a tuple object it is a int type object\n",
        "\n",
        "type (t1)"
      ],
      "metadata": {
        "colab": {
          "base_uri": "https://localhost:8080/"
        },
        "id": "clYV3Pseshul",
        "outputId": "4d0c2ba4-9f58-4d66-d6a9-bc91ff1d7512"
      },
      "execution_count": null,
      "outputs": [
        {
          "output_type": "execute_result",
          "data": {
            "text/plain": [
              "int"
            ]
          },
          "metadata": {},
          "execution_count": 6
        }
      ]
    },
    {
      "cell_type": "code",
      "source": [
        "# how we can make single vlaue as a tuple\n",
        "# use a comma, after single value\n",
        "t1 = (10,)\n",
        "\n",
        "type (t1)"
      ],
      "metadata": {
        "colab": {
          "base_uri": "https://localhost:8080/"
        },
        "id": "RU8KkCusssZu",
        "outputId": "314653a9-8fc4-411d-d792-4abda9d22098"
      },
      "execution_count": null,
      "outputs": [
        {
          "output_type": "execute_result",
          "data": {
            "text/plain": [
              "tuple"
            ]
          },
          "metadata": {},
          "execution_count": 7
        }
      ]
    },
    {
      "cell_type": "code",
      "source": [
        "# same case in a list\n",
        "\n",
        "l1 = [10] # it is a list having single value\n",
        "\n",
        "type (l1)"
      ],
      "metadata": {
        "colab": {
          "base_uri": "https://localhost:8080/"
        },
        "id": "6huL_8ABs7hV",
        "outputId": "381ab096-7281-4d3a-f177-bd0d2795f8cf"
      },
      "execution_count": null,
      "outputs": [
        {
          "output_type": "execute_result",
          "data": {
            "text/plain": [
              "list"
            ]
          },
          "metadata": {},
          "execution_count": 8
        }
      ]
    },
    {
      "cell_type": "code",
      "source": [
        "t1 = 2,3,4 # with out ( ) it is also a tuple but in list this is not happen\n",
        "type(t1)"
      ],
      "metadata": {
        "colab": {
          "base_uri": "https://localhost:8080/"
        },
        "id": "6_AW0e1otJaG",
        "outputId": "c2b14872-56ee-46df-ff7e-a0c7adbc3c3e"
      },
      "execution_count": null,
      "outputs": [
        {
          "output_type": "execute_result",
          "data": {
            "text/plain": [
              "tuple"
            ]
          },
          "metadata": {},
          "execution_count": 9
        }
      ]
    },
    {
      "cell_type": "markdown",
      "source": [
        "# indexing in a tuple\n",
        "\n",
        "1. same +ve and -ve indexing in a tuple for vlaues."
      ],
      "metadata": {
        "id": "wvk0Bn6WtXh8"
      }
    },
    {
      "cell_type": "code",
      "source": [
        "t1 = (10, 45, 60)\n",
        "print(t1[-1])  # Output will be 60"
      ],
      "metadata": {
        "colab": {
          "base_uri": "https://localhost:8080/"
        },
        "id": "xw5Rh7VqtjGl",
        "outputId": "002d77ac-ec09-41f3-8aa1-40b373ff2d80"
      },
      "execution_count": null,
      "outputs": [
        {
          "output_type": "stream",
          "name": "stdout",
          "text": [
            "60\n"
          ]
        }
      ]
    },
    {
      "cell_type": "markdown",
      "source": [
        "# slicing operator in a tuple:\n",
        "\n"
      ],
      "metadata": {
        "id": "w7VYinwut-Sm"
      }
    },
    {
      "cell_type": "code",
      "source": [
        "t1 = (15, 55, 45, 60, 45, 33, 12, 20, 56)\n",
        "t1[2:8:2] # will return another tuple of values\n",
        "t1 #but no changes in t1"
      ],
      "metadata": {
        "colab": {
          "base_uri": "https://localhost:8080/"
        },
        "id": "k3CSTOpyuCss",
        "outputId": "01c57d90-dd95-4a01-d133-ee49ec52508f"
      },
      "execution_count": null,
      "outputs": [
        {
          "output_type": "execute_result",
          "data": {
            "text/plain": [
              "(15, 55, 45, 60, 45, 33, 12, 20, 56)"
            ]
          },
          "metadata": {},
          "execution_count": 18
        }
      ]
    },
    {
      "cell_type": "markdown",
      "source": [
        "# Accessing tuple elements\n",
        "\n"
      ],
      "metadata": {
        "id": "4Iux4wiRu29V"
      }
    },
    {
      "cell_type": "code",
      "source": [
        "t1 = (10, 34, 20 , 25)\n",
        "\n",
        "t1[0]\n",
        "print(t1[2])"
      ],
      "metadata": {
        "colab": {
          "base_uri": "https://localhost:8080/"
        },
        "id": "9QhMW22bu9IN",
        "outputId": "f91e9de7-2fb9-4ee8-b478-c17732ebd47f"
      },
      "execution_count": null,
      "outputs": [
        {
          "output_type": "stream",
          "name": "stdout",
          "text": [
            "20\n"
          ]
        }
      ]
    },
    {
      "cell_type": "markdown",
      "source": [
        "## using while loop with condition based."
      ],
      "metadata": {
        "id": "k8_qfyOUvc24"
      }
    },
    {
      "cell_type": "code",
      "source": [
        "t1 = (15, 55, 45, 60, 45, 33, 12, 20, 56)\n",
        "\n",
        "i = 0\n",
        "\n",
        "while (i<len(t1)):\n",
        "\n",
        "  print(t1[i],)\n",
        "\n",
        "  i+=1"
      ],
      "metadata": {
        "colab": {
          "base_uri": "https://localhost:8080/"
        },
        "id": "kp4c7brQviC-",
        "outputId": "bed78f00-238a-43b3-b307-54b9946f0083"
      },
      "execution_count": null,
      "outputs": [
        {
          "output_type": "stream",
          "name": "stdout",
          "text": [
            "15\n",
            "55\n",
            "45\n",
            "60\n",
            "45\n",
            "33\n",
            "12\n",
            "20\n",
            "56\n"
          ]
        }
      ]
    },
    {
      "cell_type": "markdown",
      "source": [
        "## using for loop"
      ],
      "metadata": {
        "id": "SVqS6KMRvwzG"
      }
    },
    {
      "cell_type": "code",
      "source": [
        "t1 = (15, 55, 45, 60, 45, 33, 12, 20, 56)\n",
        "\n",
        "for a in t1:\n",
        "\n",
        "  print(a)"
      ],
      "metadata": {
        "colab": {
          "base_uri": "https://localhost:8080/"
        },
        "id": "_UiguNoBv0Mt",
        "outputId": "d7771b1d-67cd-448a-aede-d6ab135003b0"
      },
      "execution_count": null,
      "outputs": [
        {
          "output_type": "stream",
          "name": "stdout",
          "text": [
            "15\n",
            "55\n",
            "45\n",
            "60\n",
            "45\n",
            "33\n",
            "12\n",
            "20\n",
            "56\n"
          ]
        }
      ]
    },
    {
      "cell_type": "markdown",
      "source": [
        "## Note: when we need to use while and for loop?\n",
        "\n",
        "Ans: when we want to print elements on a specific condion true then we use while loop.\n",
        "\n",
        "and when we want to print all elements then we use for loop in python."
      ],
      "metadata": {
        "id": "l6PAuI1GwGj9"
      }
    },
    {
      "cell_type": "markdown",
      "source": [
        "# built in methods\n",
        "\n",
        "len ( )\n",
        "\n",
        "min ( )\n",
        "\n",
        "max ( )\n",
        "\n",
        "sum ( )\n",
        "\n",
        "sorted ( )"
      ],
      "metadata": {
        "id": "CCfs0E_hwoF1"
      }
    },
    {
      "cell_type": "code",
      "source": [
        "t1 = (15, 55, 45, 60, 45, 33, 12, 20, 56)\n",
        "len(t1)"
      ],
      "metadata": {
        "colab": {
          "base_uri": "https://localhost:8080/"
        },
        "id": "Ce1fcrgsw6C1",
        "outputId": "e59b6331-5c7c-4994-eac6-5ad9b1587704"
      },
      "execution_count": null,
      "outputs": [
        {
          "output_type": "execute_result",
          "data": {
            "text/plain": [
              "9"
            ]
          },
          "metadata": {},
          "execution_count": 27
        }
      ]
    },
    {
      "cell_type": "code",
      "source": [
        "t1 = (15, 55, 45, 60, 45, 33, 12, 20, 56)\n",
        "max(t1)"
      ],
      "metadata": {
        "colab": {
          "base_uri": "https://localhost:8080/"
        },
        "id": "4SsxhbXyw9UA",
        "outputId": "eae850c9-6e3d-4532-815c-f9c5e91b5ea4"
      },
      "execution_count": null,
      "outputs": [
        {
          "output_type": "execute_result",
          "data": {
            "text/plain": [
              "60"
            ]
          },
          "metadata": {},
          "execution_count": 28
        }
      ]
    },
    {
      "cell_type": "code",
      "source": [
        "t1 = (15, 55, 45, 60, 45, 33, 12, 20, 56)\n",
        "min(t1)"
      ],
      "metadata": {
        "colab": {
          "base_uri": "https://localhost:8080/"
        },
        "id": "HHu04K5uw_zX",
        "outputId": "ef29c6dd-ccc2-4630-87c0-853910839a0e"
      },
      "execution_count": null,
      "outputs": [
        {
          "output_type": "execute_result",
          "data": {
            "text/plain": [
              "12"
            ]
          },
          "metadata": {},
          "execution_count": 29
        }
      ]
    },
    {
      "cell_type": "code",
      "source": [
        "t1 = (15, 55, 45, 60, 45, 33, 12, 20, 56)\n",
        "sum(t1)"
      ],
      "metadata": {
        "colab": {
          "base_uri": "https://localhost:8080/"
        },
        "id": "o-Tb86KgxLm-",
        "outputId": "fb04a9a2-e1dc-4ba2-a350-d1f72a82db5b"
      },
      "execution_count": null,
      "outputs": [
        {
          "output_type": "execute_result",
          "data": {
            "text/plain": [
              "341"
            ]
          },
          "metadata": {},
          "execution_count": 30
        }
      ]
    },
    {
      "cell_type": "code",
      "source": [
        "t1 = (15, 55, 45, 60, 45, 33, 12, 20, 56)\n",
        "sorted(t1) #return new list and the actual tuple t1 will reamin same"
      ],
      "metadata": {
        "colab": {
          "base_uri": "https://localhost:8080/"
        },
        "id": "VnHZ1t3TxOFl",
        "outputId": "a67bef36-32d0-415c-80ab-387b52c190d8"
      },
      "execution_count": null,
      "outputs": [
        {
          "output_type": "execute_result",
          "data": {
            "text/plain": [
              "[12, 15, 20, 33, 45, 45, 55, 56, 60]"
            ]
          },
          "metadata": {},
          "execution_count": 31
        }
      ]
    },
    {
      "cell_type": "code",
      "source": [
        "t1 = (15, 55, 45, 60, 45, 33, 12, 20, 56)\n",
        "sorted(t1) #return new list and the actual tuple t1 will reamin same\n",
        "t1"
      ],
      "metadata": {
        "colab": {
          "base_uri": "https://localhost:8080/"
        },
        "id": "Hu2gxYgdxXa2",
        "outputId": "6109b762-9cb8-4a56-83d4-7c6250486af3"
      },
      "execution_count": null,
      "outputs": [
        {
          "output_type": "execute_result",
          "data": {
            "text/plain": [
              "(15, 55, 45, 60, 45, 33, 12, 20, 56)"
            ]
          },
          "metadata": {},
          "execution_count": 32
        }
      ]
    },
    {
      "cell_type": "code",
      "source": [
        "t1 = (15, 55, 45, 60, 45, 33, 12, 20, 56)\n",
        "\n",
        "sorted(t1,reverse=True) # will print values in a recerse order"
      ],
      "metadata": {
        "colab": {
          "base_uri": "https://localhost:8080/"
        },
        "id": "9rSBRwVHxdMt",
        "outputId": "a3c6116c-4e01-4867-f84d-2d6862fd0025"
      },
      "execution_count": null,
      "outputs": [
        {
          "output_type": "execute_result",
          "data": {
            "text/plain": [
              "[60, 56, 55, 45, 45, 33, 20, 15, 12]"
            ]
          },
          "metadata": {},
          "execution_count": 35
        }
      ]
    },
    {
      "cell_type": "markdown",
      "source": [
        "# Concatenation and Repetition Operator"
      ],
      "metadata": {
        "id": "FePfpVyqxu9N"
      }
    },
    {
      "cell_type": "code",
      "source": [
        "t1 = (10, 30)\n",
        "\n",
        "t2= (11, 22, 33)\n",
        "\n",
        "t1 + t2 # will concatenate the two tuples\n",
        "\n"
      ],
      "metadata": {
        "colab": {
          "base_uri": "https://localhost:8080/"
        },
        "id": "0LHGiF3Xx50G",
        "outputId": "87b8c9b0-1f57-4cc1-db99-dedf29c66e09"
      },
      "execution_count": null,
      "outputs": [
        {
          "output_type": "execute_result",
          "data": {
            "text/plain": [
              "(10, 30, 11, 22, 33)"
            ]
          },
          "metadata": {},
          "execution_count": 36
        }
      ]
    },
    {
      "cell_type": "code",
      "source": [
        "t1 = (10, 30)\n",
        "\n",
        "\n",
        "t1 * 3 # will repeat the values 3 times"
      ],
      "metadata": {
        "colab": {
          "base_uri": "https://localhost:8080/"
        },
        "id": "yMkRelVSyDWO",
        "outputId": "a395ea00-1e5d-49eb-851d-fca5aecedbe4"
      },
      "execution_count": null,
      "outputs": [
        {
          "output_type": "execute_result",
          "data": {
            "text/plain": [
              "(10, 30, 10, 30, 10, 30)"
            ]
          },
          "metadata": {},
          "execution_count": 37
        }
      ]
    },
    {
      "cell_type": "markdown",
      "source": [
        "# Comparison Operator\n",
        "\n",
        "1. same work like in a list.\n",
        "\n",
        "2. will compare 1st element with 1st element\n",
        "\n"
      ],
      "metadata": {
        "id": "JYT7rHAMyTS1"
      }
    },
    {
      "cell_type": "code",
      "source": [
        "t1 = (10, 30)\n",
        "\n",
        "t2= (11, 22, 33)\n",
        "\n",
        "t1 > t2\n"
      ],
      "metadata": {
        "colab": {
          "base_uri": "https://localhost:8080/"
        },
        "id": "qUkfSka6ysvV",
        "outputId": "5acd7379-ed3c-492d-f63a-0c2550ee5ca1"
      },
      "execution_count": null,
      "outputs": [
        {
          "output_type": "execute_result",
          "data": {
            "text/plain": [
              "False"
            ]
          },
          "metadata": {},
          "execution_count": 38
        }
      ]
    },
    {
      "cell_type": "code",
      "source": [
        "t1 = (10, 30)\n",
        "\n",
        "t2= (11, 22, 33)\n",
        "\n",
        "t1 == t2"
      ],
      "metadata": {
        "colab": {
          "base_uri": "https://localhost:8080/"
        },
        "id": "yN_kHABTyxht",
        "outputId": "d60e6d79-3788-41a8-c2da-871f33f701d3"
      },
      "execution_count": null,
      "outputs": [
        {
          "output_type": "execute_result",
          "data": {
            "text/plain": [
              "False"
            ]
          },
          "metadata": {},
          "execution_count": 39
        }
      ]
    },
    {
      "cell_type": "markdown",
      "source": [
        "# tuple objects methods:\n",
        "\n",
        "### index ( )\n",
        "\n",
        "### count ( )\n",
        "\n",
        "1. as we know in a tuple we can not do changes\n",
        "\n",
        "so there is no any method like append ( ) and insert ( )etc."
      ],
      "metadata": {
        "id": "RYT2ni4Ry6Wv"
      }
    },
    {
      "cell_type": "code",
      "source": [
        "\n",
        "t1 = (15, 55, 45, 60, 45, 33, 12, 20, 56)\n",
        "\n",
        "t1.index(55) # we need to pass a vlaue"
      ],
      "metadata": {
        "colab": {
          "base_uri": "https://localhost:8080/"
        },
        "id": "3v1pbSCYzhje",
        "outputId": "9f0ddfd6-6cc7-4f02-bbba-54897d450443"
      },
      "execution_count": null,
      "outputs": [
        {
          "output_type": "execute_result",
          "data": {
            "text/plain": [
              "1"
            ]
          },
          "metadata": {},
          "execution_count": 42
        }
      ]
    },
    {
      "cell_type": "code",
      "source": [
        "\n",
        "t1 = (15, 55, 55,66, 45, 60, 45, 33, 12, 20, 56)\n",
        "\n",
        "t1.count(55) # we need to pass a vlaue"
      ],
      "metadata": {
        "colab": {
          "base_uri": "https://localhost:8080/"
        },
        "id": "6G2AQ0-Ez4Nt",
        "outputId": "c168c95f-f976-4dce-ff3f-2cbff21c7ab9"
      },
      "execution_count": null,
      "outputs": [
        {
          "output_type": "execute_result",
          "data": {
            "text/plain": [
              "2"
            ]
          },
          "metadata": {},
          "execution_count": 44
        }
      ]
    },
    {
      "cell_type": "code",
      "source": [
        "\n",
        "t1 = (15, 55, 55,66, 45, 60, 45, 33, 12, 20, 56)\n",
        "\n",
        "del t1(0) #we can do it on a list because tuple is a immutable not changeable"
      ],
      "metadata": {
        "colab": {
          "base_uri": "https://localhost:8080/",
          "height": 106
        },
        "id": "XrghnnCG0Eal",
        "outputId": "759e68d9-5ea9-4bdc-938d-0ce813a26d08"
      },
      "execution_count": null,
      "outputs": [
        {
          "output_type": "error",
          "ename": "SyntaxError",
          "evalue": "cannot delete function call (<ipython-input-45-99c3f5e93fcd>, line 3)",
          "traceback": [
            "\u001b[0;36m  File \u001b[0;32m\"<ipython-input-45-99c3f5e93fcd>\"\u001b[0;36m, line \u001b[0;32m3\u001b[0m\n\u001b[0;31m    del t1(0) # we need to pass a vlaue\u001b[0m\n\u001b[0m        ^\u001b[0m\n\u001b[0;31mSyntaxError\u001b[0m\u001b[0;31m:\u001b[0m cannot delete function call\n"
          ]
        }
      ]
    },
    {
      "cell_type": "markdown",
      "source": [
        "# slicing operator in tuple\n",
        "\n",
        "Syntax:\n",
        "\n",
        "t1 [beg : end : step ]\n",
        "\n",
        "Reverse a Tuple:\n",
        "\n",
        "t1 [: : -1 ]"
      ],
      "metadata": {
        "id": "ZgkyN9zc0UmY"
      }
    },
    {
      "cell_type": "markdown",
      "source": [
        "# How to input a tuple from user ?\n",
        "\n",
        "### Note: in tuple we can not pass non i terable values, like 5.6."
      ],
      "metadata": {
        "id": "tBx1zpTl0vAG"
      }
    },
    {
      "cell_type": "code",
      "source": [
        "t1 = tuple ([int(e) for e in input().split(',')])\n",
        "\n",
        "t1"
      ],
      "metadata": {
        "colab": {
          "base_uri": "https://localhost:8080/"
        },
        "id": "iwNfBO9601lt",
        "outputId": "6c695ed7-6f08-47bd-b561-9ffa0ef1ec54"
      },
      "execution_count": null,
      "outputs": [
        {
          "name": "stdout",
          "output_type": "stream",
          "text": [
            "6,7,8,9,0\n"
          ]
        },
        {
          "output_type": "execute_result",
          "data": {
            "text/plain": [
              "(6, 7, 8, 9, 0)"
            ]
          },
          "metadata": {},
          "execution_count": 50
        }
      ]
    },
    {
      "cell_type": "code",
      "source": [
        "t1 = tuple ()\n",
        "\n",
        "t1"
      ],
      "metadata": {
        "colab": {
          "base_uri": "https://localhost:8080/"
        },
        "id": "TlPtQCjX1b3u",
        "outputId": "a78fa3bd-94f7-428d-c046-c85fefed3694"
      },
      "execution_count": null,
      "outputs": [
        {
          "output_type": "execute_result",
          "data": {
            "text/plain": [
              "()"
            ]
          },
          "metadata": {},
          "execution_count": 51
        }
      ]
    },
    {
      "cell_type": "code",
      "source": [
        "t2 = tuple ([1,23,4])\n",
        "t2"
      ],
      "metadata": {
        "colab": {
          "base_uri": "https://localhost:8080/"
        },
        "id": "Y6EgtBjo1fbm",
        "outputId": "02dcd9fd-d5ad-4e03-99ce-f16a8c88491e"
      },
      "execution_count": null,
      "outputs": [
        {
          "output_type": "execute_result",
          "data": {
            "text/plain": [
              "(1, 23, 4)"
            ]
          },
          "metadata": {},
          "execution_count": 52
        }
      ]
    },
    {
      "cell_type": "code",
      "source": [
        "t3 = tuple (range(6))\n",
        "\n",
        "t3"
      ],
      "metadata": {
        "colab": {
          "base_uri": "https://localhost:8080/"
        },
        "id": "cVxSgoW01mwO",
        "outputId": "a81b63a9-e950-4bb9-8277-3cef2fb10b5c"
      },
      "execution_count": null,
      "outputs": [
        {
          "output_type": "execute_result",
          "data": {
            "text/plain": [
              "(0, 1, 2, 3, 4, 5)"
            ]
          },
          "metadata": {},
          "execution_count": 53
        }
      ]
    },
    {
      "cell_type": "code",
      "source": [
        "# here we are changes the tuple vlaues these values are hetrogenous\n",
        "\n",
        "# but question is that how ? because tuple is immutable !\n",
        "\n",
        "# Ans:\n",
        "\n",
        "# because we have a list in tuple that is why we can change, delete, elements\n",
        "# od the list . not delete the whole list from a tuple.\n",
        "\n",
        "t4 = (45, True , 5.6 , 5-6j, \"python\", [5,5])\n",
        "\n",
        "t4[3]\n",
        "\n",
        "t4[-1][1] = 55\n",
        "\n",
        "t4\n",
        "\n",
        "del t4[-1]"
      ],
      "metadata": {
        "colab": {
          "base_uri": "https://localhost:8080/",
          "height": 176
        },
        "id": "rbFMhRtCJCjP",
        "outputId": "032ab8ce-0063-4f6d-bdf8-02716b1236f3"
      },
      "execution_count": null,
      "outputs": [
        {
          "output_type": "error",
          "ename": "TypeError",
          "evalue": "'tuple' object doesn't support item deletion",
          "traceback": [
            "\u001b[0;31m---------------------------------------------------------------------------\u001b[0m",
            "\u001b[0;31mTypeError\u001b[0m                                 Traceback (most recent call last)",
            "\u001b[0;32m<ipython-input-60-cbc25ff4d565>\u001b[0m in \u001b[0;36m<cell line: 0>\u001b[0;34m()\u001b[0m\n\u001b[1;32m     16\u001b[0m \u001b[0mt4\u001b[0m\u001b[0;34m\u001b[0m\u001b[0;34m\u001b[0m\u001b[0m\n\u001b[1;32m     17\u001b[0m \u001b[0;34m\u001b[0m\u001b[0m\n\u001b[0;32m---> 18\u001b[0;31m \u001b[0;32mdel\u001b[0m \u001b[0mt4\u001b[0m\u001b[0;34m[\u001b[0m\u001b[0;34m-\u001b[0m\u001b[0;36m1\u001b[0m\u001b[0;34m]\u001b[0m\u001b[0;34m\u001b[0m\u001b[0;34m\u001b[0m\u001b[0m\n\u001b[0m",
            "\u001b[0;31mTypeError\u001b[0m: 'tuple' object doesn't support item deletion"
          ]
        }
      ]
    },
    {
      "cell_type": "code",
      "source": [
        "t4 = (45, True , 5.6 , 5-6j, \"python\", [5,55])\n",
        "\n",
        "del t4[-1][0] # delete from most rigth-end 5 element\n",
        "\n",
        "t4"
      ],
      "metadata": {
        "colab": {
          "base_uri": "https://localhost:8080/"
        },
        "id": "0t_wloSbKePX",
        "outputId": "51e9ed35-1f42-4cb5-8150-310851c064ec"
      },
      "execution_count": null,
      "outputs": [
        {
          "output_type": "execute_result",
          "data": {
            "text/plain": [
              "(45, True, 5.6, (5-6j), 'python', [55])"
            ]
          },
          "metadata": {},
          "execution_count": 62
        }
      ]
    }
  ]
}