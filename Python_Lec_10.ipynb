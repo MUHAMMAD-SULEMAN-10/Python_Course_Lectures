{
  "nbformat": 4,
  "nbformat_minor": 0,
  "metadata": {
    "colab": {
      "provenance": []
    },
    "kernelspec": {
      "name": "python3",
      "display_name": "Python 3"
    },
    "language_info": {
      "name": "python"
    }
  },
  "cells": [
    {
      "cell_type": "markdown",
      "source": [
        "# Agenda:\n",
        "\n",
        "1. dict introduction\n",
        "\n",
        "2. creating dict object\n",
        "\n",
        "3. Accessing dict elements\n",
        "\n",
        "4. built-in methods\n",
        "\n",
        "5. concatenation and repetition\n",
        "\n",
        "6. comparison operator\n",
        "\n",
        "7. dict object methods\n",
        "\n",
        "8. dict comprehension\n",
        "\n"
      ],
      "metadata": {
        "id": "a0AfJXrZUs8e"
      }
    },
    {
      "cell_type": "markdown",
      "source": [
        "# what is dict ?\n",
        "\n",
        "### one dict element is (key , data)\n",
        "\n",
        "dict is a class\n",
        "\n",
        "dict is mutable\n",
        "\n",
        "dict is not hashable\n",
        "\n",
        "dict is iterable\n",
        "\n",
        "dict is not a sequence\n",
        "\n",
        "dict not have duplicate keys(not data values)\n",
        "\n",
        "indexing is not applicable to dict object\n",
        "\n",
        "slicing operator is not applicable\n",
        "\n",
        "dict elements are pair of key-value and data-value.\n",
        "\n",
        "it store associative data"
      ],
      "metadata": {
        "id": "-Hv92oDTVJKm"
      }
    },
    {
      "cell_type": "markdown",
      "source": [
        "# How to create dict object ?\n",
        "\n",
        "\n",
        "       Roll-no          Student-name\n",
        "       \n",
        "       102                \"Ali\"\n",
        "\n",
        "       105                \"Usman\"\n",
        "\n",
        "       106                \"sam\"\n",
        "\n",
        "       107                \"Suleman\"\n",
        "\n",
        "\n",
        "each roll no is associated with a student name.\n",
        "\n",
        "so this is associated data."
      ],
      "metadata": {
        "id": "vb30tkSjWs9e"
      }
    },
    {
      "cell_type": "code",
      "source": [
        "d1 = {102:'Ali',105:'Usman',106:'sam',107:'Suleman'} #it will create one dictionary\n",
        "\n",
        "d1"
      ],
      "metadata": {
        "colab": {
          "base_uri": "https://localhost:8080/"
        },
        "id": "L3J6joNRX94u",
        "outputId": "5c777920-8739-4910-8519-b29d2f38f61b"
      },
      "execution_count": 1,
      "outputs": [
        {
          "output_type": "execute_result",
          "data": {
            "text/plain": [
              "{102: 'Ali', 105: 'Usman', 106: 'sam', 107: 'Suleman'}"
            ]
          },
          "metadata": {},
          "execution_count": 1
        }
      ]
    },
    {
      "cell_type": "markdown",
      "source": [
        "## empty dict object"
      ],
      "metadata": {
        "id": "lxI9ZVmgYNLO"
      }
    },
    {
      "cell_type": "code",
      "source": [
        "d1 = { }\n",
        "\n",
        "d1"
      ],
      "metadata": {
        "colab": {
          "base_uri": "https://localhost:8080/"
        },
        "id": "5AyLxYWNYRcu",
        "outputId": "6ec31903-317e-4333-dd6f-07c1b2d39768"
      },
      "execution_count": 2,
      "outputs": [
        {
          "output_type": "execute_result",
          "data": {
            "text/plain": [
              "{}"
            ]
          },
          "metadata": {},
          "execution_count": 2
        }
      ]
    },
    {
      "cell_type": "markdown",
      "source": [
        "# Another method to create dict\n",
        "\n",
        "but here we use dict( )\n",
        "\n",
        "also here we can not use :"
      ],
      "metadata": {
        "id": "cebC2GeiYbRu"
      }
    },
    {
      "cell_type": "code",
      "source": [
        "d1 = dict(a=10 , b=20 , c= 30) # key value argument keys will str type and other are data values\n",
        "\n",
        "d1\n",
        "# we can not write any constant at left side we need a variable\n",
        "#keys will be hetrogenous type."
      ],
      "metadata": {
        "colab": {
          "base_uri": "https://localhost:8080/"
        },
        "id": "gL9_fsKbYUce",
        "outputId": "c9cc3013-bccc-418f-9f83-d475ee880bc1"
      },
      "execution_count": 4,
      "outputs": [
        {
          "output_type": "execute_result",
          "data": {
            "text/plain": [
              "{'a': 10, 'b': 20, 'c': 30}"
            ]
          },
          "metadata": {},
          "execution_count": 4
        }
      ]
    },
    {
      "cell_type": "markdown",
      "source": [
        "# Accsssing dict elements"
      ],
      "metadata": {
        "id": "QKrQaHchk3bk"
      }
    },
    {
      "cell_type": "code",
      "source": [
        "d1 = {102:'Ali',105:'Usman',106:'sam',107:'Suleman'}\n",
        "\n",
        "print(d1)"
      ],
      "metadata": {
        "colab": {
          "base_uri": "https://localhost:8080/"
        },
        "id": "yJF8DsgHk-Tc",
        "outputId": "b6532150-a037-4624-f15e-5580afe01f2e"
      },
      "execution_count": 5,
      "outputs": [
        {
          "output_type": "stream",
          "name": "stdout",
          "text": [
            "{102: 'Ali', 105: 'Usman', 106: 'sam', 107: 'Suleman'}\n"
          ]
        }
      ]
    },
    {
      "cell_type": "markdown",
      "source": [
        "# Accessing elemnts with the help of key."
      ],
      "metadata": {
        "id": "9SbwY7nzlLW0"
      }
    },
    {
      "cell_type": "code",
      "source": [
        "d1 = {102:'Ali',105:'Usman',106:'sam',107:'Suleman'}\n",
        "\n",
        "d1[105]"
      ],
      "metadata": {
        "colab": {
          "base_uri": "https://localhost:8080/",
          "height": 36
        },
        "id": "JhdC-wkLlURT",
        "outputId": "7e8224cb-3adc-4b10-9f74-d29ecac30748"
      },
      "execution_count": 6,
      "outputs": [
        {
          "output_type": "execute_result",
          "data": {
            "text/plain": [
              "'Usman'"
            ],
            "application/vnd.google.colaboratory.intrinsic+json": {
              "type": "string"
            }
          },
          "metadata": {},
          "execution_count": 6
        }
      ]
    },
    {
      "cell_type": "code",
      "source": [
        "d1 = {102:'Ali',105:'Usman',106:'sam',107:'Suleman'}\n",
        "\n",
        "d1[102]"
      ],
      "metadata": {
        "colab": {
          "base_uri": "https://localhost:8080/",
          "height": 36
        },
        "id": "FMLIKF-bld31",
        "outputId": "99c7435d-4f32-4223-9708-261e9e8525fe"
      },
      "execution_count": 7,
      "outputs": [
        {
          "output_type": "execute_result",
          "data": {
            "text/plain": [
              "'Ali'"
            ],
            "application/vnd.google.colaboratory.intrinsic+json": {
              "type": "string"
            }
          },
          "metadata": {},
          "execution_count": 7
        }
      ]
    },
    {
      "cell_type": "code",
      "source": [
        "d1 = {102:'Ali',105:'Usman',106:'sam',107:'Suleman'}\n",
        "\n",
        "d1[107]"
      ],
      "metadata": {
        "colab": {
          "base_uri": "https://localhost:8080/",
          "height": 36
        },
        "id": "lrvar415lgA0",
        "outputId": "20159bae-bfc8-4fb6-9a7f-7d1f0610c970"
      },
      "execution_count": 8,
      "outputs": [
        {
          "output_type": "execute_result",
          "data": {
            "text/plain": [
              "'Suleman'"
            ],
            "application/vnd.google.colaboratory.intrinsic+json": {
              "type": "string"
            }
          },
          "metadata": {},
          "execution_count": 8
        }
      ]
    },
    {
      "cell_type": "code",
      "source": [
        "d1 = {102:'Ali',105:'Usman',106:'sam',107:'Suleman'}\n",
        "\n",
        "d1[100] # errro no key available"
      ],
      "metadata": {
        "colab": {
          "base_uri": "https://localhost:8080/",
          "height": 176
        },
        "id": "Ypu6z2pWlifr",
        "outputId": "dd703b46-a206-45af-b549-1d3aadbdaee9"
      },
      "execution_count": 9,
      "outputs": [
        {
          "output_type": "error",
          "ename": "KeyError",
          "evalue": "100",
          "traceback": [
            "\u001b[0;31m---------------------------------------------------------------------------\u001b[0m",
            "\u001b[0;31mKeyError\u001b[0m                                  Traceback (most recent call last)",
            "\u001b[0;32m<ipython-input-9-6ed5dcad78f7>\u001b[0m in \u001b[0;36m<cell line: 0>\u001b[0;34m()\u001b[0m\n\u001b[1;32m      1\u001b[0m \u001b[0md1\u001b[0m \u001b[0;34m=\u001b[0m \u001b[0;34m{\u001b[0m\u001b[0;36m102\u001b[0m\u001b[0;34m:\u001b[0m\u001b[0;34m'Ali'\u001b[0m\u001b[0;34m,\u001b[0m\u001b[0;36m105\u001b[0m\u001b[0;34m:\u001b[0m\u001b[0;34m'Usman'\u001b[0m\u001b[0;34m,\u001b[0m\u001b[0;36m106\u001b[0m\u001b[0;34m:\u001b[0m\u001b[0;34m'sam'\u001b[0m\u001b[0;34m,\u001b[0m\u001b[0;36m107\u001b[0m\u001b[0;34m:\u001b[0m\u001b[0;34m'Suleman'\u001b[0m\u001b[0;34m}\u001b[0m\u001b[0;34m\u001b[0m\u001b[0;34m\u001b[0m\u001b[0m\n\u001b[1;32m      2\u001b[0m \u001b[0;34m\u001b[0m\u001b[0m\n\u001b[0;32m----> 3\u001b[0;31m \u001b[0md1\u001b[0m\u001b[0;34m[\u001b[0m\u001b[0;36m100\u001b[0m\u001b[0;34m]\u001b[0m\u001b[0;34m\u001b[0m\u001b[0;34m\u001b[0m\u001b[0m\n\u001b[0m",
            "\u001b[0;31mKeyError\u001b[0m: 100"
          ]
        }
      ]
    },
    {
      "cell_type": "code",
      "source": [
        "d1 = {102:'Ali',105:'Usman',106:'sam',107:'Suleman'}\n",
        "\n",
        "for k in d1: # just keys one by one add\n",
        "\n",
        "  print(k) # just key values will print"
      ],
      "metadata": {
        "colab": {
          "base_uri": "https://localhost:8080/"
        },
        "id": "WFWoBFwclpV7",
        "outputId": "dd046bb8-5ea8-4e6f-abe8-e635c1440ec5"
      },
      "execution_count": 10,
      "outputs": [
        {
          "output_type": "stream",
          "name": "stdout",
          "text": [
            "102\n",
            "105\n",
            "106\n",
            "107\n"
          ]
        }
      ]
    },
    {
      "cell_type": "code",
      "source": [
        "d1 = {102:'Ali',105:'Usman',106:'sam',107:'Suleman'}\n",
        "\n",
        "for k in d1: # just keys one by one add\n",
        "\n",
        "  print(k,d1[k]) # keys and data values will print"
      ],
      "metadata": {
        "colab": {
          "base_uri": "https://localhost:8080/"
        },
        "id": "vxv8R2iUlxk7",
        "outputId": "76b9b96d-592b-437f-aebd-37fba029b7c8"
      },
      "execution_count": 11,
      "outputs": [
        {
          "output_type": "stream",
          "name": "stdout",
          "text": [
            "102 Ali\n",
            "105 Usman\n",
            "106 sam\n",
            "107 Suleman\n"
          ]
        }
      ]
    },
    {
      "cell_type": "markdown",
      "source": [
        "# How to edit dict elements ?\n",
        "\n",
        "Editing disct elements means you want to change data_values of the element and not the key-value.\n",
        "\n",
        "Syntax:\n",
        "\n",
        "dictObject [ key-value ] = new datavalue\n",
        "\n",
        "del d1 [ 102 ]\n",
        "\n",
        "#Note:  \n",
        "\n",
        "if key-value is exists then data will edit otherwise new element will create with new value."
      ],
      "metadata": {
        "id": "0T8hUUXVmLq0"
      }
    },
    {
      "cell_type": "code",
      "source": [
        "d1 = {102:'Ali',105:'Usman',106:'sam',107:'Suleman'}\n",
        "\n",
        "del d1[102]\n",
        "\n",
        "d1"
      ],
      "metadata": {
        "colab": {
          "base_uri": "https://localhost:8080/"
        },
        "id": "vYqGh_AinI-s",
        "outputId": "4e6e7116-b8a1-4a22-de86-318c3d74b364"
      },
      "execution_count": 15,
      "outputs": [
        {
          "output_type": "execute_result",
          "data": {
            "text/plain": [
              "{105: 'Usman', 106: 'sam', 107: 'Suleman'}"
            ]
          },
          "metadata": {},
          "execution_count": 15
        }
      ]
    },
    {
      "cell_type": "code",
      "source": [
        "d1 = {102:'Ali',105:'Usman',106:'sam',107:'Suleman'}\n",
        "\n",
        "d1[102] = 'Python COURSE'\n",
        "\n",
        "d1"
      ],
      "metadata": {
        "colab": {
          "base_uri": "https://localhost:8080/"
        },
        "id": "y77snvp2nxds",
        "outputId": "aa7132e9-f35d-46d3-8c85-ceca12d845d4"
      },
      "execution_count": 17,
      "outputs": [
        {
          "output_type": "execute_result",
          "data": {
            "text/plain": [
              "{102: 'Python COURSE', 105: 'Usman', 106: 'sam', 107: 'Suleman'}"
            ]
          },
          "metadata": {},
          "execution_count": 17
        }
      ]
    },
    {
      "cell_type": "code",
      "source": [
        "d1 = {102:'Ali',105:'Usman',106:'sam',107:'Suleman'}\n",
        "\n",
        "del d1[105]\n",
        "\n",
        "d1"
      ],
      "metadata": {
        "colab": {
          "base_uri": "https://localhost:8080/"
        },
        "id": "e2b3HEK7oAzN",
        "outputId": "9f4d2201-9389-439a-d709-f378c8357c76"
      },
      "execution_count": 21,
      "outputs": [
        {
          "output_type": "execute_result",
          "data": {
            "text/plain": [
              "{102: 'Ali', 106: 'sam', 107: 'Suleman'}"
            ]
          },
          "metadata": {},
          "execution_count": 21
        }
      ]
    },
    {
      "cell_type": "code",
      "source": [
        "d1 = {102:'Ali',106:'sam',107:'Suleman'}\n",
        "\n",
        "d1[104] = 'Usman' #key value should be new in this we can insert data vlaues\n",
        "\n",
        "d1"
      ],
      "metadata": {
        "colab": {
          "base_uri": "https://localhost:8080/"
        },
        "id": "KBvIxIfNoLVE",
        "outputId": "fbd92605-4699-4f37-aab5-38ccedd35bd3"
      },
      "execution_count": 23,
      "outputs": [
        {
          "output_type": "execute_result",
          "data": {
            "text/plain": [
              "{102: 'Ali', 106: 'sam', 107: 'Suleman', 104: 'Usman'}"
            ]
          },
          "metadata": {},
          "execution_count": 23
        }
      ]
    },
    {
      "cell_type": "markdown",
      "source": [
        "# methods in dictionary\n",
        "\n",
        "1. items ( ) ---> collection dict elements\n",
        "\n",
        "2. keys ( )  ---> collection of keys only of the elements\n",
        "\n",
        "3. values ( ) ---> collection of data-values only of the dict elements\n",
        "\n",
        "All these methods are dict class attributes."
      ],
      "metadata": {
        "id": "yJGYWrBXowh9"
      }
    },
    {
      "cell_type": "code",
      "source": [
        "d1 = {102:'Ali',106:'sam',107:'Suleman'}\n",
        "\n",
        "d1.items() # key and data value ......series of tuple\n",
        "\n",
        "#return list od tuple"
      ],
      "metadata": {
        "colab": {
          "base_uri": "https://localhost:8080/"
        },
        "id": "zTdx4BeMpakc",
        "outputId": "f13ddbc4-bc9f-4065-e5c5-bf289a29cbcb"
      },
      "execution_count": 26,
      "outputs": [
        {
          "output_type": "execute_result",
          "data": {
            "text/plain": [
              "dict_items([(102, 'Ali'), (106, 'sam'), (107, 'Suleman')])"
            ]
          },
          "metadata": {},
          "execution_count": 26
        }
      ]
    },
    {
      "cell_type": "code",
      "source": [
        "d1 = {102:'Ali',106:'sam',107:'Suleman'}\n",
        "\n",
        "d1.keys()\n",
        "\n"
      ],
      "metadata": {
        "colab": {
          "base_uri": "https://localhost:8080/"
        },
        "id": "sooBnEzAp661",
        "outputId": "c54a14a9-3e08-4563-d31e-4720ce595451"
      },
      "execution_count": 28,
      "outputs": [
        {
          "output_type": "execute_result",
          "data": {
            "text/plain": [
              "dict_keys([102, 106, 107])"
            ]
          },
          "metadata": {},
          "execution_count": 28
        }
      ]
    },
    {
      "cell_type": "code",
      "source": [
        "\n",
        "d1 = {102:'Ali',106:'sam',107:'Suleman'}\n",
        "\n",
        "d1.values() # return dict vlaues obj\n",
        "\n"
      ],
      "metadata": {
        "colab": {
          "base_uri": "https://localhost:8080/"
        },
        "id": "smtvQf8WqEcU",
        "outputId": "1fa81a82-aa8b-4e90-cca6-dff278d290bc"
      },
      "execution_count": 29,
      "outputs": [
        {
          "output_type": "execute_result",
          "data": {
            "text/plain": [
              "dict_values(['Ali', 'sam', 'Suleman'])"
            ]
          },
          "metadata": {},
          "execution_count": 29
        }
      ]
    },
    {
      "cell_type": "code",
      "source": [
        "for v in d1.values():\n",
        "\n",
        "  print (v)"
      ],
      "metadata": {
        "colab": {
          "base_uri": "https://localhost:8080/"
        },
        "id": "FRhLDK_LqPod",
        "outputId": "1296f5de-3983-4beb-99e8-123d89ad6293"
      },
      "execution_count": 30,
      "outputs": [
        {
          "output_type": "stream",
          "name": "stdout",
          "text": [
            "Ali\n",
            "sam\n",
            "Suleman\n"
          ]
        }
      ]
    },
    {
      "cell_type": "code",
      "source": [
        "for v in d1.keys():\n",
        "\n",
        "  print (v)"
      ],
      "metadata": {
        "colab": {
          "base_uri": "https://localhost:8080/"
        },
        "id": "hIg4pk1RqVCN",
        "outputId": "74d2fd7c-f2c2-4b69-9392-e9f22064dd69"
      },
      "execution_count": 31,
      "outputs": [
        {
          "output_type": "stream",
          "name": "stdout",
          "text": [
            "102\n",
            "106\n",
            "107\n"
          ]
        }
      ]
    },
    {
      "cell_type": "code",
      "source": [
        "for v in d1.items():\n",
        "\n",
        "  print (v) # return in the from of tuple"
      ],
      "metadata": {
        "colab": {
          "base_uri": "https://localhost:8080/"
        },
        "id": "VVHS5dcmqcC9",
        "outputId": "b9d1a6ef-1b0c-4650-bf99-cb778446bf33"
      },
      "execution_count": 32,
      "outputs": [
        {
          "output_type": "stream",
          "name": "stdout",
          "text": [
            "(102, 'Ali')\n",
            "(106, 'sam')\n",
            "(107, 'Suleman')\n"
          ]
        }
      ]
    },
    {
      "cell_type": "code",
      "source": [
        "for k,v in d1.items(): #unpacked\n",
        "\n",
        "   print(k,v)\n",
        "\n"
      ],
      "metadata": {
        "colab": {
          "base_uri": "https://localhost:8080/"
        },
        "id": "Ca_Ge0ayqpJF",
        "outputId": "72ee3c17-cdfb-45c8-eb10-d0769e8cd64e"
      },
      "execution_count": 33,
      "outputs": [
        {
          "output_type": "stream",
          "name": "stdout",
          "text": [
            "102 Ali\n",
            "106 sam\n",
            "107 Suleman\n"
          ]
        }
      ]
    },
    {
      "cell_type": "markdown",
      "source": [
        "# built-in methods in dict:\n",
        "\n",
        "len ( )\n",
        "\n",
        "min ( )\n",
        "\n",
        "max ( )\n",
        "\n",
        "sum ( )\n",
        "\n",
        "sorted ( )\n",
        "\n"
      ],
      "metadata": {
        "id": "cbhsfdA8q00M"
      }
    },
    {
      "cell_type": "code",
      "source": [
        "\n",
        "d1 = {102:'Ali',106:'sam',107:'Suleman'}\n",
        "\n",
        "max(d1)"
      ],
      "metadata": {
        "colab": {
          "base_uri": "https://localhost:8080/"
        },
        "id": "fBnoG0-zq538",
        "outputId": "0362b4f1-ba25-4226-cd5a-68073331a414"
      },
      "execution_count": 34,
      "outputs": [
        {
          "output_type": "execute_result",
          "data": {
            "text/plain": [
              "107"
            ]
          },
          "metadata": {},
          "execution_count": 34
        }
      ]
    },
    {
      "cell_type": "code",
      "source": [
        "d1 = {102:'Ali',106:'sam',107:'Suleman'}\n",
        "\n",
        "min(d1)"
      ],
      "metadata": {
        "colab": {
          "base_uri": "https://localhost:8080/"
        },
        "id": "i9lHoUChrHLs",
        "outputId": "590c1dc1-0b1f-48a5-9e80-5fd4e7925dd4"
      },
      "execution_count": 35,
      "outputs": [
        {
          "output_type": "execute_result",
          "data": {
            "text/plain": [
              "102"
            ]
          },
          "metadata": {},
          "execution_count": 35
        }
      ]
    },
    {
      "cell_type": "code",
      "source": [
        "d1 = {102:'Ali',106:'sam',107:'Suleman'}\n",
        "\n",
        "sum(d1) # sum of keys"
      ],
      "metadata": {
        "colab": {
          "base_uri": "https://localhost:8080/"
        },
        "id": "QDD85a9crJMt",
        "outputId": "f140e5e8-0bbb-49cc-bce0-0cd55ae77376"
      },
      "execution_count": 36,
      "outputs": [
        {
          "output_type": "execute_result",
          "data": {
            "text/plain": [
              "315"
            ]
          },
          "metadata": {},
          "execution_count": 36
        }
      ]
    },
    {
      "cell_type": "code",
      "source": [
        "d1 = {102:'Ali',111:'sam',107:'Suleman'}\n",
        "\n",
        "sorted(d1) # sorting of keys"
      ],
      "metadata": {
        "colab": {
          "base_uri": "https://localhost:8080/"
        },
        "id": "SKkxipzTrRy9",
        "outputId": "60496fd7-fb67-4eec-b099-6f2a4ebe42be"
      },
      "execution_count": 38,
      "outputs": [
        {
          "output_type": "execute_result",
          "data": {
            "text/plain": [
              "[102, 107, 111]"
            ]
          },
          "metadata": {},
          "execution_count": 38
        }
      ]
    },
    {
      "cell_type": "markdown",
      "source": [
        "# Concatenation and Repetition Operator\n",
        "\n",
        "dict + dict # not applicable\n",
        "\n",
        "dict * ont # not applicable"
      ],
      "metadata": {
        "id": "5cJz9AGdraf0"
      }
    },
    {
      "cell_type": "markdown",
      "source": [
        "# Comparison Operator in dict:\n",
        "\n",
        "The inequality operators are not supported in dict.\n",
        "\n",
        "d1 > d2\n",
        "\n",
        "d1 >= d2\n",
        "\n",
        "d1 < d2\n",
        "\n",
        "d1 <= d2\n",
        "\n",
        "#equality Supported\n",
        "\n",
        "d1 == d2\n",
        "\n",
        "d1 != d2\n",
        "\n",
        "# Note:\n",
        "\n",
        "Two dict objects are equal if thier items are equal.\n",
        "\n",
        "Elements can be sorted in any order."
      ],
      "metadata": {
        "id": "UTAxb8IRrpgE"
      }
    },
    {
      "cell_type": "markdown",
      "source": [
        "# dict object methods\n",
        "\n",
        "\n",
        "pop (key) # data delete\n",
        "\n",
        "pop item ( )\n",
        "\n",
        "clear ( )"
      ],
      "metadata": {
        "id": "IqKqO6Rbshk0"
      }
    },
    {
      "cell_type": "code",
      "source": [
        "d1 = {102:'Ali',106:'sam',107:'Suleman'}\n",
        "\n",
        "d1.pop(106)"
      ],
      "metadata": {
        "colab": {
          "base_uri": "https://localhost:8080/",
          "height": 36
        },
        "id": "CKFDZq8Csw-c",
        "outputId": "bba79e8d-ce8e-4ccc-f34f-c232c0b375e8"
      },
      "execution_count": 39,
      "outputs": [
        {
          "output_type": "execute_result",
          "data": {
            "text/plain": [
              "'sam'"
            ],
            "application/vnd.google.colaboratory.intrinsic+json": {
              "type": "string"
            }
          },
          "metadata": {},
          "execution_count": 39
        }
      ]
    },
    {
      "cell_type": "code",
      "source": [
        "d1 = {102:'Ali',106:'sam',107:'Suleman'}\n",
        "\n",
        "d1.popitem() #will remove last key value pair"
      ],
      "metadata": {
        "colab": {
          "base_uri": "https://localhost:8080/"
        },
        "id": "-IlB1Bcvs3RM",
        "outputId": "22542f7d-9454-4077-e657-92b054a7240d"
      },
      "execution_count": 40,
      "outputs": [
        {
          "output_type": "execute_result",
          "data": {
            "text/plain": [
              "(107, 'Suleman')"
            ]
          },
          "metadata": {},
          "execution_count": 40
        }
      ]
    },
    {
      "cell_type": "code",
      "source": [
        "d1 = {102:'Ali',106:'sam',107:'Suleman'}\n",
        "\n",
        "d1.clear() # all items will be removed\n",
        "\n",
        "d1"
      ],
      "metadata": {
        "colab": {
          "base_uri": "https://localhost:8080/"
        },
        "id": "MPdsVPqgtF0t",
        "outputId": "756a375b-f824-48bc-8a46-4f139c1affb9"
      },
      "execution_count": 43,
      "outputs": [
        {
          "output_type": "execute_result",
          "data": {
            "text/plain": [
              "{}"
            ]
          },
          "metadata": {},
          "execution_count": 43
        }
      ]
    },
    {
      "cell_type": "markdown",
      "source": [
        "# dict comprehension\n",
        "\n",
        "Syntax:\n",
        "\n",
        "d1 = { key-expression:  data-expression for v in seq }"
      ],
      "metadata": {
        "id": "qB6obCOEtOFc"
      }
    },
    {
      "cell_type": "code",
      "source": [
        "d3 = {x:x**2 for x in range(1,6)}\n",
        "\n",
        "d3"
      ],
      "metadata": {
        "colab": {
          "base_uri": "https://localhost:8080/"
        },
        "id": "-pFYiJeTtihF",
        "outputId": "fd618708-3305-4dca-ad01-77efed67cab5"
      },
      "execution_count": 45,
      "outputs": [
        {
          "output_type": "execute_result",
          "data": {
            "text/plain": [
              "{1: 1, 2: 4, 3: 9, 4: 16, 5: 25}"
            ]
          },
          "metadata": {},
          "execution_count": 45
        }
      ]
    }
  ]
}