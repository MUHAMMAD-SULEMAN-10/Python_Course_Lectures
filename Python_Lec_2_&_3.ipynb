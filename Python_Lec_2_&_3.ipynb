{
  "nbformat": 4,
  "nbformat_minor": 0,
  "metadata": {
    "colab": {
      "provenance": []
    },
    "kernelspec": {
      "name": "python3",
      "display_name": "Python 3"
    },
    "language_info": {
      "name": "python"
    }
  },
  "cells": [
    {
      "cell_type": "markdown",
      "source": [
        "#Agenda\n",
        "1. Variable Case sensitivity\n",
        "2. Reserved words in Python\n",
        "3. Multi assignment of variables\n",
        "4. User input\n",
        "5. type casting | type conversion\n",
        "6. Memory Block\n",
        "6. Operators\n",
        "   - Logical\n",
        "   - Equality\n",
        "   - Comparion\n",
        "   - Arthamatic\n",
        "   - BitWise [Advance Topic]\n",
        "   - Operators for sets and dictionary\n"
      ],
      "metadata": {
        "id": "YbGXeRIYfgM4"
      }
    },
    {
      "cell_type": "code",
      "source": [
        "#Variables Case sensitivity\n",
        "TEN = 10\n",
        "ten = 20\n",
        "#TEN and ten both are differ in terms of lowercase and uppercase letter\n"
      ],
      "metadata": {
        "id": "d9Nr6tcEg9Z_"
      },
      "execution_count": null,
      "outputs": []
    },
    {
      "cell_type": "code",
      "source": [
        "print(Ten)"
      ],
      "metadata": {
        "colab": {
          "base_uri": "https://localhost:8080/",
          "height": 141
        },
        "id": "siDaVpZmiV3n",
        "outputId": "69a8f929-1a6f-4ae6-9649-ec8f7364ae58"
      },
      "execution_count": null,
      "outputs": [
        {
          "output_type": "error",
          "ename": "NameError",
          "evalue": "name 'Ten' is not defined",
          "traceback": [
            "\u001b[0;31m---------------------------------------------------------------------------\u001b[0m",
            "\u001b[0;31mNameError\u001b[0m                                 Traceback (most recent call last)",
            "\u001b[0;32m<ipython-input-5-102da4055415>\u001b[0m in \u001b[0;36m<cell line: 0>\u001b[0;34m()\u001b[0m\n\u001b[0;32m----> 1\u001b[0;31m \u001b[0mprint\u001b[0m\u001b[0;34m(\u001b[0m\u001b[0mTen\u001b[0m\u001b[0;34m)\u001b[0m\u001b[0;34m\u001b[0m\u001b[0;34m\u001b[0m\u001b[0m\n\u001b[0m",
            "\u001b[0;31mNameError\u001b[0m: name 'Ten' is not defined"
          ]
        }
      ]
    },
    {
      "cell_type": "markdown",
      "source": [
        "#Reserved words in python\n",
        "1. we should not use reserved words as variable name\n",
        "2. Also python does not restrict the user to use reserved keywords as a variables names\n",
        "\n",
        "3. LINK: https://docs.python.org/2.5/ref/keywords.html"
      ],
      "metadata": {
        "id": "aH2OWiu-io9f"
      }
    },
    {
      "cell_type": "code",
      "source": [
        "print(\"Hi there\")"
      ],
      "metadata": {
        "colab": {
          "base_uri": "https://localhost:8080/"
        },
        "id": "nuvBUeffiwJv",
        "outputId": "aa237b6f-5962-4b4e-eccb-8c34699bcf50"
      },
      "execution_count": null,
      "outputs": [
        {
          "output_type": "stream",
          "name": "stdout",
          "text": [
            "Hi there\n"
          ]
        }
      ]
    },
    {
      "cell_type": "code",
      "source": [
        "print = \"Hi there\" #as a variable\n",
        "type(print)"
      ],
      "metadata": {
        "colab": {
          "base_uri": "https://localhost:8080/"
        },
        "id": "vaa-8Uozi4V_",
        "outputId": "41268fce-0d8e-43df-8aaa-dfabf3bbaf3e"
      },
      "execution_count": null,
      "outputs": [
        {
          "output_type": "execute_result",
          "data": {
            "text/plain": [
              "str"
            ]
          },
          "metadata": {},
          "execution_count": 7
        }
      ]
    },
    {
      "cell_type": "code",
      "source": [
        "print(\"Hi there\")"
      ],
      "metadata": {
        "colab": {
          "base_uri": "https://localhost:8080/",
          "height": 141
        },
        "id": "_8yp2Dj6jCTH",
        "outputId": "9e8171bf-05c6-4ea2-8cfd-28248a017263"
      },
      "execution_count": null,
      "outputs": [
        {
          "output_type": "error",
          "ename": "TypeError",
          "evalue": "'str' object is not callable",
          "traceback": [
            "\u001b[0;31m---------------------------------------------------------------------------\u001b[0m",
            "\u001b[0;31mTypeError\u001b[0m                                 Traceback (most recent call last)",
            "\u001b[0;32m<ipython-input-8-67ee3d3b1c34>\u001b[0m in \u001b[0;36m<cell line: 0>\u001b[0;34m()\u001b[0m\n\u001b[0;32m----> 1\u001b[0;31m \u001b[0mprint\u001b[0m\u001b[0;34m(\u001b[0m\u001b[0;34m\"Hi there\"\u001b[0m\u001b[0;34m)\u001b[0m\u001b[0;34m\u001b[0m\u001b[0;34m\u001b[0m\u001b[0m\n\u001b[0m",
            "\u001b[0;31mTypeError\u001b[0m: 'str' object is not callable"
          ]
        }
      ]
    },
    {
      "cell_type": "code",
      "source": [
        "del print #delete the variable print\n",
        "\n",
        "#del is also reserved word"
      ],
      "metadata": {
        "id": "MYQ-RHTyjw0n"
      },
      "execution_count": null,
      "outputs": []
    },
    {
      "cell_type": "code",
      "source": [
        "print(\"Hi there\")"
      ],
      "metadata": {
        "colab": {
          "base_uri": "https://localhost:8080/"
        },
        "id": "pOo6ezZhj0LH",
        "outputId": "65d82d5b-5f46-4222-c956-44b5c0cdd8fc"
      },
      "execution_count": null,
      "outputs": [
        {
          "output_type": "stream",
          "name": "stdout",
          "text": [
            "Hi there\n"
          ]
        }
      ]
    },
    {
      "cell_type": "code",
      "source": [
        "Print = \"Hi there \"#as a varibale\n",
        "type(Print)"
      ],
      "metadata": {
        "colab": {
          "base_uri": "https://localhost:8080/"
        },
        "id": "YExB1UfLkD44",
        "outputId": "0893e837-cfe2-499e-f010-6b853952ac72"
      },
      "execution_count": null,
      "outputs": [
        {
          "output_type": "execute_result",
          "data": {
            "text/plain": [
              "str"
            ]
          },
          "metadata": {},
          "execution_count": 14
        }
      ]
    },
    {
      "cell_type": "markdown",
      "source": [
        "## Multi assignment of variables\n"
      ],
      "metadata": {
        "id": "0zYoKEd7lYWv"
      }
    },
    {
      "cell_type": "code",
      "source": [
        "a, b, c, yes = 10, 20, \"Suleman\", True\n"
      ],
      "metadata": {
        "id": "rZkbA42JlhMv"
      },
      "execution_count": null,
      "outputs": []
    },
    {
      "cell_type": "code",
      "source": [
        "type(a)\n"
      ],
      "metadata": {
        "colab": {
          "base_uri": "https://localhost:8080/"
        },
        "id": "6W_WkWgal1vg",
        "outputId": "3dfc04d1-f76a-4c49-fef7-b23f514de3b3"
      },
      "execution_count": null,
      "outputs": [
        {
          "output_type": "execute_result",
          "data": {
            "text/plain": [
              "int"
            ]
          },
          "metadata": {},
          "execution_count": 21
        }
      ]
    },
    {
      "cell_type": "code",
      "source": [
        "type(b)"
      ],
      "metadata": {
        "colab": {
          "base_uri": "https://localhost:8080/"
        },
        "id": "AqpeK63rmLYH",
        "outputId": "5a10b6a1-10e8-4fa5-c613-f9d4e88bba53"
      },
      "execution_count": null,
      "outputs": [
        {
          "output_type": "execute_result",
          "data": {
            "text/plain": [
              "int"
            ]
          },
          "metadata": {},
          "execution_count": 22
        }
      ]
    },
    {
      "cell_type": "code",
      "source": [
        "type(c)"
      ],
      "metadata": {
        "colab": {
          "base_uri": "https://localhost:8080/"
        },
        "id": "9bbwdcuMmMEu",
        "outputId": "ff9a6cac-f698-4ef9-b0d8-7fd4a8d96f9a"
      },
      "execution_count": null,
      "outputs": [
        {
          "output_type": "execute_result",
          "data": {
            "text/plain": [
              "str"
            ]
          },
          "metadata": {},
          "execution_count": 23
        }
      ]
    },
    {
      "cell_type": "code",
      "source": [
        "type(yes)"
      ],
      "metadata": {
        "colab": {
          "base_uri": "https://localhost:8080/"
        },
        "id": "h0ZynsBtnDgH",
        "outputId": "d98e690f-0c8e-40c3-9b58-a196defb755a"
      },
      "execution_count": null,
      "outputs": [
        {
          "output_type": "execute_result",
          "data": {
            "text/plain": [
              "bool"
            ]
          },
          "metadata": {},
          "execution_count": 32
        }
      ]
    },
    {
      "cell_type": "code",
      "source": [
        "a,b,c = 10"
      ],
      "metadata": {
        "colab": {
          "base_uri": "https://localhost:8080/",
          "height": 141
        },
        "id": "4VuHYYwMnHMX",
        "outputId": "2a4579eb-a4fa-4c80-97c4-0d8a95835aa9"
      },
      "execution_count": null,
      "outputs": [
        {
          "output_type": "error",
          "ename": "TypeError",
          "evalue": "cannot unpack non-iterable int object",
          "traceback": [
            "\u001b[0;31m---------------------------------------------------------------------------\u001b[0m",
            "\u001b[0;31mTypeError\u001b[0m                                 Traceback (most recent call last)",
            "\u001b[0;32m<ipython-input-33-2ddb65653bd1>\u001b[0m in \u001b[0;36m<cell line: 0>\u001b[0;34m()\u001b[0m\n\u001b[0;32m----> 1\u001b[0;31m \u001b[0ma\u001b[0m\u001b[0;34m,\u001b[0m\u001b[0mb\u001b[0m\u001b[0;34m,\u001b[0m\u001b[0mc\u001b[0m \u001b[0;34m=\u001b[0m \u001b[0;36m10\u001b[0m\u001b[0;34m\u001b[0m\u001b[0;34m\u001b[0m\u001b[0m\n\u001b[0m",
            "\u001b[0;31mTypeError\u001b[0m: cannot unpack non-iterable int object"
          ]
        }
      ]
    },
    {
      "cell_type": "code",
      "source": [
        "type(a,b,c,yes) #only take one input\n",
        "#type error"
      ],
      "metadata": {
        "colab": {
          "base_uri": "https://localhost:8080/",
          "height": 141
        },
        "id": "J3YzGgj3nO7g",
        "outputId": "03c8261f-5463-4747-d60b-0d8175e14950"
      },
      "execution_count": null,
      "outputs": [
        {
          "output_type": "error",
          "ename": "TypeError",
          "evalue": "type() takes 1 or 3 arguments",
          "traceback": [
            "\u001b[0;31m---------------------------------------------------------------------------\u001b[0m",
            "\u001b[0;31mTypeError\u001b[0m                                 Traceback (most recent call last)",
            "\u001b[0;32m<ipython-input-34-1ed3dc6f8ecb>\u001b[0m in \u001b[0;36m<cell line: 0>\u001b[0;34m()\u001b[0m\n\u001b[0;32m----> 1\u001b[0;31m \u001b[0mtype\u001b[0m\u001b[0;34m(\u001b[0m\u001b[0ma\u001b[0m\u001b[0;34m,\u001b[0m\u001b[0mb\u001b[0m\u001b[0;34m,\u001b[0m\u001b[0mc\u001b[0m\u001b[0;34m,\u001b[0m\u001b[0myes\u001b[0m\u001b[0;34m)\u001b[0m\u001b[0;34m\u001b[0m\u001b[0;34m\u001b[0m\u001b[0m\n\u001b[0m",
            "\u001b[0;31mTypeError\u001b[0m: type() takes 1 or 3 arguments"
          ]
        }
      ]
    },
    {
      "cell_type": "code",
      "source": [
        "type(a)\n",
        "type(b)\n",
        "type(c) #will give only one output"
      ],
      "metadata": {
        "colab": {
          "base_uri": "https://localhost:8080/"
        },
        "id": "1ls9ph6lnew_",
        "outputId": "f28444dd-7074-4d85-b8e4-f3f450c6240c"
      },
      "execution_count": null,
      "outputs": [
        {
          "output_type": "execute_result",
          "data": {
            "text/plain": [
              "str"
            ]
          },
          "metadata": {},
          "execution_count": 35
        }
      ]
    },
    {
      "cell_type": "code",
      "source": [
        "print(type(a))\n",
        "print(type(b))\n",
        "print(type(c))\n",
        "print((type(yes)))"
      ],
      "metadata": {
        "id": "blKasDztnnQe",
        "colab": {
          "base_uri": "https://localhost:8080/"
        },
        "outputId": "ca5f05ec-4b55-446e-b5f1-95f0770713e7"
      },
      "execution_count": null,
      "outputs": [
        {
          "output_type": "stream",
          "name": "stdout",
          "text": [
            "<class 'int'>\n",
            "<class 'int'>\n",
            "<class 'str'>\n",
            "<class 'bool'>\n"
          ]
        }
      ]
    },
    {
      "cell_type": "markdown",
      "source": [
        "#Case Sensitivity variables"
      ],
      "metadata": {
        "id": "BzmVPT8620wi"
      }
    },
    {
      "cell_type": "code",
      "source": [
        "a,b,c = 10,20,45"
      ],
      "metadata": {
        "id": "tAUNT5m83KbC"
      },
      "execution_count": null,
      "outputs": []
    },
    {
      "cell_type": "code",
      "source": [
        "a, A, c, C = 10, 20.3, \"Suleman\", True"
      ],
      "metadata": {
        "id": "pOD0RR0W3QOq"
      },
      "execution_count": null,
      "outputs": []
    },
    {
      "cell_type": "code",
      "source": [
        "print(a, A, c, C)"
      ],
      "metadata": {
        "colab": {
          "base_uri": "https://localhost:8080/"
        },
        "id": "1Cpupvf-3a5S",
        "outputId": "6a522f83-9354-40ff-db33-efb31ba4765b"
      },
      "execution_count": null,
      "outputs": [
        {
          "output_type": "stream",
          "name": "stdout",
          "text": [
            "10 20.3 Suleman True\n"
          ]
        }
      ]
    },
    {
      "cell_type": "code",
      "source": [
        "a=b=c=10\n",
        "a,b,c"
      ],
      "metadata": {
        "colab": {
          "base_uri": "https://localhost:8080/"
        },
        "id": "B_A2z2yG3046",
        "outputId": "aeea3735-496e-4886-81d9-7df25678a9e0"
      },
      "execution_count": null,
      "outputs": [
        {
          "output_type": "execute_result",
          "data": {
            "text/plain": [
              "(10, 10, 10)"
            ]
          },
          "metadata": {},
          "execution_count": 43
        }
      ]
    },
    {
      "cell_type": "markdown",
      "source": [
        "#User Input & Type Conversion\n",
        "\n",
        "1. we can convert the data type of one variable into another if allowed"
      ],
      "metadata": {
        "id": "XM78Hsfn4q_Z"
      }
    },
    {
      "cell_type": "code",
      "source": [
        "name = input(\"Enter your name: \")\n",
        "print(f\"You have enterted: {name}\")"
      ],
      "metadata": {
        "colab": {
          "base_uri": "https://localhost:8080/"
        },
        "id": "vVbe-9ur4vS6",
        "outputId": "71059a95-7350-4b73-832d-b5927190c186"
      },
      "execution_count": null,
      "outputs": [
        {
          "output_type": "stream",
          "name": "stdout",
          "text": [
            "Enter your name: 4678\n",
            "You have enterted: 4678\n"
          ]
        }
      ]
    },
    {
      "cell_type": "code",
      "source": [
        "# name = input(\"Enter your name: \")\n",
        "# print(f\"You have enterted: {name}\")\n",
        "\n",
        "A = input(\"Enter value of A: \")\n",
        "B = input(\"Enter value of B: \")\n",
        "\n",
        "print(f\"Sum of A and B is: {A+B}\")#it will not add the values but will treat as result in string\n",
        "print(type(A), type(B))"
      ],
      "metadata": {
        "colab": {
          "base_uri": "https://localhost:8080/"
        },
        "id": "VTE3QMzX5Jmy",
        "outputId": "66ffa615-e97f-42ab-b11e-f14462e79ae0"
      },
      "execution_count": null,
      "outputs": [
        {
          "output_type": "stream",
          "name": "stdout",
          "text": [
            "Enter value of A: 4\n",
            "Enter value of B: 8\n",
            "Sum of A and B is: 48\n",
            "<class 'str'> <class 'str'>\n"
          ]
        }
      ]
    },
    {
      "cell_type": "code",
      "source": [
        "#this is called type conversion\n",
        "A = int(input(\"Enter value of A: \"))#converted into integer\n",
        "B = int(input(\"Enter value of B: \"))\n",
        "\n",
        "print(f\"Sum of A and B is: {A+B}\")"
      ],
      "metadata": {
        "colab": {
          "base_uri": "https://localhost:8080/"
        },
        "id": "NPUcu_1t6dfa",
        "outputId": "11190314-1e27-44ac-9deb-31632e2866bc"
      },
      "execution_count": null,
      "outputs": [
        {
          "output_type": "stream",
          "name": "stdout",
          "text": [
            "Enter value of A: 55\n",
            "Enter value of B: 5\n",
            "Sum of A and B is: 60\n"
          ]
        }
      ]
    },
    {
      "cell_type": "code",
      "source": [
        "print(type(A), type(B))"
      ],
      "metadata": {
        "colab": {
          "base_uri": "https://localhost:8080/"
        },
        "id": "dSODqCYJ64UL",
        "outputId": "2ab48ee8-9e8e-4666-f5e4-087702bb001d"
      },
      "execution_count": null,
      "outputs": [
        {
          "output_type": "stream",
          "name": "stdout",
          "text": [
            "<class 'int'> <class 'int'>\n"
          ]
        }
      ]
    },
    {
      "cell_type": "code",
      "source": [
        "#String to integer | it is allowed\n",
        "A = \"50\"\n",
        "print(f\"data type before: {type(A)}\")\n",
        "A = int(A)\n",
        "print(f\"data type after: {type(A)}\")"
      ],
      "metadata": {
        "colab": {
          "base_uri": "https://localhost:8080/"
        },
        "id": "ibnvNnY_69Ky",
        "outputId": "084667ab-05f7-4c0f-a9ea-c1b00cc211cf"
      },
      "execution_count": null,
      "outputs": [
        {
          "output_type": "stream",
          "name": "stdout",
          "text": [
            "data type before: <class 'str'>\n",
            "data type after: <class 'int'>\n"
          ]
        }
      ]
    },
    {
      "cell_type": "code",
      "source": [
        "#String float to integer | it is not allowed | only string will be convert not float\n",
        "A = \"50.5\" #entring float\n",
        "print(f\"data type before: {type(A)}\")\n",
        "A = int(A) #trying to convert it into integer\n",
        "print(f\"data type after: {type(A)}\")"
      ],
      "metadata": {
        "colab": {
          "base_uri": "https://localhost:8080/",
          "height": 220
        },
        "id": "CzjQvurr8ZfB",
        "outputId": "b9a72bea-9df0-4859-c3e4-91fc966e9d74"
      },
      "execution_count": null,
      "outputs": [
        {
          "output_type": "stream",
          "name": "stdout",
          "text": [
            "data type before: <class 'str'>\n"
          ]
        },
        {
          "output_type": "error",
          "ename": "ValueError",
          "evalue": "invalid literal for int() with base 10: '50.5'",
          "traceback": [
            "\u001b[0;31m---------------------------------------------------------------------------\u001b[0m",
            "\u001b[0;31mValueError\u001b[0m                                Traceback (most recent call last)",
            "\u001b[0;32m<ipython-input-54-029f172392bf>\u001b[0m in \u001b[0;36m<cell line: 0>\u001b[0;34m()\u001b[0m\n\u001b[1;32m      2\u001b[0m \u001b[0mA\u001b[0m \u001b[0;34m=\u001b[0m \u001b[0;34m\"50.5\"\u001b[0m\u001b[0;34m\u001b[0m\u001b[0;34m\u001b[0m\u001b[0m\n\u001b[1;32m      3\u001b[0m \u001b[0mprint\u001b[0m\u001b[0;34m(\u001b[0m\u001b[0;34mf\"data type before: {type(A)}\"\u001b[0m\u001b[0;34m)\u001b[0m\u001b[0;34m\u001b[0m\u001b[0;34m\u001b[0m\u001b[0m\n\u001b[0;32m----> 4\u001b[0;31m \u001b[0mA\u001b[0m \u001b[0;34m=\u001b[0m \u001b[0mint\u001b[0m\u001b[0;34m(\u001b[0m\u001b[0mA\u001b[0m\u001b[0;34m)\u001b[0m\u001b[0;34m\u001b[0m\u001b[0;34m\u001b[0m\u001b[0m\n\u001b[0m\u001b[1;32m      5\u001b[0m \u001b[0mprint\u001b[0m\u001b[0;34m(\u001b[0m\u001b[0;34mf\"data type after: {type(A)}\"\u001b[0m\u001b[0;34m)\u001b[0m\u001b[0;34m\u001b[0m\u001b[0;34m\u001b[0m\u001b[0m\n",
            "\u001b[0;31mValueError\u001b[0m: invalid literal for int() with base 10: '50.5'"
          ]
        }
      ]
    },
    {
      "cell_type": "code",
      "source": [
        "# float to integer allowed\n",
        "A = 50.5 #entring float\n",
        "print(f\"data type before: {type(A)}, value of A: {A}\")\n",
        "A = int(A)   #integer\n",
        "print(f\"data type after: {type(A)}, value of B: {A}\")\n"
      ],
      "metadata": {
        "colab": {
          "base_uri": "https://localhost:8080/"
        },
        "id": "US1Bc2g39Hpp",
        "outputId": "823ba3a9-e209-4412-db9a-ca1575f2d245"
      },
      "execution_count": null,
      "outputs": [
        {
          "output_type": "stream",
          "name": "stdout",
          "text": [
            "data type before: <class 'float'>, value of A: 50.5\n",
            "data type after: <class 'int'>, value of B: 50\n"
          ]
        }
      ]
    },
    {
      "cell_type": "code",
      "source": [
        "#INTEGER TO FLOAT\n",
        "A = 50\n",
        "print(f\"data type before: {type(A)}, value of A: {A}\")\n",
        "A = float(A)   #integer\n",
        "print(f\"data type after: {type(A)}, value of B: {A}\")\n"
      ],
      "metadata": {
        "id": "2rteG4bm9kRp",
        "colab": {
          "base_uri": "https://localhost:8080/"
        },
        "outputId": "eb69525c-b5ee-4bde-e12a-fe922a1b8902"
      },
      "execution_count": null,
      "outputs": [
        {
          "output_type": "stream",
          "name": "stdout",
          "text": [
            "data type before: <class 'int'>, value of A: 50\n",
            "data type after: <class 'float'>, value of B: 50.0\n"
          ]
        }
      ]
    },
    {
      "cell_type": "markdown",
      "source": [
        "> Note: Converting any non zero number and string values into boolean will give True as an answer.\n",
        "\n",
        "> Note: Empty string will give Flase as an answer after converting from string to boolean."
      ],
      "metadata": {
        "id": "7Q2nWQAjytiU"
      }
    },
    {
      "cell_type": "code",
      "source": [
        "#integer to boolean\n",
        "A = 10\n",
        "print(f\"data type before: {type(A)}, value of A: {A}\")\n",
        "A = bool(A)   #integer\n",
        "print(f\"data type after: {type(A)}, value of B: {A}\")\n"
      ],
      "metadata": {
        "colab": {
          "base_uri": "https://localhost:8080/"
        },
        "id": "--KGfBJzrp09",
        "outputId": "ad5bbe75-aa77-4e58-b850-989436120b52"
      },
      "execution_count": null,
      "outputs": [
        {
          "output_type": "stream",
          "name": "stdout",
          "text": [
            "data type before: <class 'int'>, value of A: 10\n",
            "data type after: <class 'bool'>, value of B: True\n"
          ]
        }
      ]
    },
    {
      "cell_type": "code",
      "source": [
        "#integer to boolean\n",
        "A = 0\n",
        "print(f\"data type before: {type(A)}, value of A: {A}\")\n",
        "A = bool(A)   #integer\n",
        "print(f\"data type after: {type(A)}, value of B: {A}\")"
      ],
      "metadata": {
        "colab": {
          "base_uri": "https://localhost:8080/"
        },
        "id": "9HdzA4RVr5K8",
        "outputId": "02d9b998-14cc-4fe0-a75c-fd4b2d62a186"
      },
      "execution_count": null,
      "outputs": [
        {
          "output_type": "stream",
          "name": "stdout",
          "text": [
            "data type before: <class 'int'>, value of A: 0\n",
            "data type after: <class 'bool'>, value of B: False\n"
          ]
        }
      ]
    },
    {
      "cell_type": "code",
      "source": [
        "A = -5 # 0 will give only false to us\n",
        "print(f\"data type before: {type(A)}, value of A: {A}\")\n",
        "A = bool(A)   #integer\n",
        "print(f\"data type after: {type(A)}, value of B: {A}\")"
      ],
      "metadata": {
        "colab": {
          "base_uri": "https://localhost:8080/"
        },
        "id": "aO2vSeLnr9PE",
        "outputId": "34251a5a-a9b7-43de-c291-ced110dabaa8"
      },
      "execution_count": null,
      "outputs": [
        {
          "output_type": "stream",
          "name": "stdout",
          "text": [
            "data type before: <class 'int'>, value of A: -5\n",
            "data type after: <class 'bool'>, value of B: True\n"
          ]
        }
      ]
    },
    {
      "cell_type": "code",
      "source": [
        "A = \"Suleman\" #most of integer will give you true\n",
        "print(f\"data type before: {type(A)}, value of A: {A}\")\n",
        "A = bool(A)   #integer\n",
        "print(f\"data type after: {type(A)}, value of B: {A}\")"
      ],
      "metadata": {
        "colab": {
          "base_uri": "https://localhost:8080/"
        },
        "id": "G1C31ESUsMKF",
        "outputId": "d41856fc-08d4-4941-a746-ff683e3b3cd6"
      },
      "execution_count": null,
      "outputs": [
        {
          "output_type": "stream",
          "name": "stdout",
          "text": [
            "data type before: <class 'str'>, value of A: Suleman\n",
            "data type after: <class 'bool'>, value of B: True\n"
          ]
        }
      ]
    },
    {
      "cell_type": "code",
      "source": [
        "A = \"False\" #treating as an string | avoid it\n",
        "print(f\"data type before: {type(A)}, value of A: {A}\")\n",
        "A = bool(A)   #integer\n",
        "print(f\"data type after: {type(A)}, value of B: {A}\")"
      ],
      "metadata": {
        "colab": {
          "base_uri": "https://localhost:8080/"
        },
        "id": "w3ewMAhlsT2k",
        "outputId": "33bc2307-c525-4f5d-ef07-4a8498667518"
      },
      "execution_count": null,
      "outputs": [
        {
          "output_type": "stream",
          "name": "stdout",
          "text": [
            "data type before: <class 'str'>, value of A: False\n",
            "data type after: <class 'bool'>, value of B: True\n"
          ]
        }
      ]
    },
    {
      "cell_type": "code",
      "source": [
        "A = \"True\"\n",
        "print(f\"data type before: {type(A)}, value of A: {A}\")\n",
        "A = bool(A)   #integer\n",
        "print(f\"data type after: {type(A)}, value of B: {A}\")"
      ],
      "metadata": {
        "colab": {
          "base_uri": "https://localhost:8080/"
        },
        "id": "CSoTtiYHsbvE",
        "outputId": "ede04c4f-0cc3-4b9b-88e2-e10dd5de9702"
      },
      "execution_count": null,
      "outputs": [
        {
          "output_type": "stream",
          "name": "stdout",
          "text": [
            "data type before: <class 'str'>, value of A: True\n",
            "data type after: <class 'bool'>, value of B: True\n"
          ]
        }
      ]
    },
    {
      "cell_type": "code",
      "source": [
        "A = \" \" #empty string will give you false\n",
        "print(f\"data type before: {type(A)}, value of A: {A}\")\n",
        "A = bool(A)   #integer\n",
        "print(f\"data type after: {type(A)}, value of B: {A}\")"
      ],
      "metadata": {
        "colab": {
          "base_uri": "https://localhost:8080/"
        },
        "id": "ntSHfgmEsll0",
        "outputId": "4b769c2b-c5d2-4fd4-80a9-4d7be696174b"
      },
      "execution_count": null,
      "outputs": [
        {
          "output_type": "stream",
          "name": "stdout",
          "text": [
            "data type before: <class 'str'>, value of A: \n",
            "data type after: <class 'bool'>, value of B: False\n"
          ]
        }
      ]
    },
    {
      "cell_type": "code",
      "source": [],
      "metadata": {
        "id": "02LKIyVwsx2E"
      },
      "execution_count": null,
      "outputs": []
    },
    {
      "cell_type": "code",
      "source": [
        "#empty string to integer | will give you error\n",
        "A = \" \"\n",
        "print(f\"data type before: {type(A)}, value of A: {A}\")\n",
        "A = int(A)   #integer\n",
        "print(f\"data type after: {type(A)}, value of B: {A}\")"
      ],
      "metadata": {
        "colab": {
          "base_uri": "https://localhost:8080/",
          "height": 211
        },
        "id": "ZcihgjlRs5SU",
        "outputId": "0cd4ca95-8b27-4f9d-cb4e-6018b7385d34"
      },
      "execution_count": null,
      "outputs": [
        {
          "output_type": "stream",
          "name": "stdout",
          "text": [
            "data type before: <class 'str'>, value of A:  \n"
          ]
        },
        {
          "output_type": "error",
          "ename": "ValueError",
          "evalue": "invalid literal for int() with base 10: ' '",
          "traceback": [
            "\u001b[0;31m---------------------------------------------------------------------------\u001b[0m",
            "\u001b[0;31mValueError\u001b[0m                                Traceback (most recent call last)",
            "\u001b[0;32m<ipython-input-11-9373a71ce04b>\u001b[0m in \u001b[0;36m<cell line: 0>\u001b[0;34m()\u001b[0m\n\u001b[1;32m      2\u001b[0m \u001b[0mA\u001b[0m \u001b[0;34m=\u001b[0m \u001b[0;34m\" \"\u001b[0m\u001b[0;34m\u001b[0m\u001b[0;34m\u001b[0m\u001b[0m\n\u001b[1;32m      3\u001b[0m \u001b[0mprint\u001b[0m\u001b[0;34m(\u001b[0m\u001b[0;34mf\"data type before: {type(A)}, value of A: {A}\"\u001b[0m\u001b[0;34m)\u001b[0m\u001b[0;34m\u001b[0m\u001b[0;34m\u001b[0m\u001b[0m\n\u001b[0;32m----> 4\u001b[0;31m \u001b[0mA\u001b[0m \u001b[0;34m=\u001b[0m \u001b[0mint\u001b[0m\u001b[0;34m(\u001b[0m\u001b[0mA\u001b[0m\u001b[0;34m)\u001b[0m   \u001b[0;31m#integer\u001b[0m\u001b[0;34m\u001b[0m\u001b[0;34m\u001b[0m\u001b[0m\n\u001b[0m\u001b[1;32m      5\u001b[0m \u001b[0mprint\u001b[0m\u001b[0;34m(\u001b[0m\u001b[0;34mf\"data type after: {type(A)}, value of B: {A}\"\u001b[0m\u001b[0;34m)\u001b[0m\u001b[0;34m\u001b[0m\u001b[0;34m\u001b[0m\u001b[0m\n",
            "\u001b[0;31mValueError\u001b[0m: invalid literal for int() with base 10: ' '"
          ]
        }
      ]
    },
    {
      "cell_type": "markdown",
      "source": [
        "#Memory Block"
      ],
      "metadata": {
        "id": "rF0udDTku_-1"
      }
    },
    {
      "cell_type": "code",
      "source": [
        "a = 22\n",
        "b = 34\n",
        "c= 22\n"
      ],
      "metadata": {
        "id": "RkqRJXb8vE19"
      },
      "execution_count": null,
      "outputs": []
    },
    {
      "cell_type": "code",
      "source": [
        "id(a) #id means it will tell you the memory location/adress"
      ],
      "metadata": {
        "colab": {
          "base_uri": "https://localhost:8080/"
        },
        "id": "ndGwcq9L2olc",
        "outputId": "86832d35-cad0-4cf3-b68a-91693e43f574"
      },
      "execution_count": null,
      "outputs": [
        {
          "output_type": "execute_result",
          "data": {
            "text/plain": [
              "10751528"
            ]
          },
          "metadata": {},
          "execution_count": 13
        }
      ]
    },
    {
      "cell_type": "code",
      "source": [
        "id(b)"
      ],
      "metadata": {
        "colab": {
          "base_uri": "https://localhost:8080/"
        },
        "id": "nV3I52zD2qrd",
        "outputId": "7ddc7555-0070-49e7-c7ad-9ea1494a2042"
      },
      "execution_count": null,
      "outputs": [
        {
          "output_type": "execute_result",
          "data": {
            "text/plain": [
              "10751912"
            ]
          },
          "metadata": {},
          "execution_count": 14
        }
      ]
    },
    {
      "cell_type": "code",
      "source": [
        "id(c)"
      ],
      "metadata": {
        "colab": {
          "base_uri": "https://localhost:8080/"
        },
        "id": "0q2IWOCw2t60",
        "outputId": "55ba9175-98df-4f67-f38a-ed171f04f18a"
      },
      "execution_count": null,
      "outputs": [
        {
          "output_type": "execute_result",
          "data": {
            "text/plain": [
              "10751528"
            ]
          },
          "metadata": {},
          "execution_count": 15
        }
      ]
    },
    {
      "cell_type": "code",
      "source": [
        "c = 22 + b"
      ],
      "metadata": {
        "id": "iOIj4SDy3AhL"
      },
      "execution_count": null,
      "outputs": []
    },
    {
      "cell_type": "markdown",
      "source": [
        "## Memory  is assigned to the value of variable passed not the variable name."
      ],
      "metadata": {
        "id": "XgF8llX94zcQ"
      }
    },
    {
      "cell_type": "code",
      "source": [
        "a = 22\n",
        "b = 34\n",
        "c = 22\n",
        "\n",
        "print(id(a), id(b), id(c))"
      ],
      "metadata": {
        "colab": {
          "base_uri": "https://localhost:8080/"
        },
        "id": "KwirBrIiOJAG",
        "outputId": "7a61a70a-dd71-4bd6-eeda-7655ed5eef39"
      },
      "execution_count": null,
      "outputs": [
        {
          "output_type": "stream",
          "name": "stdout",
          "text": [
            "10751528 10751912 10751528\n"
          ]
        }
      ]
    },
    {
      "cell_type": "code",
      "source": [
        "a = \"Suleman\"\n",
        "\n",
        "print(id(a))"
      ],
      "metadata": {
        "colab": {
          "base_uri": "https://localhost:8080/"
        },
        "id": "pyKGIM7APnoE",
        "outputId": "2a060df9-f6e1-439b-8cd4-9ff9d3991002"
      },
      "execution_count": null,
      "outputs": [
        {
          "output_type": "stream",
          "name": "stdout",
          "text": [
            "132122423093488\n"
          ]
        }
      ]
    },
    {
      "cell_type": "code",
      "source": [
        "a = 44.5\n",
        "\n",
        "print(id(a))"
      ],
      "metadata": {
        "colab": {
          "base_uri": "https://localhost:8080/"
        },
        "id": "-1v1-pYuPuEu",
        "outputId": "2bade899-d2f9-4407-9f6e-3776e421dfdb"
      },
      "execution_count": null,
      "outputs": [
        {
          "output_type": "stream",
          "name": "stdout",
          "text": [
            "132122425356176\n"
          ]
        }
      ]
    },
    {
      "cell_type": "markdown",
      "source": [
        "#Operators"
      ],
      "metadata": {
        "id": "MYE70XYFQTjf"
      }
    },
    {
      "cell_type": "markdown",
      "source": [
        "## Operators are functions in python\n",
        "\n",
        " a+b ---> __add__(a,b) //this is a function used using operators\n",
        "\n",
        " various operators in python (in alphabetical order)\n",
        "\n",
        " Adittion  =  a+b\n",
        "\n",
        " concatenation  =  a+b\n",
        "\n",
        " containment test =    a in obj\n",
        "\n",
        " Division(True Division) =   a/b\n",
        "\n",
        " Division (Floor Division) = a//b\n",
        "\n",
        " Bitwise AND = a & b\n",
        "\n",
        " Bitwise Exlusive Or  = A ^ B\n",
        "\n",
        " Bitwise NOT = ~a\n",
        "\n",
        " Bitwise OR = a|a\n",
        "\n",
        " Exponentiation = a**b\n",
        "\n",
        " Identity = a is b\n",
        "\n",
        " Identity = a is not b\n",
        "\n",
        " Indexed Assignment  = obj [ i ] = a\n",
        "\n",
        " Indexed Deletion = del Obj [ i ]\n",
        "\n",
        " Indexing = obj [ i ]\n",
        "\n",
        "Left Shift = a << b\n",
        "\n",
        "Right Shift = a >> b\n",
        "\n",
        "Logical AND  = a and b\n",
        "\n",
        "Logical OR = a or b\n",
        "\n",
        "Modulo = a % b\n",
        "\n",
        "Multiplication or Repetition = a * b\n",
        "\n",
        "Negation  = -a\n",
        "\n",
        "Negation Logical = not  a\n",
        "\n",
        "Positive = +a\n",
        "\n",
        "Slice Assignment = s[i : j] = values\n",
        "\n",
        "Slice Dletion = dd  s[i : j]\n",
        "\n",
        "String formating = s % s1\n",
        "\n",
        "Subtraction = a - b\n",
        "\n",
        "Ordering (less than )  a < b\n",
        "\n",
        "Ordering  (Greater than)  a > b\n",
        "\n",
        "Ordering  ( less than or eqaul) a < = b\n",
        "\n",
        "Ordering  (  greater tha nor equal to ) a > = b\n",
        "\n",
        "equality = a == b\n",
        "\n",
        "not equal = a!= b\n",
        "\n",
        "\n",
        "\n",
        "\n",
        "\n",
        "\n",
        "\n",
        "\n",
        "\n",
        "\n",
        "\n",
        "\n",
        "\n",
        "\n",
        "\n",
        "\n",
        "\n",
        "\n",
        "\n",
        "\n"
      ],
      "metadata": {
        "id": "hLS0yef1In71"
      }
    },
    {
      "cell_type": "markdown",
      "source": [
        "OPERATORS Continue:"
      ],
      "metadata": {
        "id": "j5QDpAfRNmD5"
      }
    },
    {
      "cell_type": "markdown",
      "source": [
        "# Arthimatic Operators: **, / , // , * , % , + , -"
      ],
      "metadata": {
        "id": "CsbFSnVxNudi"
      }
    },
    {
      "cell_type": "code",
      "source": [
        "#Power Operator:\n",
        "\n",
        "#2**3 = 2^3 = 2*2*2 = 8\n",
        "\n",
        "2*3\n",
        "2**5\n",
        "-2**2   #-(2)^2 = -4 // (-2)^2 = 4\n",
        "2**0.5\n",
        "2**-2   #will become resiprocol // 2^-2 = 1/2^2 = 1/4 = 0.25\n",
        "2**100  #its very powerfull operator that is generating very big value\n",
        "\n",
        "#Multiplication Operator:\n",
        "\n",
        "5*6\n",
        "0.5*7\n",
        "-5*6\n",
        "\n",
        "#Divide Operators: // , / but both are different\n",
        "\n",
        "#in C language we are doing 5/2 ans will be = 2 because both are integer values\n",
        "\n",
        "#but in python if we do 5/2 its result will as per math rule 5/2 = 2.5\n",
        "#10/5 = 2.0\n",
        "#divide operator result will always a float type value\n",
        "\n",
        "# // floor division Operator:\n",
        "\n",
        "#what is floor value?\n",
        "#2.3 has big integer 3 and small is 2\n",
        "#so floor vlaue is here 2\n",
        "\n",
        "# 2.3 is not an integer value\n",
        "#floor means fersh\n",
        "# 2.3 = 2 , 2.9 = 2 , 2.1 = 2 , 2.0 = 2 , 7.3 = 7 // will give nearest\n",
        "# smallest integer that is 7\n",
        "\n",
        "5//2 # = 2.5 but floor value is 2\n",
        "\n",
        "15//4\n",
        "\n",
        "15//4.0 #will ans float value but value always floor\n",
        "\n",
        "\n",
        "\n",
        "# % Modolo Operator:\n",
        "# will five us remender value\n",
        "\n",
        "11%3 #remender value is 2\n",
        "5%2  #remender value is 1\n",
        "\n",
        "17%5\n",
        "\n",
        "3%4 # ans will 3 becoz 4 is dividing by 3\n",
        "\n",
        "#and remember the rule if the small number is at left then using modolo operator\n",
        "# ans will be small number that is 3\n",
        "\n",
        "33%50\n",
        "\n",
        "50%33\n",
        "\n",
        "# x % y = 0\n",
        "# its means x is completely divisible by y\n",
        "\n",
        "# x/5 = 2.0 // this result when x has 10 value\n",
        "#243/10 = 24.3\n",
        "\n",
        "#x//10 x without last didgit when we divided by 10 using //\n",
        "#243//10 = 24\n",
        "\n",
        "# x%10 = will give last digit\n",
        "# 243%10 = 3\n",
        "\n",
        "25%5\n",
        "\n",
        "5.5 % 3\n",
        "\n",
        "print(5.5 % 1.5 ) # 3 times go to 4.5 ans is 1.0\n",
        "\n",
        "\n",
        "\n",
        "\n",
        "\n",
        "\n",
        "\n"
      ],
      "metadata": {
        "id": "XHej3nWXPbiY",
        "colab": {
          "base_uri": "https://localhost:8080/"
        },
        "outputId": "71b2fef5-d571-4f5b-f189-8597ebe526ea"
      },
      "execution_count": null,
      "outputs": [
        {
          "output_type": "stream",
          "name": "stdout",
          "text": [
            "1.0\n"
          ]
        }
      ]
    },
    {
      "cell_type": "markdown",
      "source": [
        "#Arthimatic Operators Summary\n",
        "\n",
        "1. / always return floot value\n",
        "\n",
        "2. // always return floor value, int type or floot type depending on operands / values\n",
        "\n",
        "3. +, * can be used with str type value also\n",
        "\n",
        "4. \"ab+AB\" = 'abAB' // will concatenate\n",
        "\n",
        "5. 4*5 = 20\n",
        "\n",
        "6. 2*\"abc\" = 'abcabc' now it is a repetition operator\n",
        "\n",
        "7. plus + is addition operator when operands are numbers (int, floot , complex , bool)\n",
        "\n",
        "8. plus + operator is concatenation operator when operands are str\n",
        "\n",
        "9. plus + is invalid when applied between a number ans a string.\n",
        "\n",
        "10. Mul * operator is used to multiply two numbers\n",
        "\n",
        "11. Mul * is repetiton operator when applied B/W a str and an int\n",
        "\n",
        "\n"
      ],
      "metadata": {
        "id": "X9DhvEWn6nCW"
      }
    },
    {
      "cell_type": "markdown",
      "source": [
        "# Relational Operators: > , < , >= , <= , == , !=\n",
        "\n",
        "###  >,<,>=  \n",
        "these are inequality operators\n",
        "\n",
        "### ==,!=   \n",
        "these are equality operators and never give error"
      ],
      "metadata": {
        "id": "2901Rz9TOGFY"
      }
    },
    {
      "cell_type": "code",
      "source": [
        "5 > 6\n",
        "\n",
        "4 < 1\n",
        "\n",
        "5 >= 5\n",
        "\n",
        "3 <= 3\n",
        "\n",
        "\"ABC\" > \"DEF\" # strings are also compare\n",
        "\n",
        "#==,!= equality operators\n",
        "\n",
        "0 == 3 # False\n",
        "\n",
        "4!= 3  # true yes 4 is not equal to 3\n",
        "\n",
        "3+4j == 5+6j #equality operators work with complex values\n",
        "\n",
        "5!=\"5\" #True because type is not same\n",
        "\n",
        "\n",
        "\n",
        "\n"
      ],
      "metadata": {
        "colab": {
          "base_uri": "https://localhost:8080/"
        },
        "id": "eJzTDHEW_Kol",
        "outputId": "de9a6d70-90a1-446a-bab8-0e4828c17d3f"
      },
      "execution_count": null,
      "outputs": [
        {
          "output_type": "execute_result",
          "data": {
            "text/plain": [
              "True"
            ]
          },
          "metadata": {},
          "execution_count": 35
        }
      ]
    },
    {
      "cell_type": "markdown",
      "source": [
        "# Relational Operators Summary:\n",
        "\n",
        "1. always give result in True or False\n",
        "\n",
        "2. when truth valus is converted to int, it becomes 1 for True and 0 for false.\n",
        "\n",
        "3. relational operators can also be used to compare two strings.\n",
        "\n",
        "4. only == and != operators can be used B/w Two complex type values.\n",
        "\n",
        "5. == and != never yield error"
      ],
      "metadata": {
        "id": "W8npmbxBBEGV"
      }
    },
    {
      "cell_type": "markdown",
      "source": [
        "# Logical Operators: not , and , or"
      ],
      "metadata": {
        "id": "edRF6kj5OPkb"
      }
    },
    {
      "cell_type": "markdown",
      "source": [
        "##logical operators are must be written in lowercase only\n",
        "\n",
        "###not\n",
        "not True ---> False\n",
        "\n",
        "not False ---> True\n",
        "\n",
        "###and\n",
        "\n",
        "True and True ---> True\n",
        "\n",
        "True and False ---> False\n",
        "\n",
        "False and * ---> Flase\n",
        "\n",
        "\n",
        "###or\n",
        "\n",
        "false or False ---> False\n",
        "\n",
        "False or True ---> True\n",
        "\n",
        "True or * ---> True\n"
      ],
      "metadata": {
        "id": "82RrQMjSDb-k"
      }
    },
    {
      "cell_type": "code",
      "source": [
        "#not\n",
        "not 5>-1\n",
        "\n",
        "not \"Education\" #every not empty string is true\n",
        "\n",
        "not 5\n",
        "\n",
        "not 0 #True 0 means false\n",
        "\n",
        "\n",
        "#or\n",
        "\n",
        "3 > 4 or 5 > 0 #True\n",
        "\n",
        "\n",
        "#and\n",
        "\n",
        "5 > 6 and 3 > 1 #False only first condition will check here and stop/false\n",
        "\n",
        "\n",
        "3 and 4 #both are non bool 4 is ans //becoz result is depend on 4\n",
        "\n",
        "0 and 5 #result is false\n",
        "\n",
        "5 or 6 #5 is ans becoz it is true\n",
        "\n",
        "0 or 4 #4 is true ans ans is 4\n",
        "\n",
        "\"suleman\" or \"usman\" #first is true\n",
        "\n",
        "\"Ayesha\" and \"Seerat\" #2nd is true\n",
        "\n",
        "\n",
        "\n",
        "\n",
        "\n",
        "\n",
        "\n",
        "\n"
      ],
      "metadata": {
        "colab": {
          "base_uri": "https://localhost:8080/",
          "height": 36
        },
        "id": "BaSmQkcZEyYD",
        "outputId": "3784d42e-2f4e-4def-aae5-cca420c5c4e1"
      },
      "execution_count": null,
      "outputs": [
        {
          "output_type": "execute_result",
          "data": {
            "text/plain": [
              "'Seerat'"
            ],
            "application/vnd.google.colaboratory.intrinsic+json": {
              "type": "string"
            }
          },
          "metadata": {},
          "execution_count": 47
        }
      ]
    },
    {
      "cell_type": "markdown",
      "source": [
        "#Logiacal Operators Summary:\n",
        "\n",
        "every non zero vale ---> True\n",
        "\n",
        "Zero ---> False\n",
        "\n",
        "non empty string ---> True\n",
        "\n",
        "Empty strign ---> False\n",
        "\n",
        "\n",
        "##when operands are non-bool then result will also be non-bool"
      ],
      "metadata": {
        "id": "PeUw1H7kILUC"
      }
    },
    {
      "cell_type": "markdown",
      "source": [
        "# Bitwise Operators:  &, | , ^ , ~ , >> , <<"
      ],
      "metadata": {
        "id": "P91w9jfBOYPE"
      }
    },
    {
      "cell_type": "markdown",
      "source": [
        "1. These will work on bits 0 and 1\n",
        "\n",
        "\n",
        " # &\n",
        "\n",
        "0 & 0 = 0\n",
        "\n",
        "0 & 1 = 0\n",
        "\n",
        "1 & 0 = 0\n",
        "\n",
        "1 & 1 = 1\n",
        "\n",
        "## 25 & 37\n",
        "\n",
        "25 = 011001\n",
        "\n",
        "37 = 100101\n",
        "\n",
        "final binary form of above two = 000001 and now result is 1\n",
        "\n",
        "\n",
        "\n",
        "\n",
        "\n",
        "\n",
        "\n",
        "\n",
        "\n",
        "# |\n",
        "\n",
        "\n",
        "## 44 | 71\n",
        "\n",
        " 44 = 0101100\n",
        "\n",
        " 71 = 1000111\n",
        "\n",
        "\n",
        "final binary form of above two = 110111 and now result is 111\n",
        "\n",
        "\n",
        "\n",
        "0 | 0 = 0\n",
        "\n",
        "0 | 1 = 1\n",
        "\n",
        "a | 0 = 1\n",
        "\n",
        "1 | 1 = 1\n",
        "\n",
        "\n",
        "\n"
      ],
      "metadata": {
        "id": "y0KexK39KUBq"
      }
    },
    {
      "cell_type": "code",
      "source": [
        "44 | 71\n",
        "\n",
        "25 & 37"
      ],
      "metadata": {
        "colab": {
          "base_uri": "https://localhost:8080/"
        },
        "id": "7pOiuBFNO2yx",
        "outputId": "630a03ce-df78-4d73-a437-a6d3d239e75a"
      },
      "execution_count": null,
      "outputs": [
        {
          "output_type": "execute_result",
          "data": {
            "text/plain": [
              "1"
            ]
          },
          "metadata": {},
          "execution_count": 48
        }
      ]
    },
    {
      "cell_type": "markdown",
      "source": [
        " # ^ XOR\n",
        "\n",
        " 0 ^ 0 = 0\n",
        "\n",
        " 0 ^ 1 = 1\n",
        "\n",
        " 1 ^ 0 = 1\n",
        "\n",
        " 1 ^ 1 = 0\n",
        "\n",
        "\n",
        " ## 56 ^ 29\n",
        "\n",
        " 56 = 111000\n",
        "\n",
        " 20 = 011101\n",
        "\n",
        " final binary = 100101 result = 37\n",
        "\n",
        "\n"
      ],
      "metadata": {
        "id": "2719-GdTQi3A"
      }
    },
    {
      "cell_type": "code",
      "source": [
        "56 ^ 29"
      ],
      "metadata": {
        "colab": {
          "base_uri": "https://localhost:8080/"
        },
        "id": "5A66k9ziRfkw",
        "outputId": "96b641a7-eaa4-4a34-bea9-1f2d64013b1a"
      },
      "execution_count": null,
      "outputs": [
        {
          "output_type": "execute_result",
          "data": {
            "text/plain": [
              "37"
            ]
          },
          "metadata": {},
          "execution_count": 51
        }
      ]
    },
    {
      "cell_type": "markdown",
      "source": [
        "# Not Operataor ~\n",
        "\n",
        "1. ~0 --> 1\n",
        "\n",
        "2. ~1 --> 0\n",
        "\n",
        "example:\n",
        "\n",
        "5 ---> make binary of 5\n",
        "\n",
        "~5 here binary of five will again change into 0 into 1 and 1 into 0\n",
        "\n",
        "\n",
        "5 = 00000101\n",
        "\n",
        "~5 = 11111010 // will be a negative number\n",
        "\n",
        "##2's complement = 00000110 = 6\n",
        "\n",
        "## = -k = -6 final result\n",
        "\n",
        "\n",
        " 0 is a +ve bit at most left\n",
        "\n",
        " 1 is a -ve bit at most left\n",
        "\n",
        "\n",
        "\n",
        "\n",
        "\n",
        "\n"
      ],
      "metadata": {
        "id": "P_wHU4-CRjDo"
      }
    },
    {
      "cell_type": "code",
      "source": [
        "x = ~5\n",
        "x"
      ],
      "metadata": {
        "colab": {
          "base_uri": "https://localhost:8080/"
        },
        "id": "cQcpoahZWkGQ",
        "outputId": "801e18b1-97e8-403c-cf53-ca7f1f723382"
      },
      "execution_count": null,
      "outputs": [
        {
          "output_type": "execute_result",
          "data": {
            "text/plain": [
              "-6"
            ]
          },
          "metadata": {},
          "execution_count": 55
        }
      ]
    },
    {
      "cell_type": "markdown",
      "source": [
        "#Shift and unshift operators\n",
        "\n",
        "## >> (right shift)\n",
        "\n",
        "35 >> 2\n",
        "\n",
        "35 =  00100011\n",
        "\n",
        "        1000= 8 two times right shift apply\n",
        "\n",
        "        we remove 2 bits from at at most right side.\n",
        "    \n",
        "\n",
        "## << (left shift)\n",
        "\n",
        "12 << 3\n",
        "\n",
        "12 = 1100\n",
        "\n",
        "       we added three 0 in a right\n",
        "       side because we are moving towards left side three times.\n",
        "\n",
        "new binary form will be 1100000\n",
        "\n",
        "      so 1100000 result into 96 .\n",
        "\n",
        "\n",
        "\n",
        "\n",
        "\n",
        "\n",
        "\n"
      ],
      "metadata": {
        "id": "wvsWUIJ1gmFN"
      }
    },
    {
      "cell_type": "code",
      "source": [
        "35 >> 2\n",
        "\n",
        "12 << 3"
      ],
      "metadata": {
        "colab": {
          "base_uri": "https://localhost:8080/"
        },
        "id": "k9W70DnTh_Bs",
        "outputId": "9b0e0c6d-dc41-4427-dcea-e695891ae5b8"
      },
      "execution_count": null,
      "outputs": [
        {
          "output_type": "execute_result",
          "data": {
            "text/plain": [
              "96"
            ]
          },
          "metadata": {},
          "execution_count": 56
        }
      ]
    },
    {
      "cell_type": "markdown",
      "source": [
        "# Assignment Operators: = , += , -= , /= , %= , ** =\n"
      ],
      "metadata": {
        "id": "_ww7oyCzOomA"
      }
    },
    {
      "cell_type": "markdown",
      "source": [
        "### = assignment operator\n",
        "\n",
        "x = 4\n",
        "\n",
        "at left side must be a variable\n",
        "\n",
        "3 = 4 //error\n",
        "\n",
        "x = x + 5\n",
        "\n",
        "here 1st x is a container and 2nd x is a content.\n"
      ],
      "metadata": {
        "id": "kdQAWAL5jMez"
      }
    },
    {
      "cell_type": "code",
      "source": [
        "x = 6\n",
        "\n",
        "x +=6 # x = x + 5\n",
        "\n",
        "print(x) #result is 12\n",
        "\n",
        "y = 6\n",
        "\n",
        "y =-4 # y = y - 4\n",
        "\n",
        "print(y)\n",
        "\n",
        "z = 4\n",
        "\n",
        "z *=3 # z = z * 3\n",
        "\n",
        "print(z)\n",
        "\n",
        "\n",
        "a = 2\n",
        "\n",
        "a^= 2 # a = a ^ 2\n",
        "\n",
        "print(a)\n",
        "\n",
        "\n",
        "d = 10\n",
        "\n",
        "d /= 2\n",
        "\n",
        "print(d)\n",
        "\n",
        "\n",
        "\n",
        "e = 10\n",
        "\n",
        "e //= 2\n",
        "\n",
        "print(e)\n",
        "\n",
        "\n",
        "f = 4\n",
        "\n",
        "f %= 2\n",
        "\n",
        "print(f)\n",
        "\n",
        "\n",
        "g = 3\n",
        "\n",
        "g **=3\n",
        "\n",
        "print(g)"
      ],
      "metadata": {
        "colab": {
          "base_uri": "https://localhost:8080/"
        },
        "id": "VndB01xnj_8D",
        "outputId": "efa2757d-acb5-49f7-95d1-cc8c61d372e0"
      },
      "execution_count": null,
      "outputs": [
        {
          "output_type": "stream",
          "name": "stdout",
          "text": [
            "12\n",
            "-4\n",
            "12\n",
            "0\n",
            "5.0\n",
            "5\n",
            "0\n",
            "27\n"
          ]
        }
      ]
    },
    {
      "cell_type": "markdown",
      "source": [
        "### How to assign values to multiple variables in a single line ?\n",
        "\n",
        "1. x =, y = 5 , z = 6 // error\n",
        "\n",
        "2. x,y,z = 2,3 // also error\n",
        "\n",
        "3. x,y,z = 4,5,6  //correct only 1 time asignment"
      ],
      "metadata": {
        "id": "OWi1q4aSmqha"
      }
    },
    {
      "cell_type": "code",
      "source": [
        "x=4 , y=5 ,z=6 #error"
      ],
      "metadata": {
        "colab": {
          "base_uri": "https://localhost:8080/",
          "height": 106
        },
        "id": "jL0-jzJ1nUW7",
        "outputId": "38385a8f-e7db-4f9a-d397-a1410e1c9a0c"
      },
      "execution_count": null,
      "outputs": [
        {
          "output_type": "error",
          "ename": "SyntaxError",
          "evalue": "invalid syntax. Maybe you meant '==' or ':=' instead of '='? (<ipython-input-76-5da5dad15d9b>, line 1)",
          "traceback": [
            "\u001b[0;36m  File \u001b[0;32m\"<ipython-input-76-5da5dad15d9b>\"\u001b[0;36m, line \u001b[0;32m1\u001b[0m\n\u001b[0;31m    x=4 , y=5 ,z=6\u001b[0m\n\u001b[0m    ^\u001b[0m\n\u001b[0;31mSyntaxError\u001b[0m\u001b[0;31m:\u001b[0m invalid syntax. Maybe you meant '==' or ':=' instead of '='?\n"
          ]
        }
      ]
    },
    {
      "cell_type": "code",
      "source": [
        "x,y,z = 4, 5, 7\n",
        "\n",
        "print(x,y,z)"
      ],
      "metadata": {
        "colab": {
          "base_uri": "https://localhost:8080/"
        },
        "id": "H3pU57iwngHi",
        "outputId": "3c509c17-3695-4502-b773-f828d6410975"
      },
      "execution_count": null,
      "outputs": [
        {
          "output_type": "stream",
          "name": "stdout",
          "text": [
            "4 5 7\n"
          ]
        }
      ]
    },
    {
      "cell_type": "markdown",
      "source": [
        "# Identity Operator\n",
        "\n",
        "1. is\n",
        "\n",
        "2. is not\n",
        "\n",
        "###  It checks whether the two refrences refrencing to the same object or no ?\n",
        "\n",
        "### it results in True or False."
      ],
      "metadata": {
        "id": "njzKcJtNnxGS"
      }
    },
    {
      "cell_type": "markdown",
      "source": [
        "x = 5\n",
        "\n",
        "y = 5\n",
        "\n",
        "both are refrencing to the same object/memory location where 5 is store in a memoray.\n",
        "\n",
        "and the refrence count value will be 2.\n",
        "\n",
        "\n",
        "\n"
      ],
      "metadata": {
        "id": "XxFBqWERoVfS"
      }
    },
    {
      "cell_type": "code",
      "source": [
        "x = 5\n",
        "\n",
        "y = 5\n",
        "\n",
        "\"\"\"print(id(x))\n",
        "\n",
        "print (id(y)) \"\"\"\n",
        "\n",
        "x is y #True result\n",
        "\n",
        "a = 5.5\n",
        "\n",
        "b = 5.5\n",
        "\n",
        "a is b #False result\n",
        "\n",
        "#print(id(a))\n",
        "\n",
        "#print(id(b))\n",
        "\n"
      ],
      "metadata": {
        "colab": {
          "base_uri": "https://localhost:8080/"
        },
        "id": "vVxliAewo18S",
        "outputId": "c3d85e08-4c66-4e04-ba46-c7369f7c5bbf"
      },
      "execution_count": null,
      "outputs": [
        {
          "output_type": "execute_result",
          "data": {
            "text/plain": [
              "False"
            ]
          },
          "metadata": {},
          "execution_count": 89
        }
      ]
    },
    {
      "cell_type": "markdown",
      "source": [
        "# Membership Operators: in , not in\n",
        "\n",
        "1. these operators are applicalbe only on containers(iterable).\n",
        "\n",
        "2. They result True or False\n",
        "\n",
        "3. container is a type which can contain multiple values and also iterable.\n",
        "\n",
        "4. container has many types of variables/values/elements\n",
        "\n",
        "6. if these elements are accessible one by one from a container then it is called a iterable container/box.\n",
        "\n",
        "7. int , float , complex , bool , are not iterable.\n",
        "\n",
        "8. str, range , list , tuple , set, dict , are iterable.\n",
        "\n",
        "\n",
        "\n"
      ],
      "metadata": {
        "id": "CmO7NU52O_oH"
      }
    },
    {
      "cell_type": "code",
      "source": [
        "x = 456 # error becoz x is int type just one number\n",
        "\n",
        "6 in x\n",
        "\n"
      ],
      "metadata": {
        "colab": {
          "base_uri": "https://localhost:8080/",
          "height": 211
        },
        "id": "jSCC6MI0r6s6",
        "outputId": "067cf5d4-88ae-4abb-f21d-5dbfa8bf8a85"
      },
      "execution_count": null,
      "outputs": [
        {
          "output_type": "error",
          "ename": "TypeError",
          "evalue": "argument of type 'int' is not iterable",
          "traceback": [
            "\u001b[0;31m---------------------------------------------------------------------------\u001b[0m",
            "\u001b[0;31mTypeError\u001b[0m                                 Traceback (most recent call last)",
            "\u001b[0;32m<ipython-input-91-a46c40bcab13>\u001b[0m in \u001b[0;36m<cell line: 0>\u001b[0;34m()\u001b[0m\n\u001b[1;32m      1\u001b[0m \u001b[0mx\u001b[0m \u001b[0;34m=\u001b[0m \u001b[0;36m456\u001b[0m \u001b[0;31m# error becoz x is int type just one number\u001b[0m\u001b[0;34m\u001b[0m\u001b[0;34m\u001b[0m\u001b[0m\n\u001b[1;32m      2\u001b[0m \u001b[0;34m\u001b[0m\u001b[0m\n\u001b[0;32m----> 3\u001b[0;31m \u001b[0;36m6\u001b[0m \u001b[0;32min\u001b[0m \u001b[0mx\u001b[0m\u001b[0;34m\u001b[0m\u001b[0;34m\u001b[0m\u001b[0m\n\u001b[0m\u001b[1;32m      4\u001b[0m \u001b[0;34m\u001b[0m\u001b[0m\n\u001b[1;32m      5\u001b[0m \u001b[0;34m\u001b[0m\u001b[0m\n",
            "\u001b[0;31mTypeError\u001b[0m: argument of type 'int' is not iterable"
          ]
        }
      ]
    },
    {
      "cell_type": "code",
      "source": [
        "x = \"Muhammad Suleman Rajpoot\"\n",
        "\n",
        "'Suleman' in x #true\n",
        "\n",
        "y = \"python course \"\n",
        "\n",
        "'P' in y #true\n",
        "\n",
        "'py' not in y # false"
      ],
      "metadata": {
        "colab": {
          "base_uri": "https://localhost:8080/"
        },
        "id": "DRrzoDZhsufp",
        "outputId": "59288c48-26e5-4704-dabb-b2767cb52946"
      },
      "execution_count": null,
      "outputs": [
        {
          "output_type": "execute_result",
          "data": {
            "text/plain": [
              "False"
            ]
          },
          "metadata": {},
          "execution_count": 99
        }
      ]
    },
    {
      "cell_type": "markdown",
      "source": [
        "Note : no  ++ , -- operators in python  "
      ],
      "metadata": {
        "id": "xRctNvjAPGkY"
      }
    }
  ]
}