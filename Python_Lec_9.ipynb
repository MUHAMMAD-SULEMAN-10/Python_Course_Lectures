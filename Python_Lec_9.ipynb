{
  "nbformat": 4,
  "nbformat_minor": 0,
  "metadata": {
    "colab": {
      "provenance": []
    },
    "kernelspec": {
      "name": "python3",
      "display_name": "Python 3"
    },
    "language_info": {
      "name": "python"
    }
  },
  "cells": [
    {
      "cell_type": "markdown",
      "source": [
        "# Agenda:\n",
        "\n",
        "1. set introduction\n",
        "& accessing set elements\n",
        "2. creating set objects\n",
        "\n",
        "3. built-in-methods\n",
        "\n",
        "4. concatenation and repetition operator\n",
        "\n",
        "5. comparison operator\n",
        "\n",
        "6. set pbject method\n",
        "\n",
        "7. set comprehension\n",
        "\n",
        "8. user input\n",
        "\n",
        "9. frozen set elements"
      ],
      "metadata": {
        "id": "E3l5lqJpUr1B"
      }
    },
    {
      "cell_type": "markdown",
      "source": [
        "## What is set ? (unique) like in Math's.\n",
        "\n",
        "set is a class.\n",
        "\n",
        "set is mutable\n",
        "\n",
        "set is not hashable\n",
        "\n",
        "set is not sequence\n",
        "\n",
        "set cannot have duplicate values\n",
        "\n",
        "indexing is not applicable to set object\n",
        "\n",
        "slicing operator is not applicable\n",
        "\n",
        "set does not guarentee to store values in the order of insertion."
      ],
      "metadata": {
        "id": "PXGbMhV6ViXg"
      }
    },
    {
      "cell_type": "markdown",
      "source": [
        "# How to create set object ?\n"
      ],
      "metadata": {
        "id": "-TukgALMXtzi"
      }
    },
    {
      "cell_type": "code",
      "source": [
        "s1 = {10,20,30,40} # no gurantee of sequence may be order or not in order\n",
        "\n",
        "type(s1)\n",
        "\n",
        "s1"
      ],
      "metadata": {
        "colab": {
          "base_uri": "https://localhost:8080/"
        },
        "id": "Xk8hEOzmXxPi",
        "outputId": "deae4560-1386-4466-fc7a-f41b1d3ba0d0"
      },
      "execution_count": null,
      "outputs": [
        {
          "output_type": "execute_result",
          "data": {
            "text/plain": [
              "{10, 20, 30, 40}"
            ]
          },
          "metadata": {},
          "execution_count": 5
        }
      ]
    },
    {
      "cell_type": "markdown",
      "source": [
        "# No duplicate values in set"
      ],
      "metadata": {
        "id": "hIh8XiEaYNia"
      }
    },
    {
      "cell_type": "code",
      "source": [
        "s1 = {10,20,20,10,10,20,30,40} # values are repeated but no error\n",
        "\n",
        "s1\n",
        "\n",
        "# set simply discard duplicate values"
      ],
      "metadata": {
        "colab": {
          "base_uri": "https://localhost:8080/"
        },
        "id": "PF5hWAv5YR3Z",
        "outputId": "2785a355-9d73-4d0d-b3a0-8b68dfbd9d57"
      },
      "execution_count": null,
      "outputs": [
        {
          "output_type": "execute_result",
          "data": {
            "text/plain": [
              "{10, 20, 30, 40}"
            ]
          },
          "metadata": {},
          "execution_count": 6
        }
      ]
    },
    {
      "cell_type": "markdown",
      "source": [
        "# empty set object"
      ],
      "metadata": {
        "id": "XFO7z0loYjbS"
      }
    },
    {
      "cell_type": "code",
      "source": [
        "s1 = {} # not a empty set object but it is a dict.\n",
        "\n",
        "type(s1)"
      ],
      "metadata": {
        "colab": {
          "base_uri": "https://localhost:8080/"
        },
        "id": "B0gmonCtYl54",
        "outputId": "86525105-57fb-496e-cbc0-57382ec5eb0d"
      },
      "execution_count": null,
      "outputs": [
        {
          "output_type": "execute_result",
          "data": {
            "text/plain": [
              "dict"
            ]
          },
          "metadata": {},
          "execution_count": 7
        }
      ]
    },
    {
      "cell_type": "markdown",
      "source": [
        "# How we can create a empty set object ?"
      ],
      "metadata": {
        "id": "YLJwMP1JYu-Q"
      }
    },
    {
      "cell_type": "code",
      "source": [
        "s1 = set()\n",
        "\n",
        "s1"
      ],
      "metadata": {
        "colab": {
          "base_uri": "https://localhost:8080/"
        },
        "id": "_jkoIgi9Y1GA",
        "outputId": "6e9f4444-7259-48e3-d19c-a9d0358676bf"
      },
      "execution_count": null,
      "outputs": [
        {
          "output_type": "execute_result",
          "data": {
            "text/plain": [
              "set()"
            ]
          },
          "metadata": {},
          "execution_count": 8
        }
      ]
    },
    {
      "cell_type": "code",
      "source": [
        "s1 = set(10,20,30) # only take 1 arguemnt not 3\n",
        "s1"
      ],
      "metadata": {
        "colab": {
          "base_uri": "https://localhost:8080/",
          "height": 158
        },
        "id": "uY0CaXAmZCQp",
        "outputId": "26e7626f-e01a-46f3-a006-7ea98bfa2b42"
      },
      "execution_count": null,
      "outputs": [
        {
          "output_type": "error",
          "ename": "TypeError",
          "evalue": "set expected at most 1 argument, got 3",
          "traceback": [
            "\u001b[0;31m---------------------------------------------------------------------------\u001b[0m",
            "\u001b[0;31mTypeError\u001b[0m                                 Traceback (most recent call last)",
            "\u001b[0;32m<ipython-input-9-dac72b07d423>\u001b[0m in \u001b[0;36m<cell line: 0>\u001b[0;34m()\u001b[0m\n\u001b[0;32m----> 1\u001b[0;31m \u001b[0ms1\u001b[0m \u001b[0;34m=\u001b[0m \u001b[0mset\u001b[0m\u001b[0;34m(\u001b[0m\u001b[0;36m10\u001b[0m\u001b[0;34m,\u001b[0m\u001b[0;36m20\u001b[0m\u001b[0;34m,\u001b[0m\u001b[0;36m30\u001b[0m\u001b[0;34m)\u001b[0m\u001b[0;34m\u001b[0m\u001b[0;34m\u001b[0m\u001b[0m\n\u001b[0m\u001b[1;32m      2\u001b[0m \u001b[0ms1\u001b[0m\u001b[0;34m\u001b[0m\u001b[0;34m\u001b[0m\u001b[0m\n",
            "\u001b[0;31mTypeError\u001b[0m: set expected at most 1 argument, got 3"
          ]
        }
      ]
    },
    {
      "cell_type": "code",
      "source": [
        "s1 = set(10) # again error and think why ?\n",
        "\n",
        "s1"
      ],
      "metadata": {
        "colab": {
          "base_uri": "https://localhost:8080/",
          "height": 176
        },
        "id": "MwJykP9ZZM3I",
        "outputId": "60fab5a8-1a85-4141-ee5a-d69b3de19193"
      },
      "execution_count": null,
      "outputs": [
        {
          "output_type": "error",
          "ename": "TypeError",
          "evalue": "'int' object is not iterable",
          "traceback": [
            "\u001b[0;31m---------------------------------------------------------------------------\u001b[0m",
            "\u001b[0;31mTypeError\u001b[0m                                 Traceback (most recent call last)",
            "\u001b[0;32m<ipython-input-10-e61b81e7a899>\u001b[0m in \u001b[0;36m<cell line: 0>\u001b[0;34m()\u001b[0m\n\u001b[0;32m----> 1\u001b[0;31m \u001b[0ms1\u001b[0m \u001b[0;34m=\u001b[0m \u001b[0mset\u001b[0m\u001b[0;34m(\u001b[0m\u001b[0;36m10\u001b[0m\u001b[0;34m)\u001b[0m\u001b[0;34m\u001b[0m\u001b[0;34m\u001b[0m\u001b[0m\n\u001b[0m\u001b[1;32m      2\u001b[0m \u001b[0;34m\u001b[0m\u001b[0m\n\u001b[1;32m      3\u001b[0m \u001b[0ms1\u001b[0m\u001b[0;34m\u001b[0m\u001b[0;34m\u001b[0m\u001b[0m\n",
            "\u001b[0;31mTypeError\u001b[0m: 'int' object is not iterable"
          ]
        }
      ]
    },
    {
      "cell_type": "markdown",
      "source": [
        "error is occued due to the just int value it is not\n",
        "an iterable the one arguemnt should be a iterable type."
      ],
      "metadata": {
        "id": "3_opOe3NZW_h"
      }
    },
    {
      "cell_type": "code",
      "source": [
        "s1= set([11, 44, 56])\n",
        "\n",
        "s1"
      ],
      "metadata": {
        "colab": {
          "base_uri": "https://localhost:8080/"
        },
        "id": "q5sbHfx0ZpwZ",
        "outputId": "bea3f6bb-a3be-4f5f-cfdd-6e71b07ee7b2"
      },
      "execution_count": null,
      "outputs": [
        {
          "output_type": "execute_result",
          "data": {
            "text/plain": [
              "{11, 44, 56}"
            ]
          },
          "metadata": {},
          "execution_count": 11
        }
      ]
    },
    {
      "cell_type": "code",
      "source": [
        "s1 = set('MuhammdSuleman')\n",
        "\n",
        "s1"
      ],
      "metadata": {
        "colab": {
          "base_uri": "https://localhost:8080/"
        },
        "id": "4tVafwkkZwGY",
        "outputId": "a48a77a4-414f-4fe7-fd8c-faac3d54fd83"
      },
      "execution_count": null,
      "outputs": [
        {
          "output_type": "execute_result",
          "data": {
            "text/plain": [
              "{'M', 'S', 'a', 'd', 'e', 'h', 'l', 'm', 'n', 'u'}"
            ]
          },
          "metadata": {},
          "execution_count": 17
        }
      ]
    },
    {
      "cell_type": "markdown",
      "source": [
        "# Accessing set elements:\n",
        "\n",
        "Syntax:\n",
        "\n",
        "for e in setObject:\n",
        "\n",
        "     code\n",
        "\n",
        "     code"
      ],
      "metadata": {
        "id": "WZAYoHJ6aMAZ"
      }
    },
    {
      "cell_type": "code",
      "source": [
        "s2 =  {34, 5,6,53,44,44,67,7,8}\n",
        "# print(s2)\n",
        "for e in s2:\n",
        "  print(e,  end = ' ')\n"
      ],
      "metadata": {
        "colab": {
          "base_uri": "https://localhost:8080/"
        },
        "id": "0ih18NUKab-a",
        "outputId": "58986836-fc90-47d5-a800-f844897498a6"
      },
      "execution_count": null,
      "outputs": [
        {
          "output_type": "stream",
          "name": "stdout",
          "text": [
            "34 67 5 6 7 8 44 53 "
          ]
        }
      ]
    },
    {
      "cell_type": "markdown",
      "source": [
        "## Note:\n",
        "\n",
        "why we are not using while loop in set to access the elements ? think and find the solution!"
      ],
      "metadata": {
        "id": "0nwfIxNsbTd6"
      }
    },
    {
      "cell_type": "markdown",
      "source": [
        "# built-in-methods\n",
        "\n",
        "len ( )\n",
        "\n",
        "min ( )\n",
        "\n",
        "max ( )\n",
        "\n",
        "sum ( )\n",
        "\n",
        "sorted ( )\n",
        "\n"
      ],
      "metadata": {
        "id": "Z2eyb_C7bhFq"
      }
    },
    {
      "cell_type": "code",
      "source": [
        "s2 =  {34, 5,6,53,44,44,67,7,8}\n",
        "\n",
        "len(s2)"
      ],
      "metadata": {
        "colab": {
          "base_uri": "https://localhost:8080/"
        },
        "id": "GZ5BZRq7cWbg",
        "outputId": "02aaa71e-3110-4a8e-c882-f7a8ca2f6eb2"
      },
      "execution_count": null,
      "outputs": [
        {
          "output_type": "execute_result",
          "data": {
            "text/plain": [
              "8"
            ]
          },
          "metadata": {},
          "execution_count": 24
        }
      ]
    },
    {
      "cell_type": "code",
      "source": [
        "s2 =  {34, 5,6,53,44,44,67,7,8}\n",
        "max(s2)"
      ],
      "metadata": {
        "colab": {
          "base_uri": "https://localhost:8080/"
        },
        "id": "qy_jGfhNc275",
        "outputId": "d7fcaa60-154a-453d-ed8b-995a82c0ea53"
      },
      "execution_count": null,
      "outputs": [
        {
          "output_type": "execute_result",
          "data": {
            "text/plain": [
              "67"
            ]
          },
          "metadata": {},
          "execution_count": 25
        }
      ]
    },
    {
      "cell_type": "code",
      "source": [
        "s2 =  {34, 5,6,53,44,44,67,7,8}\n",
        "min(s2)"
      ],
      "metadata": {
        "colab": {
          "base_uri": "https://localhost:8080/"
        },
        "id": "3voYWynZc5Aw",
        "outputId": "3a530139-a926-438a-e785-e8c17aa37604"
      },
      "execution_count": null,
      "outputs": [
        {
          "output_type": "execute_result",
          "data": {
            "text/plain": [
              "5"
            ]
          },
          "metadata": {},
          "execution_count": 26
        }
      ]
    },
    {
      "cell_type": "code",
      "source": [
        "s2 =  {34, 5,6,53,44,44,67,7,8}\n",
        "sorted(s2) #what sorted function do ? think and find the answer might be you are weong!"
      ],
      "metadata": {
        "colab": {
          "base_uri": "https://localhost:8080/"
        },
        "id": "g03oup6mc71a",
        "outputId": "18895a3f-7688-4587-d7ae-3322a487528f"
      },
      "execution_count": null,
      "outputs": [
        {
          "output_type": "execute_result",
          "data": {
            "text/plain": [
              "[5, 6, 7, 8, 34, 44, 53, 67]"
            ]
          },
          "metadata": {},
          "execution_count": 27
        }
      ]
    },
    {
      "cell_type": "code",
      "source": [
        "s1 = {3, 4.5 ,True, }\n",
        "\n",
        "s1 = {3+5j, (1,2), 'abc', [10,20,30], range(4)}\n",
        "\n",
        "s1\n",
        "\n",
        "# elements of set object must be hashable list is not hashable thats why error."
      ],
      "metadata": {
        "colab": {
          "base_uri": "https://localhost:8080/",
          "height": 211
        },
        "id": "gEEvknuid70h",
        "outputId": "aa447a51-cfad-4e8e-dbb0-b0edc05d412a"
      },
      "execution_count": null,
      "outputs": [
        {
          "output_type": "error",
          "ename": "TypeError",
          "evalue": "unhashable type: 'list'",
          "traceback": [
            "\u001b[0;31m---------------------------------------------------------------------------\u001b[0m",
            "\u001b[0;31mTypeError\u001b[0m                                 Traceback (most recent call last)",
            "\u001b[0;32m<ipython-input-29-cae7021dccd9>\u001b[0m in \u001b[0;36m<cell line: 0>\u001b[0;34m()\u001b[0m\n\u001b[1;32m      1\u001b[0m \u001b[0ms1\u001b[0m \u001b[0;34m=\u001b[0m \u001b[0;34m{\u001b[0m\u001b[0;36m3\u001b[0m\u001b[0;34m,\u001b[0m \u001b[0;36m4.5\u001b[0m \u001b[0;34m,\u001b[0m\u001b[0;32mTrue\u001b[0m\u001b[0;34m,\u001b[0m  \u001b[0;34m}\u001b[0m\u001b[0;34m\u001b[0m\u001b[0;34m\u001b[0m\u001b[0m\n\u001b[1;32m      2\u001b[0m \u001b[0;34m\u001b[0m\u001b[0m\n\u001b[0;32m----> 3\u001b[0;31m \u001b[0ms1\u001b[0m \u001b[0;34m=\u001b[0m \u001b[0;34m{\u001b[0m\u001b[0;36m3\u001b[0m\u001b[0;34m+\u001b[0m\u001b[0;36m5j\u001b[0m\u001b[0;34m,\u001b[0m \u001b[0;34m(\u001b[0m\u001b[0;36m1\u001b[0m\u001b[0;34m,\u001b[0m\u001b[0;36m2\u001b[0m\u001b[0;34m)\u001b[0m\u001b[0;34m,\u001b[0m \u001b[0;34m'abc'\u001b[0m\u001b[0;34m,\u001b[0m \u001b[0;34m[\u001b[0m\u001b[0;36m10\u001b[0m\u001b[0;34m,\u001b[0m\u001b[0;36m20\u001b[0m\u001b[0;34m,\u001b[0m\u001b[0;36m30\u001b[0m\u001b[0;34m]\u001b[0m\u001b[0;34m,\u001b[0m \u001b[0mrange\u001b[0m\u001b[0;34m(\u001b[0m\u001b[0;36m4\u001b[0m\u001b[0;34m)\u001b[0m\u001b[0;34m}\u001b[0m\u001b[0;34m\u001b[0m\u001b[0;34m\u001b[0m\u001b[0m\n\u001b[0m\u001b[1;32m      4\u001b[0m \u001b[0;34m\u001b[0m\u001b[0m\n\u001b[1;32m      5\u001b[0m \u001b[0ms1\u001b[0m\u001b[0;34m\u001b[0m\u001b[0;34m\u001b[0m\u001b[0m\n",
            "\u001b[0;31mTypeError\u001b[0m: unhashable type: 'list'"
          ]
        }
      ]
    },
    {
      "cell_type": "code",
      "source": [
        "s1 = {{1,3},{4,5}}\n",
        "\n",
        "s1 # error due to the set is not hashable"
      ],
      "metadata": {
        "colab": {
          "base_uri": "https://localhost:8080/",
          "height": 176
        },
        "id": "qfmKjbMGe40p",
        "outputId": "5340202b-5e93-424d-933b-62352df5ec30"
      },
      "execution_count": null,
      "outputs": [
        {
          "output_type": "error",
          "ename": "TypeError",
          "evalue": "unhashable type: 'set'",
          "traceback": [
            "\u001b[0;31m---------------------------------------------------------------------------\u001b[0m",
            "\u001b[0;31mTypeError\u001b[0m                                 Traceback (most recent call last)",
            "\u001b[0;32m<ipython-input-30-96169fdb22aa>\u001b[0m in \u001b[0;36m<cell line: 0>\u001b[0;34m()\u001b[0m\n\u001b[0;32m----> 1\u001b[0;31m \u001b[0ms1\u001b[0m \u001b[0;34m=\u001b[0m \u001b[0;34m{\u001b[0m\u001b[0;34m{\u001b[0m\u001b[0;36m1\u001b[0m\u001b[0;34m,\u001b[0m\u001b[0;36m3\u001b[0m\u001b[0;34m}\u001b[0m\u001b[0;34m,\u001b[0m\u001b[0;34m{\u001b[0m\u001b[0;36m4\u001b[0m\u001b[0;34m,\u001b[0m\u001b[0;36m5\u001b[0m\u001b[0;34m}\u001b[0m\u001b[0;34m}\u001b[0m\u001b[0;34m\u001b[0m\u001b[0;34m\u001b[0m\u001b[0m\n\u001b[0m\u001b[1;32m      2\u001b[0m \u001b[0;34m\u001b[0m\u001b[0m\n\u001b[1;32m      3\u001b[0m \u001b[0ms1\u001b[0m\u001b[0;34m\u001b[0m\u001b[0;34m\u001b[0m\u001b[0m\n",
            "\u001b[0;31mTypeError\u001b[0m: unhashable type: 'set'"
          ]
        }
      ]
    },
    {
      "cell_type": "markdown",
      "source": [
        "# Concatenation and Repetition Operator\n",
        "\n",
        "1. set + set # not supported\n",
        "\n",
        "2. set * int # not supported\n",
        "\n",
        "\n",
        "## But Why ?\n",
        "\n",
        "In Python:\n",
        "\n",
        "Set + Set is not supported because sets are unordered collections and do not allow duplicates, so concatenation doesn't make sense.\n",
        "\n",
        "Set * int is not supported because repetition works with ordered sequences like lists or strings, not sets, which have unique unordered elements."
      ],
      "metadata": {
        "id": "lVEyJzolfEVB"
      }
    },
    {
      "cell_type": "markdown",
      "source": [
        "# Comparison Operator\n",
        "\n",
        "comparison operator is supported in set:\n",
        "\n",
        "s1 > s2\n",
        "\n",
        "s1 < s2\n",
        "\n",
        "s1 < = s2\n",
        "\n",
        "\n",
        "s1 > = s2\n",
        "\n",
        "s1 == s2\n",
        "\n",
        "s1 !== s2\n",
        "\n",
        "\n",
        "### Note:\n",
        "\n",
        "two set objectts are equal id thier elements are same, does not matter the order elements.\n"
      ],
      "metadata": {
        "id": "IuwbJPvzfpPx"
      }
    },
    {
      "cell_type": "code",
      "source": [
        "s1 = {1,2,3}\n",
        "s2 = {1,2,3}\n",
        "\n",
        "s1 == s2"
      ],
      "metadata": {
        "colab": {
          "base_uri": "https://localhost:8080/"
        },
        "id": "FppauQrMhANi",
        "outputId": "34510e25-a5e1-446f-8b30-94a7732e6965"
      },
      "execution_count": null,
      "outputs": [
        {
          "output_type": "execute_result",
          "data": {
            "text/plain": [
              "True"
            ]
          },
          "metadata": {},
          "execution_count": 31
        }
      ]
    },
    {
      "cell_type": "code",
      "source": [
        "s3 = {5, 4} #its first element is bigger\n",
        "\n",
        "s1 = {1,2, 3}\n",
        "\n",
        "s1>s3"
      ],
      "metadata": {
        "colab": {
          "base_uri": "https://localhost:8080/"
        },
        "id": "tr43eLKEhKRi",
        "outputId": "ab10e631-aa9b-4580-8c55-b154482feaca"
      },
      "execution_count": null,
      "outputs": [
        {
          "output_type": "execute_result",
          "data": {
            "text/plain": [
              "False"
            ]
          },
          "metadata": {},
          "execution_count": 32
        }
      ]
    },
    {
      "cell_type": "markdown",
      "source": [
        "# Set Object Methods: important\n",
        "\n",
        "add ( ) # add specified item in a set\n",
        "\n",
        "update ( ) # add iterables elements\n",
        "\n",
        "discard ( ) # remove item\n",
        "\n",
        "remove ( )\n",
        "\n",
        "intersection ( )\n",
        "\n",
        "union ( )\n",
        "\n",
        "clear ( )\n",
        "\n",
        "issubset ( )\n",
        "\n",
        "is superset ( )\n",
        "\n",
        "pop ( )"
      ],
      "metadata": {
        "id": "o_kp8vpxhcs5"
      }
    },
    {
      "cell_type": "markdown",
      "source": [
        "### in set no concept of indexing but due to these methods lik with the help of add( ) we can add elements in a set basically we can not indivially access elements from a set and 2nd set is mutable  we can do changes!\n",
        "\n",
        "but how we can insert , edit and delete will do?\n",
        "\n",
        "##think!\n",
        "\n",
        "how we can not delete a element with a del ?\n",
        "\n",
        "##think!\n",
        "\n",
        "As we are sying set is a mutable!\n",
        "\n",
        "and also we can surely say we can inser, edit and delete the elements from the set.\n",
        "\n",
        "but yes with the help of del we can not delete a element from the set this is due to indexing is not available in set."
      ],
      "metadata": {
        "id": "k4p_kGjIBdXO"
      }
    },
    {
      "cell_type": "code",
      "source": [
        "s1 = {1, 3, 5}\n",
        "\n",
        "s1.add(4) # position will any\n",
        "\n",
        "s1\n",
        "\n"
      ],
      "metadata": {
        "colab": {
          "base_uri": "https://localhost:8080/"
        },
        "id": "wIBKKYVkDb8u",
        "outputId": "935daaf8-97dd-4f90-9e39-22614e49c0ec"
      },
      "execution_count": null,
      "outputs": [
        {
          "output_type": "execute_result",
          "data": {
            "text/plain": [
              "{1, 3, 4, 5}"
            ]
          },
          "metadata": {},
          "execution_count": 34
        }
      ]
    },
    {
      "cell_type": "code",
      "source": [
        "s1 = {1, 3, 5}\n",
        "\n",
        "s1.add(3) # not will add lready in a set\n",
        "\n",
        "s1"
      ],
      "metadata": {
        "colab": {
          "base_uri": "https://localhost:8080/"
        },
        "id": "jmcAPXaaDsNd",
        "outputId": "a74b4296-8df5-4687-e04f-50efc6da2d7f"
      },
      "execution_count": null,
      "outputs": [
        {
          "output_type": "execute_result",
          "data": {
            "text/plain": [
              "{1, 3, 5}"
            ]
          },
          "metadata": {},
          "execution_count": 35
        }
      ]
    },
    {
      "cell_type": "markdown",
      "source": [
        "## add str hashable"
      ],
      "metadata": {
        "id": "FGi5P-hqD89W"
      }
    },
    {
      "cell_type": "code",
      "source": [
        "s1 = {1, 3, 5}\n",
        "\n",
        "s1.add('abc')\n",
        "\n",
        "s1"
      ],
      "metadata": {
        "colab": {
          "base_uri": "https://localhost:8080/"
        },
        "id": "Z4gfI7NUDzG4",
        "outputId": "5d3a996a-39de-4725-d9cf-b05777506058"
      },
      "execution_count": null,
      "outputs": [
        {
          "output_type": "execute_result",
          "data": {
            "text/plain": [
              "{1, 3, 5, 'abc'}"
            ]
          },
          "metadata": {},
          "execution_count": 36
        }
      ]
    },
    {
      "cell_type": "markdown",
      "source": [
        "## add tuple hashable"
      ],
      "metadata": {
        "id": "pTmEGdqeEAZJ"
      }
    },
    {
      "cell_type": "code",
      "source": [
        "s1 = {1, 3, 5}\n",
        "\n",
        "s1.add((33,44,66)) # position will be any no sequence\n",
        "\n",
        "s1"
      ],
      "metadata": {
        "colab": {
          "base_uri": "https://localhost:8080/"
        },
        "id": "-1fTB9PuEEJO",
        "outputId": "58be9996-d54f-4a31-f086-71c452d05263"
      },
      "execution_count": null,
      "outputs": [
        {
          "output_type": "execute_result",
          "data": {
            "text/plain": [
              "{(33, 44, 66), 1, 3, 5}"
            ]
          },
          "metadata": {},
          "execution_count": 37
        }
      ]
    },
    {
      "cell_type": "markdown",
      "source": [
        "update ( )\n",
        "\n",
        "Note:\n",
        "\n",
        "we can only pass iterables in a update ( )"
      ],
      "metadata": {
        "id": "NUfWgF7wER4-"
      }
    },
    {
      "cell_type": "code",
      "source": [
        "\n",
        "s1 = {1, 3, 5}\n",
        "\n",
        "s1.update(55)\n",
        "\n",
        "s1"
      ],
      "metadata": {
        "colab": {
          "base_uri": "https://localhost:8080/",
          "height": 211
        },
        "id": "o62L_3iqEbZ-",
        "outputId": "a29855f7-5fec-4776-bd09-1a09608ca003"
      },
      "execution_count": null,
      "outputs": [
        {
          "output_type": "error",
          "ename": "TypeError",
          "evalue": "'int' object is not iterable",
          "traceback": [
            "\u001b[0;31m---------------------------------------------------------------------------\u001b[0m",
            "\u001b[0;31mTypeError\u001b[0m                                 Traceback (most recent call last)",
            "\u001b[0;32m<ipython-input-38-ab7871ec61b0>\u001b[0m in \u001b[0;36m<cell line: 0>\u001b[0;34m()\u001b[0m\n\u001b[1;32m      1\u001b[0m \u001b[0ms1\u001b[0m \u001b[0;34m=\u001b[0m \u001b[0;34m{\u001b[0m\u001b[0;36m1\u001b[0m\u001b[0;34m,\u001b[0m \u001b[0;36m3\u001b[0m\u001b[0;34m,\u001b[0m \u001b[0;36m5\u001b[0m\u001b[0;34m}\u001b[0m\u001b[0;34m\u001b[0m\u001b[0;34m\u001b[0m\u001b[0m\n\u001b[1;32m      2\u001b[0m \u001b[0;34m\u001b[0m\u001b[0m\n\u001b[0;32m----> 3\u001b[0;31m \u001b[0ms1\u001b[0m\u001b[0;34m.\u001b[0m\u001b[0mupdate\u001b[0m\u001b[0;34m(\u001b[0m\u001b[0;36m55\u001b[0m\u001b[0;34m)\u001b[0m\u001b[0;34m\u001b[0m\u001b[0;34m\u001b[0m\u001b[0m\n\u001b[0m\u001b[1;32m      4\u001b[0m \u001b[0;34m\u001b[0m\u001b[0m\n\u001b[1;32m      5\u001b[0m \u001b[0ms1\u001b[0m\u001b[0;34m\u001b[0m\u001b[0;34m\u001b[0m\u001b[0m\n",
            "\u001b[0;31mTypeError\u001b[0m: 'int' object is not iterable"
          ]
        }
      ]
    },
    {
      "cell_type": "markdown",
      "source": [
        "### There will be a question we can not add list in a set because it in unhashable ?\n",
        "\n",
        "\n",
        "#### How here we are passing the list?"
      ],
      "metadata": {
        "id": "aMn0Adl5Eqwe"
      }
    },
    {
      "cell_type": "code",
      "source": [
        "\n",
        "s1 = {1, 3, 5}\n",
        "\n",
        "s1.update([12,34,56,77])\n",
        "\n",
        "s1"
      ],
      "metadata": {
        "colab": {
          "base_uri": "https://localhost:8080/"
        },
        "id": "eIpu9yzCEiRf",
        "outputId": "324f84ca-a5de-4149-dae1-e6d5b63cb499"
      },
      "execution_count": null,
      "outputs": [
        {
          "output_type": "execute_result",
          "data": {
            "text/plain": [
              "{1, 3, 5, 12, 34, 56, 77}"
            ]
          },
          "metadata": {},
          "execution_count": 39
        }
      ]
    },
    {
      "cell_type": "markdown",
      "source": [
        "#### Yes it is because of as we are not adding the list wr just updating the set with update ( ).\n",
        "\n",
        "## UPDATE ( )\n",
        "update is not trying to add the list in a set it is doing to make list element part of set elements."
      ],
      "metadata": {
        "id": "eTLHLL6iE_qO"
      }
    },
    {
      "cell_type": "markdown",
      "source": [
        "## in a set we can insert iterables and non- iterabels but we can not insert non hashable ."
      ],
      "metadata": {
        "id": "stArj4GvFtEe"
      }
    },
    {
      "cell_type": "code",
      "source": [
        "\n",
        "s1 = {1, 3, 5}\n",
        "\n",
        "s1.update((3,4), 'AA' , range(5,20,5),[12,34,56,77])\n",
        "\n",
        "s1"
      ],
      "metadata": {
        "colab": {
          "base_uri": "https://localhost:8080/"
        },
        "id": "Spvgw74qGK-w",
        "outputId": "7d5e48b4-38aa-4138-88d4-fdd7bbfd3105"
      },
      "execution_count": null,
      "outputs": [
        {
          "output_type": "execute_result",
          "data": {
            "text/plain": [
              "{1, 10, 12, 15, 3, 34, 4, 5, 56, 77, 'A'}"
            ]
          },
          "metadata": {},
          "execution_count": 40
        }
      ]
    },
    {
      "cell_type": "markdown",
      "source": [
        "# discard ( ) # remove item"
      ],
      "metadata": {
        "id": "9rt1wMf5GiwX"
      }
    },
    {
      "cell_type": "code",
      "source": [
        "s1 = {1, 3, 5}\n",
        "\n",
        "s1.discard(3)\n",
        "\n",
        "s1\n",
        "\n",
        "s1.discard(\"100\") # no error if we pass any value"
      ],
      "metadata": {
        "id": "oIGvz4neGp4_"
      },
      "execution_count": null,
      "outputs": []
    },
    {
      "cell_type": "markdown",
      "source": [
        "# remove ( )"
      ],
      "metadata": {
        "id": "4uuyDBHPG3yu"
      }
    },
    {
      "cell_type": "code",
      "source": [
        "s1 = {1, 3, 5}\n",
        "\n",
        "s1.remove(1)\n",
        "\n",
        "s1\n",
        "\n",
        "s1.remove(100) # it will gives the error will say 100 is not exists.\n"
      ],
      "metadata": {
        "colab": {
          "base_uri": "https://localhost:8080/",
          "height": 176
        },
        "id": "zmmlwNG0G5AO",
        "outputId": "9966564d-5c3f-4fc6-c72c-7e4e3104c5ae"
      },
      "execution_count": null,
      "outputs": [
        {
          "output_type": "error",
          "ename": "KeyError",
          "evalue": "100",
          "traceback": [
            "\u001b[0;31m---------------------------------------------------------------------------\u001b[0m",
            "\u001b[0;31mKeyError\u001b[0m                                  Traceback (most recent call last)",
            "\u001b[0;32m<ipython-input-50-336a757aaf25>\u001b[0m in \u001b[0;36m<cell line: 0>\u001b[0;34m()\u001b[0m\n\u001b[1;32m      5\u001b[0m \u001b[0ms1\u001b[0m\u001b[0;34m\u001b[0m\u001b[0;34m\u001b[0m\u001b[0m\n\u001b[1;32m      6\u001b[0m \u001b[0;34m\u001b[0m\u001b[0m\n\u001b[0;32m----> 7\u001b[0;31m \u001b[0ms1\u001b[0m\u001b[0;34m.\u001b[0m\u001b[0mremove\u001b[0m\u001b[0;34m(\u001b[0m\u001b[0;36m100\u001b[0m\u001b[0;34m)\u001b[0m \u001b[0;31m# it will gives the error will say 100 is not exists.\u001b[0m\u001b[0;34m\u001b[0m\u001b[0;34m\u001b[0m\u001b[0m\n\u001b[0m",
            "\u001b[0;31mKeyError\u001b[0m: 100"
          ]
        }
      ]
    },
    {
      "cell_type": "markdown",
      "source": [
        "# union ( )"
      ],
      "metadata": {
        "id": "MJSr0tTsHpF-"
      }
    },
    {
      "cell_type": "code",
      "source": [
        "s2 = {1,2,3}\n",
        "\n",
        "s3 = {3, 4,5}\n",
        "\n",
        "s2.union(s3) # elements are combined only unique will came and no repetition.\n",
        "\n",
        "# and also return a new set no will be change in s2 and s3 both remain same."
      ],
      "metadata": {
        "colab": {
          "base_uri": "https://localhost:8080/"
        },
        "id": "Xn3aqncsHrLW",
        "outputId": "eafba37a-ac4f-4129-cf1b-14bbe7ab7c95"
      },
      "execution_count": null,
      "outputs": [
        {
          "output_type": "execute_result",
          "data": {
            "text/plain": [
              "{1, 2, 3, 4, 5}"
            ]
          },
          "metadata": {},
          "execution_count": 51
        }
      ]
    },
    {
      "cell_type": "markdown",
      "source": [
        "# intersection ( )"
      ],
      "metadata": {
        "id": "vjp9BafcIPFv"
      }
    },
    {
      "cell_type": "code",
      "source": [
        "s2 = {1,2,3}\n",
        "\n",
        "s3 = {3, 2, 4,5}\n",
        "\n",
        "s2.intersection(s3) # return the common set of same vlaues by compareing bot sets.\n",
        "\n"
      ],
      "metadata": {
        "colab": {
          "base_uri": "https://localhost:8080/"
        },
        "id": "ywKccmwdIQlX",
        "outputId": "8802813c-201f-4d0b-f4bb-9c113efbbc23"
      },
      "execution_count": null,
      "outputs": [
        {
          "output_type": "execute_result",
          "data": {
            "text/plain": [
              "{2, 3}"
            ]
          },
          "metadata": {},
          "execution_count": 53
        }
      ]
    },
    {
      "cell_type": "markdown",
      "source": [
        "# clear ( )"
      ],
      "metadata": {
        "id": "B3Ug10fVIlnO"
      }
    },
    {
      "cell_type": "code",
      "source": [
        "\n",
        "\n",
        "s3 = {3, 2, 4,5}\n",
        "\n",
        "s3.clear() # will return empty set\n",
        "\n",
        "s3"
      ],
      "metadata": {
        "colab": {
          "base_uri": "https://localhost:8080/"
        },
        "id": "2q-GWoXHIpMe",
        "outputId": "c9e4f5f4-161e-4644-cd90-cea94dad0734"
      },
      "execution_count": null,
      "outputs": [
        {
          "output_type": "execute_result",
          "data": {
            "text/plain": [
              "set()"
            ]
          },
          "metadata": {},
          "execution_count": 54
        }
      ]
    },
    {
      "cell_type": "markdown",
      "source": [
        "# issubset ( )"
      ],
      "metadata": {
        "id": "fDHXAl1zI0Oo"
      }
    },
    {
      "cell_type": "code",
      "source": [
        "\n",
        "\n",
        "s3 = {3, 4,5}\n",
        "\n",
        "s1 = {1,2,3,4,5,10 ,56,100}\n",
        "\n",
        "s3.issubset(s1) # True yes s3 has all elements in s1 so s3 is subset of s1.\n",
        "\n"
      ],
      "metadata": {
        "colab": {
          "base_uri": "https://localhost:8080/"
        },
        "id": "Izq1_Ca8I7so",
        "outputId": "3c99aa79-e083-4afb-b53f-cc0186cc5294"
      },
      "execution_count": null,
      "outputs": [
        {
          "output_type": "execute_result",
          "data": {
            "text/plain": [
              "True"
            ]
          },
          "metadata": {},
          "execution_count": 55
        }
      ]
    },
    {
      "cell_type": "code",
      "source": [
        "\n",
        "s3 = {3, 4,5}\n",
        "\n",
        "s1 = {1,2,3,4,5,10 ,56,100}\n",
        "\n",
        "s1.issuperset(s3)\n",
        "\n",
        "#yes True it is a reverse of subset here in\n",
        "#s1 all same elements of s3 are available.\n"
      ],
      "metadata": {
        "colab": {
          "base_uri": "https://localhost:8080/"
        },
        "id": "PWaOpnQgJkBH",
        "outputId": "79ac4f1d-5e11-4e57-8288-5c4279f53ce5"
      },
      "execution_count": null,
      "outputs": [
        {
          "output_type": "execute_result",
          "data": {
            "text/plain": [
              "True"
            ]
          },
          "metadata": {},
          "execution_count": 57
        }
      ]
    },
    {
      "cell_type": "markdown",
      "source": [
        "# pop ( )"
      ],
      "metadata": {
        "id": "tK_VwkZwKiUe"
      }
    },
    {
      "cell_type": "code",
      "source": [
        "s1 = {1,2,3,4,5,10,56,100}\n",
        "\n",
        "s1.pop()\n",
        "s1"
      ],
      "metadata": {
        "colab": {
          "base_uri": "https://localhost:8080/"
        },
        "id": "1V9G0wL3Kjc3",
        "outputId": "0d367921-1469-469e-d2cf-c66e6e5dad9b"
      },
      "execution_count": null,
      "outputs": [
        {
          "output_type": "execute_result",
          "data": {
            "text/plain": [
              "{2, 3, 4, 5, 10, 56, 100}"
            ]
          },
          "metadata": {},
          "execution_count": 59
        }
      ]
    },
    {
      "cell_type": "code",
      "source": [
        "s1.pop()\n",
        "s1"
      ],
      "metadata": {
        "colab": {
          "base_uri": "https://localhost:8080/"
        },
        "id": "kv-LqGEvKsFP",
        "outputId": "f1d07aea-3d8f-4387-ba09-6faf771802c5"
      },
      "execution_count": null,
      "outputs": [
        {
          "output_type": "execute_result",
          "data": {
            "text/plain": [
              "{3, 4, 5, 10, 56, 100}"
            ]
          },
          "metadata": {},
          "execution_count": 62
        }
      ]
    },
    {
      "cell_type": "code",
      "source": [
        "s1.pop()\n",
        "s1"
      ],
      "metadata": {
        "colab": {
          "base_uri": "https://localhost:8080/"
        },
        "id": "3ZZeI0nRK2rm",
        "outputId": "b61e5718-3d0e-4c65-b98c-2c8315de67b1"
      },
      "execution_count": null,
      "outputs": [
        {
          "output_type": "execute_result",
          "data": {
            "text/plain": [
              "{4, 5, 10, 56, 100}"
            ]
          },
          "metadata": {},
          "execution_count": 63
        }
      ]
    },
    {
      "cell_type": "code",
      "source": [
        "s1.pop()\n",
        "s1"
      ],
      "metadata": {
        "colab": {
          "base_uri": "https://localhost:8080/"
        },
        "id": "Ehpi-6rsK3g2",
        "outputId": "9ea1da4a-414f-40b9-9eff-3f046433ed4b"
      },
      "execution_count": null,
      "outputs": [
        {
          "output_type": "execute_result",
          "data": {
            "text/plain": [
              "{5, 10, 56, 100}"
            ]
          },
          "metadata": {},
          "execution_count": 64
        }
      ]
    },
    {
      "cell_type": "markdown",
      "source": [
        "# Set Comprehension\n",
        "\n",
        "## Syntax:\n",
        "\n",
        "S1 = { expression for e in object }"
      ],
      "metadata": {
        "id": "ZlCjR-O2K83_"
      }
    },
    {
      "cell_type": "code",
      "source": [
        "s2 = {e**2 for e in range (1,6)} # it will make new set\n",
        "s2"
      ],
      "metadata": {
        "colab": {
          "base_uri": "https://localhost:8080/"
        },
        "id": "63nDW2zhMHG5",
        "outputId": "29ddd07f-ee34-4b3f-f754-44ba64c4931f"
      },
      "execution_count": null,
      "outputs": [
        {
          "output_type": "execute_result",
          "data": {
            "text/plain": [
              "{1, 4, 9, 16, 25}"
            ]
          },
          "metadata": {},
          "execution_count": 65
        }
      ]
    },
    {
      "cell_type": "code",
      "source": [
        "s = input(\"Enter a string \")\n",
        "\n",
        "s1 = {e for e in s if e in \"aeiou\"}\n",
        "\n",
        "s1"
      ],
      "metadata": {
        "colab": {
          "base_uri": "https://localhost:8080/"
        },
        "id": "OTTETkWrMptv",
        "outputId": "dba01da5-53bd-4e12-ff4f-75b8ccb43991"
      },
      "execution_count": null,
      "outputs": [
        {
          "name": "stdout",
          "output_type": "stream",
          "text": [
            "Enter a string suleman\n"
          ]
        },
        {
          "output_type": "execute_result",
          "data": {
            "text/plain": [
              "{'a', 'e', 'u'}"
            ]
          },
          "metadata": {},
          "execution_count": 69
        }
      ]
    },
    {
      "cell_type": "markdown",
      "source": [
        "# user input in set"
      ],
      "metadata": {
        "id": "ZMJaTSSzNKAZ"
      }
    },
    {
      "cell_type": "code",
      "source": [
        "s = input(\"Enter elements separated by comma \")\n",
        "\n",
        "s1= {eval(e) for e in s.split(',')}\n",
        "\n",
        "s1"
      ],
      "metadata": {
        "colab": {
          "base_uri": "https://localhost:8080/"
        },
        "id": "v4g7V-JhNLbh",
        "outputId": "82b20e65-cc84-4c87-e8a2-5e84daffc4a6"
      },
      "execution_count": null,
      "outputs": [
        {
          "name": "stdout",
          "output_type": "stream",
          "text": [
            "Enter elements separated by comma 34,4.5, True, 4+5j\n"
          ]
        },
        {
          "output_type": "execute_result",
          "data": {
            "text/plain": [
              "{(4+5j), 34, 4.5, True}"
            ]
          },
          "metadata": {},
          "execution_count": 76
        }
      ]
    },
    {
      "cell_type": "markdown",
      "source": [
        "# eval function\n",
        "\n",
        "The eval() function in Python:\n",
        "\n",
        "It executes a string as a Python expression and returns the result.\n",
        "\n",
        "It can evaluate mathematical expressions, variables, or functions.\n",
        "\n",
        "Example:\n",
        "\n",
        "x = 5\n",
        "result = eval(\"x + 10\")  # Output: 15"
      ],
      "metadata": {
        "id": "h3cE85U0PAKf"
      }
    },
    {
      "cell_type": "code",
      "source": [
        "eval ('5+6')"
      ],
      "metadata": {
        "colab": {
          "base_uri": "https://localhost:8080/"
        },
        "id": "hAqmx3lJPD8f",
        "outputId": "096a7ee2-2125-4bff-91ab-fff0541fb68e"
      },
      "execution_count": null,
      "outputs": [
        {
          "output_type": "execute_result",
          "data": {
            "text/plain": [
              "11"
            ]
          },
          "metadata": {},
          "execution_count": 77
        }
      ]
    },
    {
      "cell_type": "code",
      "source": [
        "eval ('5+6')"
      ],
      "metadata": {
        "colab": {
          "base_uri": "https://localhost:8080/"
        },
        "id": "qFir-W-0PG4P",
        "outputId": "97df3ed5-4744-4d84-b824-a970cfd65c82"
      },
      "execution_count": null,
      "outputs": [
        {
          "output_type": "execute_result",
          "data": {
            "text/plain": [
              "4.6"
            ]
          },
          "metadata": {},
          "execution_count": 78
        }
      ]
    },
    {
      "cell_type": "code",
      "source": [
        "eval ('abc')"
      ],
      "metadata": {
        "colab": {
          "base_uri": "https://localhost:8080/",
          "height": 176
        },
        "id": "QR3POEwiPLfK",
        "outputId": "2e180244-9882-49cc-9309-61a8d31947a9"
      },
      "execution_count": null,
      "outputs": [
        {
          "output_type": "error",
          "ename": "NameError",
          "evalue": "name 'abc' is not defined",
          "traceback": [
            "\u001b[0;31m---------------------------------------------------------------------------\u001b[0m",
            "\u001b[0;31mNameError\u001b[0m                                 Traceback (most recent call last)",
            "\u001b[0;32m<ipython-input-79-17c319fa1292>\u001b[0m in \u001b[0;36m<cell line: 0>\u001b[0;34m()\u001b[0m\n\u001b[0;32m----> 1\u001b[0;31m \u001b[0meval\u001b[0m \u001b[0;34m(\u001b[0m\u001b[0;34m'abc'\u001b[0m\u001b[0;34m)\u001b[0m\u001b[0;34m\u001b[0m\u001b[0;34m\u001b[0m\u001b[0m\n\u001b[0m",
            "\u001b[0;32m<string>\u001b[0m in \u001b[0;36m<module>\u001b[0;34m\u001b[0m\n",
            "\u001b[0;31mNameError\u001b[0m: name 'abc' is not defined"
          ]
        }
      ]
    },
    {
      "cell_type": "code",
      "source": [
        "eval ('1')"
      ],
      "metadata": {
        "colab": {
          "base_uri": "https://localhost:8080/"
        },
        "id": "9hUn1e-3POGB",
        "outputId": "238122c6-7fdc-4c0e-9d11-5f07abebe159"
      },
      "execution_count": null,
      "outputs": [
        {
          "output_type": "execute_result",
          "data": {
            "text/plain": [
              "1"
            ]
          },
          "metadata": {},
          "execution_count": 80
        }
      ]
    },
    {
      "cell_type": "markdown",
      "source": [
        "# frozen set\n",
        "\n",
        "1. A set is a mutable object while frozen set provides on immutable implementation.\n",
        "\n",
        "2. Other things are similar to set. in which no changes we can do."
      ],
      "metadata": {
        "id": "AT-eBXuJPk7v"
      }
    },
    {
      "cell_type": "code",
      "source": [
        "# want to edit the element but we can not edit it.\n",
        "\n",
        "#this is only way.\n",
        "\n",
        "\n",
        "# FIRST WE REMOVE THE value then add the new value\n",
        "s1 = {1,2,3,4,5,10,56,100}\n",
        "\n",
        "s1.remove(5)\n",
        "\n",
        "s1\n",
        "\n",
        "s1.add(11)\n",
        "\n",
        "s1"
      ],
      "metadata": {
        "colab": {
          "base_uri": "https://localhost:8080/"
        },
        "id": "pZcgMMqzQBpf",
        "outputId": "84a6ba9a-f3b8-47a9-d47f-b64eb1ab3f1d"
      },
      "execution_count": null,
      "outputs": [
        {
          "output_type": "execute_result",
          "data": {
            "text/plain": [
              "{1, 2, 3, 4, 10, 11, 56, 100}"
            ]
          },
          "metadata": {},
          "execution_count": 84
        }
      ]
    }
  ]
}